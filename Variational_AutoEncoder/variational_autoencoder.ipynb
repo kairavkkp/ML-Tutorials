{
  "nbformat": 4,
  "nbformat_minor": 0,
  "metadata": {
    "kernelspec": {
      "display_name": "Python 3",
      "language": "python",
      "name": "python3"
    },
    "language_info": {
      "codemirror_mode": {
        "name": "ipython",
        "version": 3
      },
      "file_extension": ".py",
      "mimetype": "text/x-python",
      "name": "python",
      "nbconvert_exporter": "python",
      "pygments_lexer": "ipython3",
      "version": "3.7.4"
    },
    "colab": {
      "name": "variational_autoencoder.ipynb",
      "provenance": []
    }
  },
  "cells": [
    {
      "cell_type": "code",
      "metadata": {
        "id": "aK23jsC5thp9",
        "outputId": "0edfc16f-e8fc-4a25-abe3-c02c058cb938",
        "colab": {
          "base_uri": "https://localhost:8080/"
        }
      },
      "source": [
        "# installing neccesory dependency\n",
        "!pip install -q tensorflow-probability\n",
        "!pip install -q imageio\n",
        "!pip install -q git+https://github.com/tensorflow/docs"
      ],
      "execution_count": 27,
      "outputs": [
        {
          "output_type": "stream",
          "text": [
            "  Building wheel for tensorflow-docs (setup.py) ... \u001b[?25l\u001b[?25hdone\n"
          ],
          "name": "stdout"
        }
      ]
    },
    {
      "cell_type": "code",
      "metadata": {
        "id": "E4Pk4kwmuqqC"
      },
      "source": [
        "# importing librery\n",
        "from IPython import display\n",
        "import glob\n",
        "import imageio\n",
        "import matplotlib.pyplot as plt\n",
        "import numpy as np\n",
        "import PIL\n",
        "import time\n",
        "import tensorflow as tf\n",
        "import tensorflow_probability as tfp"
      ],
      "execution_count": 28,
      "outputs": []
    },
    {
      "cell_type": "code",
      "metadata": {
        "id": "S3JcNJOHvQla"
      },
      "source": [
        "# loading dataset\n",
        "(train_images, _), (test_images, _) = tf.keras.datasets.mnist.load_data()"
      ],
      "execution_count": 29,
      "outputs": []
    },
    {
      "cell_type": "code",
      "metadata": {
        "id": "cL7scUnD-9l7",
        "outputId": "3ce4cb04-a096-4652-d15b-14b30ea7d278",
        "colab": {
          "base_uri": "https://localhost:8080/"
        }
      },
      "source": [
        "type(train_images)"
      ],
      "execution_count": 30,
      "outputs": [
        {
          "output_type": "execute_result",
          "data": {
            "text/plain": [
              "numpy.ndarray"
            ]
          },
          "metadata": {
            "tags": []
          },
          "execution_count": 30
        }
      ]
    },
    {
      "cell_type": "code",
      "metadata": {
        "id": "RqkjeWLY_BUx",
        "outputId": "85aee787-d70f-4282-b251-ba4c4f29b007",
        "colab": {
          "base_uri": "https://localhost:8080/"
        }
      },
      "source": [
        "train_images.shape"
      ],
      "execution_count": 31,
      "outputs": [
        {
          "output_type": "execute_result",
          "data": {
            "text/plain": [
              "(60000, 28, 28)"
            ]
          },
          "metadata": {
            "tags": []
          },
          "execution_count": 31
        }
      ]
    },
    {
      "cell_type": "code",
      "metadata": {
        "id": "9Dia1OiWAmtJ",
        "outputId": "b8f65594-cd1d-437b-8d3c-1f3ebcb9612a",
        "colab": {
          "base_uri": "https://localhost:8080/"
        }
      },
      "source": [
        "train_images.shape[0]"
      ],
      "execution_count": 32,
      "outputs": [
        {
          "output_type": "execute_result",
          "data": {
            "text/plain": [
              "60000"
            ]
          },
          "metadata": {
            "tags": []
          },
          "execution_count": 32
        }
      ]
    },
    {
      "cell_type": "code",
      "metadata": {
        "id": "aVr_q2xLA3ZI"
      },
      "source": [
        ""
      ],
      "execution_count": 32,
      "outputs": []
    },
    {
      "cell_type": "code",
      "metadata": {
        "id": "u1AAu0ZYvQiy"
      },
      "source": [
        "# function for doing preprocessing\n",
        "def preprocess_image(images):\n",
        "  images = images.reshape(images.shape[0], 28,28,1) / 255.0 \n",
        "  return np.where(images > 0.5, 1.0, 0.0)"
      ],
      "execution_count": 33,
      "outputs": []
    },
    {
      "cell_type": "code",
      "metadata": {
        "id": "jmqFjlkNvQf3"
      },
      "source": [
        "train_images = preprocess_image(train_images)\n",
        "test_images = preprocess_image(test_images)"
      ],
      "execution_count": 34,
      "outputs": []
    },
    {
      "cell_type": "code",
      "metadata": {
        "id": "lbRUhfRfvQdE",
        "outputId": "4576d316-e020-4b59-a5f1-023b892f3a8a",
        "colab": {
          "base_uri": "https://localhost:8080/"
        }
      },
      "source": [
        "train_images.shape"
      ],
      "execution_count": 35,
      "outputs": [
        {
          "output_type": "execute_result",
          "data": {
            "text/plain": [
              "(60000, 28, 28, 1)"
            ]
          },
          "metadata": {
            "tags": []
          },
          "execution_count": 35
        }
      ]
    },
    {
      "cell_type": "code",
      "metadata": {
        "id": "3vYNSfaRvQZm",
        "outputId": "5e605feb-a56f-4bdc-8ad6-6ab4a6be2f23",
        "colab": {
          "base_uri": "https://localhost:8080/"
        }
      },
      "source": [
        "test_images.shape"
      ],
      "execution_count": 36,
      "outputs": [
        {
          "output_type": "execute_result",
          "data": {
            "text/plain": [
              "(10000, 28, 28, 1)"
            ]
          },
          "metadata": {
            "tags": []
          },
          "execution_count": 36
        }
      ]
    },
    {
      "cell_type": "code",
      "metadata": {
        "id": "TACzOewJCBnA"
      },
      "source": [
        "# defining variables\n",
        "train_size = 60000\n",
        "test_size = 10000\n",
        "batch_size = 32"
      ],
      "execution_count": 37,
      "outputs": []
    },
    {
      "cell_type": "code",
      "metadata": {
        "id": "oIFSbpjlCBkQ"
      },
      "source": [
        "# transforming numpy array to tf.dataset so it can be proceesed by tensorflow faster then shuffling and creating batch\n",
        "train_dataset = (tf.data.Dataset.from_tensor_slices(train_images).shuffle(train_size).batch(batch_size))\n",
        "test_dataset = (tf.data.Dataset.from_tensor_slices(test_images).shuffle(test_size).batch(batch_size) )"
      ],
      "execution_count": 39,
      "outputs": []
    },
    {
      "cell_type": "code",
      "metadata": {
        "id": "2nrQgV9bCBh-"
      },
      "source": [
        "# creating Convolutional Variational AutoEncoder\n",
        "class CVAE(tf.keras.Model):\n",
        "  def __int__(self, latent_dim):\n",
        "    super(CVAE.self)__init__()\n",
        "    self.latent_dim = latent_dim\n",
        "    self.encoder = tf.keras.models.Sequential([\n",
        "        tf.keras.layers.InputLayer(input_shape=(28,28,1)).\n",
        "        tf.keras.layers.Conv2D(\n",
        "            filters=32, kernel_size=3, strides=(2,2), activation='relu'\n",
        "        ),\n",
        "        tf.keras.layers.Conv2D(\n",
        "            filters=64, kernel_size=3, strides=(2,2), activation='relu'\n",
        "        )\n",
        "        tf.keras.layers.Flatten()\n",
        "        # No activation\n",
        "        tf.keras.layers.Dense(latent_dim + latent_dim)\n",
        "    ])\n",
        "  self.decoder = tf.keras.layers.Sequential([\n",
        "      tf.keras.layers.InputLayer(input_shape=(latent_dim,)),\n",
        "      tf.keras.layers.Dense(units=7*7*32, activation='relu'),\n",
        "      tf.keras.layers.Reshape(target_shape=(7,7,32)),\n",
        "      tf.keras.layers.Conv2DTranspose(\n",
        "          filters=64, kernel_size=3, strides=2, padding='same',\n",
        "          activation='relu'\n",
        "      )\n",
        "      tf.keras.layers.Conv2DTranspose(\n",
        "          filters=32, kernel_size=3, strides=2, padding='same'),\n",
        "          activation='relu'\n",
        "      ),\n",
        "      tf.keras.layers.Conv2DTranspose(\n",
        "          filters=1, kernel_size=3, strides=1, padding='same'\n",
        "      )\n",
        "  ])\n",
        "\n",
        "  @tf.function\n",
        "  def sample(self, eps=None):\n",
        "    if eps in None:\n",
        "      eps = tf.random.normal(shape=(100, self.latent_dim))\n",
        "    return self.decode(eps, apply_sigmoid=True)\n",
        "  \n",
        "  "
      ],
      "execution_count": null,
      "outputs": []
    },
    {
      "cell_type": "code",
      "metadata": {
        "id": "5O3nCLDoCBfb"
      },
      "source": [
        ""
      ],
      "execution_count": null,
      "outputs": []
    },
    {
      "cell_type": "code",
      "metadata": {
        "id": "5xlQ6JPuCBc3"
      },
      "source": [
        ""
      ],
      "execution_count": null,
      "outputs": []
    },
    {
      "cell_type": "code",
      "metadata": {
        "id": "stwh6NJbCBaM"
      },
      "source": [
        ""
      ],
      "execution_count": null,
      "outputs": []
    },
    {
      "cell_type": "code",
      "metadata": {
        "id": "A7mw1nXTCBXg"
      },
      "source": [
        ""
      ],
      "execution_count": null,
      "outputs": []
    },
    {
      "cell_type": "code",
      "metadata": {
        "id": "GHH0JV3oCBVC"
      },
      "source": [
        ""
      ],
      "execution_count": null,
      "outputs": []
    },
    {
      "cell_type": "code",
      "metadata": {
        "id": "p3r1qUHTCBR7"
      },
      "source": [
        ""
      ],
      "execution_count": null,
      "outputs": []
    }
  ]
}