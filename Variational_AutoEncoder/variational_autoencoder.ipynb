{
  "nbformat": 4,
  "nbformat_minor": 0,
  "metadata": {
    "kernelspec": {
      "display_name": "Python 3",
      "language": "python",
      "name": "python3"
    },
    "language_info": {
      "codemirror_mode": {
        "name": "ipython",
        "version": 3
      },
      "file_extension": ".py",
      "mimetype": "text/x-python",
      "name": "python",
      "nbconvert_exporter": "python",
      "pygments_lexer": "ipython3",
      "version": "3.7.4"
    },
    "colab": {
      "name": "variational_autoencoder.ipynb",
      "provenance": []
    }
  },
  "cells": [
    {
      "cell_type": "code",
      "metadata": {
        "colab": {
          "base_uri": "https://localhost:8080/"
        },
        "id": "ftwI6lF6Mixb",
        "outputId": "f0ad0e56-e01a-457c-86cb-07984179405b"
      },
      "source": [
        "!nvidia-smi"
      ],
      "execution_count": 1,
      "outputs": [
        {
          "output_type": "stream",
          "text": [
            "NVIDIA-SMI has failed because it couldn't communicate with the NVIDIA driver. Make sure that the latest NVIDIA driver is installed and running.\n",
            "\n"
          ],
          "name": "stdout"
        }
      ]
    },
    {
      "cell_type": "code",
      "metadata": {
        "id": "aK23jsC5thp9",
        "colab": {
          "base_uri": "https://localhost:8080/"
        },
        "outputId": "57651580-60de-431e-f456-501794d89492"
      },
      "source": [
        "# installing neccesory dependency\n",
        "!pip install -q tensorflow-probability\n",
        "!pip install -q imageio\n",
        "!pip install -q git+https://github.com/tensorflow/docs"
      ],
      "execution_count": 2,
      "outputs": [
        {
          "output_type": "stream",
          "text": [
            "  Building wheel for tensorflow-docs (setup.py) ... \u001b[?25l\u001b[?25hdone\n"
          ],
          "name": "stdout"
        }
      ]
    },
    {
      "cell_type": "code",
      "metadata": {
        "id": "E4Pk4kwmuqqC"
      },
      "source": [
        "# importing librery\n",
        "from IPython import display\n",
        "import glob\n",
        "import imageio\n",
        "import matplotlib.pyplot as plt\n",
        "import numpy as np\n",
        "import PIL\n",
        "import time\n",
        "import tensorflow as tf\n",
        "import tensorflow_probability as tfp"
      ],
      "execution_count": 3,
      "outputs": []
    },
    {
      "cell_type": "code",
      "metadata": {
        "id": "S3JcNJOHvQla"
      },
      "source": [
        "# loading dataset\n",
        "(train_images, _), (test_images, _) = tf.keras.datasets.mnist.load_data()"
      ],
      "execution_count": 4,
      "outputs": []
    },
    {
      "cell_type": "code",
      "metadata": {
        "id": "cL7scUnD-9l7",
        "colab": {
          "base_uri": "https://localhost:8080/"
        },
        "outputId": "9e277bad-e7e5-4520-af69-ea7fb003cb9e"
      },
      "source": [
        "type(train_images)"
      ],
      "execution_count": 5,
      "outputs": [
        {
          "output_type": "execute_result",
          "data": {
            "text/plain": [
              "numpy.ndarray"
            ]
          },
          "metadata": {
            "tags": []
          },
          "execution_count": 5
        }
      ]
    },
    {
      "cell_type": "code",
      "metadata": {
        "id": "RqkjeWLY_BUx",
        "colab": {
          "base_uri": "https://localhost:8080/"
        },
        "outputId": "dd994160-179b-405a-c6d1-53345f60e926"
      },
      "source": [
        "train_images.shape"
      ],
      "execution_count": 6,
      "outputs": [
        {
          "output_type": "execute_result",
          "data": {
            "text/plain": [
              "(60000, 28, 28)"
            ]
          },
          "metadata": {
            "tags": []
          },
          "execution_count": 6
        }
      ]
    },
    {
      "cell_type": "code",
      "metadata": {
        "id": "9Dia1OiWAmtJ",
        "colab": {
          "base_uri": "https://localhost:8080/"
        },
        "outputId": "30095a8b-16fd-4558-917e-b79b6944ee1e"
      },
      "source": [
        "train_images.shape[0]"
      ],
      "execution_count": 7,
      "outputs": [
        {
          "output_type": "execute_result",
          "data": {
            "text/plain": [
              "60000"
            ]
          },
          "metadata": {
            "tags": []
          },
          "execution_count": 7
        }
      ]
    },
    {
      "cell_type": "code",
      "metadata": {
        "id": "aVr_q2xLA3ZI"
      },
      "source": [
        ""
      ],
      "execution_count": 7,
      "outputs": []
    },
    {
      "cell_type": "code",
      "metadata": {
        "id": "u1AAu0ZYvQiy"
      },
      "source": [
        "# function for doing preprocessing\n",
        "def preprocess_image(images):\n",
        "  images = images.reshape(images.shape[0], 28,28,1) / 255.0 \n",
        "  return np.where(images > 0.5, 1.0, 0.0).astype('float32')"
      ],
      "execution_count": 8,
      "outputs": []
    },
    {
      "cell_type": "code",
      "metadata": {
        "id": "jmqFjlkNvQf3"
      },
      "source": [
        "train_images = preprocess_image(train_images)\n",
        "test_images = preprocess_image(test_images)"
      ],
      "execution_count": 9,
      "outputs": []
    },
    {
      "cell_type": "code",
      "metadata": {
        "id": "lbRUhfRfvQdE",
        "colab": {
          "base_uri": "https://localhost:8080/"
        },
        "outputId": "a5e813b2-97cc-405c-d629-9e69754dcf94"
      },
      "source": [
        "train_images.shape"
      ],
      "execution_count": 10,
      "outputs": [
        {
          "output_type": "execute_result",
          "data": {
            "text/plain": [
              "(60000, 28, 28, 1)"
            ]
          },
          "metadata": {
            "tags": []
          },
          "execution_count": 10
        }
      ]
    },
    {
      "cell_type": "code",
      "metadata": {
        "id": "3vYNSfaRvQZm",
        "colab": {
          "base_uri": "https://localhost:8080/"
        },
        "outputId": "8aff5b9b-0c7b-4277-a94b-7a5ddc1c77ed"
      },
      "source": [
        "test_images.shape"
      ],
      "execution_count": 11,
      "outputs": [
        {
          "output_type": "execute_result",
          "data": {
            "text/plain": [
              "(10000, 28, 28, 1)"
            ]
          },
          "metadata": {
            "tags": []
          },
          "execution_count": 11
        }
      ]
    },
    {
      "cell_type": "code",
      "metadata": {
        "id": "TACzOewJCBnA"
      },
      "source": [
        "# defining variables\n",
        "train_size = 60000\n",
        "test_size = 10000\n",
        "batch_size = 32"
      ],
      "execution_count": 12,
      "outputs": []
    },
    {
      "cell_type": "code",
      "metadata": {
        "id": "oIFSbpjlCBkQ"
      },
      "source": [
        "# transforming numpy array to tf.dataset so it can be proceesed by tensorflow faster then shuffling and creating batch\n",
        "train_dataset = (tf.data.Dataset.from_tensor_slices(train_images).shuffle(train_size).batch(batch_size))\n",
        "test_dataset = (tf.data.Dataset.from_tensor_slices(test_images).shuffle(test_size).batch(batch_size) )"
      ],
      "execution_count": 13,
      "outputs": []
    },
    {
      "cell_type": "code",
      "metadata": {
        "id": "2nrQgV9bCBh-"
      },
      "source": [
        "# creating Convolutional Variational AutoEncoder\n",
        "class CVAE(tf.keras.Model):\n",
        "  def __init__(self, latent_dim):\n",
        "    super(CVAE, self).__init__()\n",
        "    self.latent_dim = latent_dim\n",
        "    self.encoder = tf.keras.Sequential([\n",
        "      tf.keras.layers.InputLayer(input_shape=(28,28,1)),\n",
        "      tf.keras.layers.Conv2D(\n",
        "          filters=32, kernel_size=3, strides=(2,2), activation='relu'\n",
        "      ),\n",
        "      tf.keras.layers.Conv2D(\n",
        "          filters=64, kernel_size=3, strides=(2,2), activation='relu'\n",
        "      ),\n",
        "      tf.keras.layers.Flatten(),\n",
        "      # No activation\n",
        "      tf.keras.layers.Dense(latent_dim + latent_dim)\n",
        "    ])\n",
        "    self.decoder = tf.keras.Sequential(\n",
        "    [\n",
        "      tf.keras.layers.InputLayer(input_shape=(latent_dim,)),\n",
        "      tf.keras.layers.Dense(units=7*7*32, activation='relu'),\n",
        "      tf.keras.layers.Reshape(target_shape=(7,7,32)),\n",
        "      tf.keras.layers.Conv2DTranspose(\n",
        "          filters=64, kernel_size=3, strides=2, padding='same',\n",
        "          activation='relu'\n",
        "      ),\n",
        "      tf.keras.layers.Conv2DTranspose(\n",
        "          filters=32, kernel_size=3, strides=2, padding='same',\n",
        "          activation='relu'\n",
        "      ),\n",
        "      # no activation\n",
        "      tf.keras.layers.Conv2DTranspose(  \n",
        "          filters=1, kernel_size=3, strides=1, padding='same'\n",
        "      )\n",
        "    ]\n",
        "    )\n",
        "\n",
        "  @tf.function\n",
        "  def sample(self, eps=None):\n",
        "    if eps in None:\n",
        "      eps = tf.random.normal(shape=(100, self.latent_dim))\n",
        "    return self.decode(eps, apply_sigmoid=True)\n",
        "  \n",
        "  def encode(self, x):\n",
        "    mean, logvar = tf.split(self.encoder(x), num_or_size_splits=2, axis=1)\n",
        "    return mean, logvar\n",
        "  \n",
        "  def reparameterize(self, mean, logvar):\n",
        "    eps = tf.random.normal(shape=mean.shape)\n",
        "    return eps * tf.exp(logvar * 0.5) + mean\n",
        "  \n",
        "  def decode(self, z, apply_sigmoid=False):\n",
        "    logits = self.decoder(z)\n",
        "    if apply_sigmoid:\n",
        "      probs = tf.sigmoid(logits)\n",
        "      return probs\n",
        "    return logits\n",
        "    "
      ],
      "execution_count": 108,
      "outputs": []
    },
    {
      "cell_type": "code",
      "metadata": {
        "id": "5O3nCLDoCBfb"
      },
      "source": [
        "# defining optimiser\n",
        "optimizer = tf.keras.optimizers.Adam(1e-4)\n",
        "\n",
        "def log_normal_pdf(sample, mean, logvar, raxis=1):\n",
        "  log2pi = tf.math.log(2. * np.pi)\n",
        "  return tf.reduce_sum(\n",
        "      -.5 * ((sample - mean) ** 2. * tf.exp(-logvar) + logvar + log2pi),\n",
        "  axis=raxis)\n",
        "\n",
        "\n",
        "def compute_loss(model, x):\n",
        "  mean, logvar = model.encode(x)\n",
        "  z = model.reparameterize(mean, logvar)\n",
        "  x_logit = model.decode(z)\n",
        "  cross_ent = tf.nn.sigmoid_cross_entropy_with_logits(logits=x_logit, labels=x)\n",
        "  logpx_z = -tf.reduce_sum(cross_ent, axis=[1,2,3])\n",
        "  logpz = log_normal_pdf(z, 0., 0.)\n",
        "  logqz_x = log_normal_pdf(z, mean, logvar)\n",
        "  return -tf.reduce_mean(logpx_z + logpz - logqz_x)\n",
        "\n",
        "@tf.function\n",
        "def train_step(model, x, optimizer):\n",
        "  with tf.GradientTape() as tape:\n",
        "    loss = compute_loss(model, x)\n",
        "  gradients = tape.gradient(loss, model.trainable_variables)\n",
        "  optimizer.apply_gradient(zip(gradients, model.trainable_variables))\n"
      ],
      "execution_count": 109,
      "outputs": []
    },
    {
      "cell_type": "code",
      "metadata": {
        "id": "5xlQ6JPuCBc3"
      },
      "source": [
        "epochs = 10\n",
        "latent_dim = 2\n",
        "num_examples_to_generate = 16"
      ],
      "execution_count": 110,
      "outputs": []
    },
    {
      "cell_type": "code",
      "metadata": {
        "id": "stwh6NJbCBaM"
      },
      "source": [
        "ramdom_vector_for_generation = tf.random.normal(\n",
        "    shape=[num_examples_to_generate, latent_dim]\n",
        ")\n",
        "model = CVAE(latent_dim)"
      ],
      "execution_count": 111,
      "outputs": []
    },
    {
      "cell_type": "code",
      "metadata": {
        "id": "A7mw1nXTCBXg"
      },
      "source": [
        "def generate_and_save_images(model, epochs, test_sample):\n",
        "  mean, logvar = model.encode(test_sample)\n",
        "  z = model.reparameterize(mean, logvar)\n",
        "  prediction = model.decode(z)\n",
        "\n",
        "  fig = plt.figure(figsize=(4,4))\n",
        "\n",
        "  for i in range(prediction.shape[0]):\n",
        "    plt.subplot(4,4, i+1)\n",
        "    plt.imshow(prediction[i, :,:, 0], cmap='gray')\n",
        "    plt.axis('off')\n",
        "  \n",
        "  plt.savefig('image_at_epoch_{:04d}.png'.format(epochs))\n",
        "  plt.show()"
      ],
      "execution_count": 112,
      "outputs": []
    },
    {
      "cell_type": "code",
      "metadata": {
        "id": "GHH0JV3oCBVC"
      },
      "source": [
        "assert batch_size >= num_examples_to_generate\n",
        "for test_batch in test_dataset.take(1):\n",
        "  test_sample = test_batch[0:num_examples_to_generate, :, :, :]"
      ],
      "execution_count": 113,
      "outputs": []
    },
    {
      "cell_type": "code",
      "metadata": {
        "id": "0013teg-V7kR",
        "outputId": "37d0b6bc-dc9d-4c66-f4f2-badee893dfac",
        "colab": {
          "base_uri": "https://localhost:8080/",
          "height": 247
        }
      },
      "source": [
        "generate_and_save_images(model, 1, test_sample)"
      ],
      "execution_count": 116,
      "outputs": [
        {
          "output_type": "display_data",
          "data": {
            "image/png": "[encoded data removed]",
            "text/plain": [
              "<Figure size 288x288 with 16 Axes>"
            ]
          },
          "metadata": {
            "tags": [],
            "needs_background": "light"
          }
        }
      ]
    },
    {
      "cell_type": "code",
      "metadata": {
        "id": "G7kpOkM_ImBF"
      },
      "source": [
        "for epoch in range(1, epochs+1):\n",
        "  start_time = time.time()\n",
        "  for train_x in train_dataset:\n",
        "    train_step(model, train_x, optimizer)\n",
        "  end_time = time.time()\n",
        "\n"
      ],
      "execution_count": 115,
      "outputs": []
    },
    {
      "cell_type": "code",
      "metadata": {
        "id": "Dl71hSHaIl4M"
      },
      "source": [
        ""
      ],
      "execution_count": 115,
      "outputs": []
    },
    {
      "cell_type": "code",
      "metadata": {
        "id": "l3bbQ3ybIl1z"
      },
      "source": [
        ""
      ],
      "execution_count": 115,
      "outputs": []
    },
    {
      "cell_type": "code",
      "metadata": {
        "id": "pp0QkcVyIlyb"
      },
      "source": [
        ""
      ],
      "execution_count": 115,
      "outputs": []
    },
    {
      "cell_type": "code",
      "metadata": {
        "id": "W0AADe8eIlwF"
      },
      "source": [
        ""
      ],
      "execution_count": 115,
      "outputs": []
    },
    {
      "cell_type": "code",
      "metadata": {
        "id": "9G2ClCesIltO"
      },
      "source": [
        ""
      ],
      "execution_count": 115,
      "outputs": []
    },
    {
      "cell_type": "code",
      "metadata": {
        "id": "5Iyk3a_9Ilqg"
      },
      "source": [
        ""
      ],
      "execution_count": 115,
      "outputs": []
    },
    {
      "cell_type": "code",
      "metadata": {
        "id": "RVqAhwyLIlnr"
      },
      "source": [
        ""
      ],
      "execution_count": 115,
      "outputs": []
    },
    {
      "cell_type": "code",
      "metadata": {
        "id": "AQ6AB3AeIlk7"
      },
      "source": [
        ""
      ],
      "execution_count": 115,
      "outputs": []
    }
  ]
}