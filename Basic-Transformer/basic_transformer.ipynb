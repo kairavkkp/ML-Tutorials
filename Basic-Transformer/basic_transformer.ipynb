{
  "nbformat": 4,
  "nbformat_minor": 0,
  "metadata": {
    "colab": {
      "name": "basic_transformer.ipynb",
      "provenance": [],
      "include_colab_link": true
    },
    "accelerator": "GPU",
    "language_info": {
      "name": "python"
    },
    "kernelspec": {
      "name": "python3",
      "display_name": "Python 3"
    }
  },
  "cells": [
    {
      "cell_type": "markdown",
      "metadata": {
        "id": "view-in-github",
        "colab_type": "text"
      },
      "source": [
        "<a href=\"https://colab.research.google.com/github/kairavkkp/ML-Tutorials/blob/basic-transformers/Basic-Transformer/basic_transformer.ipynb\" target=\"_parent\"><img src=\"https://colab.research.google.com/assets/colab-badge.svg\" alt=\"Open In Colab\"/></a>"
      ]
    },
    {
      "cell_type": "markdown",
      "metadata": {
        "id": "Dh8bhj25_JUQ"
      },
      "source": [
        "# Basic Transformer\n",
        "\n",
        "[Link](https://www.tensorflow.org/tutorials/text/transformer) to original tutorial."
      ]
    },
    {
      "cell_type": "code",
      "metadata": {
        "id": "NLtkyY9CHWhj",
        "colab": {
          "base_uri": "https://localhost:8080/"
        },
        "outputId": "fbf26f83-f20c-4d91-8e20-8196ed66e758"
      },
      "source": [
        "from google.colab import drive\n",
        "drive.mount('/content/drive')"
      ],
      "execution_count": 1,
      "outputs": [
        {
          "output_type": "stream",
          "text": [
            "Mounted at /content/drive\n"
          ],
          "name": "stdout"
        }
      ]
    },
    {
      "cell_type": "code",
      "metadata": {
        "id": "3wx_DxxIFaH-",
        "colab": {
          "base_uri": "https://localhost:8080/"
        },
        "outputId": "b6369427-b3b0-4c6a-dcaf-25181ada4028"
      },
      "source": [
        "!nvidia-smi"
      ],
      "execution_count": 2,
      "outputs": [
        {
          "output_type": "stream",
          "text": [
            "Mon Apr  5 05:15:28 2021       \n",
            "+-----------------------------------------------------------------------------+\n",
            "| NVIDIA-SMI 460.67       Driver Version: 460.32.03    CUDA Version: 11.2     |\n",
            "|-------------------------------+----------------------+----------------------+\n",
            "| GPU  Name        Persistence-M| Bus-Id        Disp.A | Volatile Uncorr. ECC |\n",
            "| Fan  Temp  Perf  Pwr:Usage/Cap|         Memory-Usage | GPU-Util  Compute M. |\n",
            "|                               |                      |               MIG M. |\n",
            "|===============================+======================+======================|\n",
            "|   0  Tesla T4            Off  | 00000000:00:04.0 Off |                    0 |\n",
            "| N/A   51C    P8     9W /  70W |      0MiB / 15109MiB |      0%      Default |\n",
            "|                               |                      |                  N/A |\n",
            "+-------------------------------+----------------------+----------------------+\n",
            "                                                                               \n",
            "+-----------------------------------------------------------------------------+\n",
            "| Processes:                                                                  |\n",
            "|  GPU   GI   CI        PID   Type   Process name                  GPU Memory |\n",
            "|        ID   ID                                                   Usage      |\n",
            "|=============================================================================|\n",
            "|  No running processes found                                                 |\n",
            "+-----------------------------------------------------------------------------+\n"
          ],
          "name": "stdout"
        }
      ]
    },
    {
      "cell_type": "code",
      "metadata": {
        "id": "i1QyRYeJ_JxQ",
        "colab": {
          "base_uri": "https://localhost:8080/"
        },
        "outputId": "ba16c057-5c1a-47d3-a207-d8b5acaf9cd1"
      },
      "source": [
        "!pip install -q tensorflow_datasets\n",
        "!pip install -q tensorflow_text"
      ],
      "execution_count": 3,
      "outputs": [
        {
          "output_type": "stream",
          "text": [
            "\u001b[?25l\r\u001b[K     |                                | 10kB 26.6MB/s eta 0:00:01\r\u001b[K     |▏                               | 20kB 31.2MB/s eta 0:00:01\r\u001b[K     |▎                               | 30kB 23.9MB/s eta 0:00:01\r\u001b[K     |▍                               | 40kB 21.2MB/s eta 0:00:01\r\u001b[K     |▌                               | 51kB 21.9MB/s eta 0:00:01\r\u001b[K     |▋                               | 61kB 16.4MB/s eta 0:00:01\r\u001b[K     |▊                               | 71kB 16.8MB/s eta 0:00:01\r\u001b[K     |▉                               | 81kB 17.3MB/s eta 0:00:01\r\u001b[K     |▉                               | 92kB 15.8MB/s eta 0:00:01\r\u001b[K     |█                               | 102kB 17.1MB/s eta 0:00:01\r\u001b[K     |█                               | 112kB 17.1MB/s eta 0:00:01\r\u001b[K     |█▏                              | 122kB 17.1MB/s eta 0:00:01\r\u001b[K     |█▎                              | 133kB 17.1MB/s eta 0:00:01\r\u001b[K     |█▍                              | 143kB 17.1MB/s eta 0:00:01\r\u001b[K     |█▌                              | 153kB 17.1MB/s eta 0:00:01\r\u001b[K     |█▋                              | 163kB 17.1MB/s eta 0:00:01\r\u001b[K     |█▋                              | 174kB 17.1MB/s eta 0:00:01\r\u001b[K     |█▊                              | 184kB 17.1MB/s eta 0:00:01\r\u001b[K     |█▉                              | 194kB 17.1MB/s eta 0:00:01\r\u001b[K     |██                              | 204kB 17.1MB/s eta 0:00:01\r\u001b[K     |██                              | 215kB 17.1MB/s eta 0:00:01\r\u001b[K     |██▏                             | 225kB 17.1MB/s eta 0:00:01\r\u001b[K     |██▎                             | 235kB 17.1MB/s eta 0:00:01\r\u001b[K     |██▍                             | 245kB 17.1MB/s eta 0:00:01\r\u001b[K     |██▍                             | 256kB 17.1MB/s eta 0:00:01\r\u001b[K     |██▌                             | 266kB 17.1MB/s eta 0:00:01\r\u001b[K     |██▋                             | 276kB 17.1MB/s eta 0:00:01\r\u001b[K     |██▊                             | 286kB 17.1MB/s eta 0:00:01\r\u001b[K     |██▉                             | 296kB 17.1MB/s eta 0:00:01\r\u001b[K     |███                             | 307kB 17.1MB/s eta 0:00:01\r\u001b[K     |███                             | 317kB 17.1MB/s eta 0:00:01\r\u001b[K     |███▏                            | 327kB 17.1MB/s eta 0:00:01\r\u001b[K     |███▏                            | 337kB 17.1MB/s eta 0:00:01\r\u001b[K     |███▎                            | 348kB 17.1MB/s eta 0:00:01\r\u001b[K     |███▍                            | 358kB 17.1MB/s eta 0:00:01\r\u001b[K     |███▌                            | 368kB 17.1MB/s eta 0:00:01\r\u001b[K     |███▋                            | 378kB 17.1MB/s eta 0:00:01\r\u001b[K     |███▊                            | 389kB 17.1MB/s eta 0:00:01\r\u001b[K     |███▉                            | 399kB 17.1MB/s eta 0:00:01\r\u001b[K     |████                            | 409kB 17.1MB/s eta 0:00:01\r\u001b[K     |████                            | 419kB 17.1MB/s eta 0:00:01\r\u001b[K     |████                            | 430kB 17.1MB/s eta 0:00:01\r\u001b[K     |████▏                           | 440kB 17.1MB/s eta 0:00:01\r\u001b[K     |████▎                           | 450kB 17.1MB/s eta 0:00:01\r\u001b[K     |████▍                           | 460kB 17.1MB/s eta 0:00:01\r\u001b[K     |████▌                           | 471kB 17.1MB/s eta 0:00:01\r\u001b[K     |████▋                           | 481kB 17.1MB/s eta 0:00:01\r\u001b[K     |████▊                           | 491kB 17.1MB/s eta 0:00:01\r\u001b[K     |████▊                           | 501kB 17.1MB/s eta 0:00:01\r\u001b[K     |████▉                           | 512kB 17.1MB/s eta 0:00:01\r\u001b[K     |█████                           | 522kB 17.1MB/s eta 0:00:01\r\u001b[K     |█████                           | 532kB 17.1MB/s eta 0:00:01\r\u001b[K     |█████▏                          | 542kB 17.1MB/s eta 0:00:01\r\u001b[K     |█████▎                          | 552kB 17.1MB/s eta 0:00:01\r\u001b[K     |█████▍                          | 563kB 17.1MB/s eta 0:00:01\r\u001b[K     |█████▌                          | 573kB 17.1MB/s eta 0:00:01\r\u001b[K     |█████▌                          | 583kB 17.1MB/s eta 0:00:01\r\u001b[K     |█████▋                          | 593kB 17.1MB/s eta 0:00:01\r\u001b[K     |█████▊                          | 604kB 17.1MB/s eta 0:00:01\r\u001b[K     |█████▉                          | 614kB 17.1MB/s eta 0:00:01\r\u001b[K     |██████                          | 624kB 17.1MB/s eta 0:00:01\r\u001b[K     |██████                          | 634kB 17.1MB/s eta 0:00:01\r\u001b[K     |██████▏                         | 645kB 17.1MB/s eta 0:00:01\r\u001b[K     |██████▎                         | 655kB 17.1MB/s eta 0:00:01\r\u001b[K     |██████▎                         | 665kB 17.1MB/s eta 0:00:01\r\u001b[K     |██████▍                         | 675kB 17.1MB/s eta 0:00:01\r\u001b[K     |██████▌                         | 686kB 17.1MB/s eta 0:00:01\r\u001b[K     |██████▋                         | 696kB 17.1MB/s eta 0:00:01\r\u001b[K     |██████▊                         | 706kB 17.1MB/s eta 0:00:01\r\u001b[K     |██████▉                         | 716kB 17.1MB/s eta 0:00:01\r\u001b[K     |███████                         | 727kB 17.1MB/s eta 0:00:01\r\u001b[K     |███████                         | 737kB 17.1MB/s eta 0:00:01\r\u001b[K     |███████                         | 747kB 17.1MB/s eta 0:00:01\r\u001b[K     |███████▏                        | 757kB 17.1MB/s eta 0:00:01\r\u001b[K     |███████▎                        | 768kB 17.1MB/s eta 0:00:01\r\u001b[K     |███████▍                        | 778kB 17.1MB/s eta 0:00:01\r\u001b[K     |███████▌                        | 788kB 17.1MB/s eta 0:00:01\r\u001b[K     |███████▋                        | 798kB 17.1MB/s eta 0:00:01\r\u001b[K     |███████▊                        | 808kB 17.1MB/s eta 0:00:01\r\u001b[K     |███████▉                        | 819kB 17.1MB/s eta 0:00:01\r\u001b[K     |███████▉                        | 829kB 17.1MB/s eta 0:00:01\r\u001b[K     |████████                        | 839kB 17.1MB/s eta 0:00:01\r\u001b[K     |████████                        | 849kB 17.1MB/s eta 0:00:01\r\u001b[K     |████████▏                       | 860kB 17.1MB/s eta 0:00:01\r\u001b[K     |████████▎                       | 870kB 17.1MB/s eta 0:00:01\r\u001b[K     |████████▍                       | 880kB 17.1MB/s eta 0:00:01\r\u001b[K     |████████▌                       | 890kB 17.1MB/s eta 0:00:01\r\u001b[K     |████████▋                       | 901kB 17.1MB/s eta 0:00:01\r\u001b[K     |████████▋                       | 911kB 17.1MB/s eta 0:00:01\r\u001b[K     |████████▊                       | 921kB 17.1MB/s eta 0:00:01\r\u001b[K     |████████▉                       | 931kB 17.1MB/s eta 0:00:01\r\u001b[K     |█████████                       | 942kB 17.1MB/s eta 0:00:01\r\u001b[K     |█████████                       | 952kB 17.1MB/s eta 0:00:01\r\u001b[K     |█████████▏                      | 962kB 17.1MB/s eta 0:00:01\r\u001b[K     |█████████▎                      | 972kB 17.1MB/s eta 0:00:01\r\u001b[K     |█████████▍                      | 983kB 17.1MB/s eta 0:00:01\r\u001b[K     |█████████▌                      | 993kB 17.1MB/s eta 0:00:01\r\u001b[K     |█████████▌                      | 1.0MB 17.1MB/s eta 0:00:01\r\u001b[K     |█████████▋                      | 1.0MB 17.1MB/s eta 0:00:01\r\u001b[K     |█████████▊                      | 1.0MB 17.1MB/s eta 0:00:01\r\u001b[K     |█████████▉                      | 1.0MB 17.1MB/s eta 0:00:01\r\u001b[K     |██████████                      | 1.0MB 17.1MB/s eta 0:00:01\r\u001b[K     |██████████                      | 1.1MB 17.1MB/s eta 0:00:01\r\u001b[K     |██████████▏                     | 1.1MB 17.1MB/s eta 0:00:01\r\u001b[K     |██████████▎                     | 1.1MB 17.1MB/s eta 0:00:01\r\u001b[K     |██████████▎                     | 1.1MB 17.1MB/s eta 0:00:01\r\u001b[K     |██████████▍                     | 1.1MB 17.1MB/s eta 0:00:01\r\u001b[K     |██████████▌                     | 1.1MB 17.1MB/s eta 0:00:01\r\u001b[K     |██████████▋                     | 1.1MB 17.1MB/s eta 0:00:01\r\u001b[K     |██████████▊                     | 1.1MB 17.1MB/s eta 0:00:01\r\u001b[K     |██████████▉                     | 1.1MB 17.1MB/s eta 0:00:01\r\u001b[K     |███████████                     | 1.1MB 17.1MB/s eta 0:00:01\r\u001b[K     |███████████                     | 1.2MB 17.1MB/s eta 0:00:01\r\u001b[K     |███████████                     | 1.2MB 17.1MB/s eta 0:00:01\r\u001b[K     |███████████▏                    | 1.2MB 17.1MB/s eta 0:00:01\r\u001b[K     |███████████▎                    | 1.2MB 17.1MB/s eta 0:00:01\r\u001b[K     |███████████▍                    | 1.2MB 17.1MB/s eta 0:00:01\r\u001b[K     |███████████▌                    | 1.2MB 17.1MB/s eta 0:00:01\r\u001b[K     |███████████▋                    | 1.2MB 17.1MB/s eta 0:00:01\r\u001b[K     |███████████▊                    | 1.2MB 17.1MB/s eta 0:00:01\r\u001b[K     |███████████▉                    | 1.2MB 17.1MB/s eta 0:00:01\r\u001b[K     |███████████▉                    | 1.2MB 17.1MB/s eta 0:00:01\r\u001b[K     |████████████                    | 1.3MB 17.1MB/s eta 0:00:01\r\u001b[K     |████████████                    | 1.3MB 17.1MB/s eta 0:00:01\r\u001b[K     |████████████▏                   | 1.3MB 17.1MB/s eta 0:00:01\r\u001b[K     |████████████▎                   | 1.3MB 17.1MB/s eta 0:00:01\r\u001b[K     |████████████▍                   | 1.3MB 17.1MB/s eta 0:00:01\r\u001b[K     |████████████▌                   | 1.3MB 17.1MB/s eta 0:00:01\r\u001b[K     |████████████▋                   | 1.3MB 17.1MB/s eta 0:00:01\r\u001b[K     |████████████▋                   | 1.3MB 17.1MB/s eta 0:00:01\r\u001b[K     |████████████▊                   | 1.3MB 17.1MB/s eta 0:00:01\r\u001b[K     |████████████▉                   | 1.4MB 17.1MB/s eta 0:00:01\r\u001b[K     |█████████████                   | 1.4MB 17.1MB/s eta 0:00:01\r\u001b[K     |█████████████                   | 1.4MB 17.1MB/s eta 0:00:01\r\u001b[K     |█████████████▏                  | 1.4MB 17.1MB/s eta 0:00:01\r\u001b[K     |█████████████▎                  | 1.4MB 17.1MB/s eta 0:00:01\r\u001b[K     |█████████████▍                  | 1.4MB 17.1MB/s eta 0:00:01\r\u001b[K     |█████████████▍                  | 1.4MB 17.1MB/s eta 0:00:01\r\u001b[K     |█████████████▌                  | 1.4MB 17.1MB/s eta 0:00:01\r\u001b[K     |█████████████▋                  | 1.4MB 17.1MB/s eta 0:00:01\r\u001b[K     |█████████████▊                  | 1.4MB 17.1MB/s eta 0:00:01\r\u001b[K     |█████████████▉                  | 1.5MB 17.1MB/s eta 0:00:01\r\u001b[K     |██████████████                  | 1.5MB 17.1MB/s eta 0:00:01\r\u001b[K     |██████████████                  | 1.5MB 17.1MB/s eta 0:00:01\r\u001b[K     |██████████████▏                 | 1.5MB 17.1MB/s eta 0:00:01\r\u001b[K     |██████████████▏                 | 1.5MB 17.1MB/s eta 0:00:01\r\u001b[K     |██████████████▎                 | 1.5MB 17.1MB/s eta 0:00:01\r\u001b[K     |██████████████▍                 | 1.5MB 17.1MB/s eta 0:00:01\r\u001b[K     |██████████████▌                 | 1.5MB 17.1MB/s eta 0:00:01\r\u001b[K     |██████████████▋                 | 1.5MB 17.1MB/s eta 0:00:01\r\u001b[K     |██████████████▊                 | 1.5MB 17.1MB/s eta 0:00:01\r\u001b[K     |██████████████▉                 | 1.6MB 17.1MB/s eta 0:00:01\r\u001b[K     |███████████████                 | 1.6MB 17.1MB/s eta 0:00:01\r\u001b[K     |███████████████                 | 1.6MB 17.1MB/s eta 0:00:01\r\u001b[K     |███████████████                 | 1.6MB 17.1MB/s eta 0:00:01\r\u001b[K     |███████████████▏                | 1.6MB 17.1MB/s eta 0:00:01\r\u001b[K     |███████████████▎                | 1.6MB 17.1MB/s eta 0:00:01\r\u001b[K     |███████████████▍                | 1.6MB 17.1MB/s eta 0:00:01\r\u001b[K     |███████████████▌                | 1.6MB 17.1MB/s eta 0:00:01\r\u001b[K     |███████████████▋                | 1.6MB 17.1MB/s eta 0:00:01\r\u001b[K     |███████████████▊                | 1.6MB 17.1MB/s eta 0:00:01\r\u001b[K     |███████████████▊                | 1.7MB 17.1MB/s eta 0:00:01\r\u001b[K     |███████████████▉                | 1.7MB 17.1MB/s eta 0:00:01\r\u001b[K     |████████████████                | 1.7MB 17.1MB/s eta 0:00:01\r\u001b[K     |████████████████                | 1.7MB 17.1MB/s eta 0:00:01\r\u001b[K     |████████████████▏               | 1.7MB 17.1MB/s eta 0:00:01\r\u001b[K     |████████████████▎               | 1.7MB 17.1MB/s eta 0:00:01\r\u001b[K     |████████████████▍               | 1.7MB 17.1MB/s eta 0:00:01\r\u001b[K     |████████████████▌               | 1.7MB 17.1MB/s eta 0:00:01\r\u001b[K     |████████████████▌               | 1.7MB 17.1MB/s eta 0:00:01\r\u001b[K     |████████████████▋               | 1.8MB 17.1MB/s eta 0:00:01\r\u001b[K     |████████████████▊               | 1.8MB 17.1MB/s eta 0:00:01\r\u001b[K     |████████████████▉               | 1.8MB 17.1MB/s eta 0:00:01\r\u001b[K     |█████████████████               | 1.8MB 17.1MB/s eta 0:00:01\r\u001b[K     |█████████████████               | 1.8MB 17.1MB/s eta 0:00:01\r\u001b[K     |█████████████████▏              | 1.8MB 17.1MB/s eta 0:00:01\r\u001b[K     |█████████████████▎              | 1.8MB 17.1MB/s eta 0:00:01\r\u001b[K     |█████████████████▎              | 1.8MB 17.1MB/s eta 0:00:01\r\u001b[K     |█████████████████▍              | 1.8MB 17.1MB/s eta 0:00:01\r\u001b[K     |█████████████████▌              | 1.8MB 17.1MB/s eta 0:00:01\r\u001b[K     |█████████████████▋              | 1.9MB 17.1MB/s eta 0:00:01\r\u001b[K     |█████████████████▊              | 1.9MB 17.1MB/s eta 0:00:01\r\u001b[K     |█████████████████▉              | 1.9MB 17.1MB/s eta 0:00:01\r\u001b[K     |██████████████████              | 1.9MB 17.1MB/s eta 0:00:01\r\u001b[K     |██████████████████              | 1.9MB 17.1MB/s eta 0:00:01\r\u001b[K     |██████████████████              | 1.9MB 17.1MB/s eta 0:00:01\r\u001b[K     |██████████████████▏             | 1.9MB 17.1MB/s eta 0:00:01\r\u001b[K     |██████████████████▎             | 1.9MB 17.1MB/s eta 0:00:01\r\u001b[K     |██████████████████▍             | 1.9MB 17.1MB/s eta 0:00:01\r\u001b[K     |██████████████████▌             | 1.9MB 17.1MB/s eta 0:00:01\r\u001b[K     |██████████████████▋             | 2.0MB 17.1MB/s eta 0:00:01\r\u001b[K     |██████████████████▊             | 2.0MB 17.1MB/s eta 0:00:01\r\u001b[K     |██████████████████▉             | 2.0MB 17.1MB/s eta 0:00:01\r\u001b[K     |███████████████████             | 2.0MB 17.1MB/s eta 0:00:01\r\u001b[K     |███████████████████             | 2.0MB 17.1MB/s eta 0:00:01\r\u001b[K     |███████████████████             | 2.0MB 17.1MB/s eta 0:00:01\r\u001b[K     |███████████████████▏            | 2.0MB 17.1MB/s eta 0:00:01\r\u001b[K     |███████████████████▎            | 2.0MB 17.1MB/s eta 0:00:01\r\u001b[K     |███████████████████▍            | 2.0MB 17.1MB/s eta 0:00:01\r\u001b[K     |███████████████████▌            | 2.0MB 17.1MB/s eta 0:00:01\r\u001b[K     |███████████████████▋            | 2.1MB 17.1MB/s eta 0:00:01\r\u001b[K     |███████████████████▊            | 2.1MB 17.1MB/s eta 0:00:01\r\u001b[K     |███████████████████▊            | 2.1MB 17.1MB/s eta 0:00:01\r\u001b[K     |███████████████████▉            | 2.1MB 17.1MB/s eta 0:00:01\r\u001b[K     |████████████████████            | 2.1MB 17.1MB/s eta 0:00:01\r\u001b[K     |████████████████████            | 2.1MB 17.1MB/s eta 0:00:01\r\u001b[K     |████████████████████▏           | 2.1MB 17.1MB/s eta 0:00:01\r\u001b[K     |████████████████████▎           | 2.1MB 17.1MB/s eta 0:00:01\r\u001b[K     |████████████████████▍           | 2.1MB 17.1MB/s eta 0:00:01\r\u001b[K     |████████████████████▌           | 2.2MB 17.1MB/s eta 0:00:01\r\u001b[K     |████████████████████▌           | 2.2MB 17.1MB/s eta 0:00:01\r\u001b[K     |████████████████████▋           | 2.2MB 17.1MB/s eta 0:00:01\r\u001b[K     |████████████████████▊           | 2.2MB 17.1MB/s eta 0:00:01\r\u001b[K     |████████████████████▉           | 2.2MB 17.1MB/s eta 0:00:01\r\u001b[K     |█████████████████████           | 2.2MB 17.1MB/s eta 0:00:01\r\u001b[K     |█████████████████████           | 2.2MB 17.1MB/s eta 0:00:01\r\u001b[K     |█████████████████████▏          | 2.2MB 17.1MB/s eta 0:00:01\r\u001b[K     |█████████████████████▎          | 2.2MB 17.1MB/s eta 0:00:01\r\u001b[K     |█████████████████████▎          | 2.2MB 17.1MB/s eta 0:00:01\r\u001b[K     |█████████████████████▍          | 2.3MB 17.1MB/s eta 0:00:01\r\u001b[K     |█████████████████████▌          | 2.3MB 17.1MB/s eta 0:00:01\r\u001b[K     |█████████████████████▋          | 2.3MB 17.1MB/s eta 0:00:01\r\u001b[K     |█████████████████████▊          | 2.3MB 17.1MB/s eta 0:00:01\r\u001b[K     |█████████████████████▉          | 2.3MB 17.1MB/s eta 0:00:01\r\u001b[K     |██████████████████████          | 2.3MB 17.1MB/s eta 0:00:01\r\u001b[K     |██████████████████████          | 2.3MB 17.1MB/s eta 0:00:01\r\u001b[K     |██████████████████████          | 2.3MB 17.1MB/s eta 0:00:01\r\u001b[K     |██████████████████████▏         | 2.3MB 17.1MB/s eta 0:00:01\r\u001b[K     |██████████████████████▎         | 2.3MB 17.1MB/s eta 0:00:01\r\u001b[K     |██████████████████████▍         | 2.4MB 17.1MB/s eta 0:00:01\r\u001b[K     |██████████████████████▌         | 2.4MB 17.1MB/s eta 0:00:01\r\u001b[K     |██████████████████████▋         | 2.4MB 17.1MB/s eta 0:00:01\r\u001b[K     |██████████████████████▊         | 2.4MB 17.1MB/s eta 0:00:01\r\u001b[K     |██████████████████████▉         | 2.4MB 17.1MB/s eta 0:00:01\r\u001b[K     |██████████████████████▉         | 2.4MB 17.1MB/s eta 0:00:01\r\u001b[K     |███████████████████████         | 2.4MB 17.1MB/s eta 0:00:01\r\u001b[K     |███████████████████████         | 2.4MB 17.1MB/s eta 0:00:01\r\u001b[K     |███████████████████████▏        | 2.4MB 17.1MB/s eta 0:00:01\r\u001b[K     |███████████████████████▎        | 2.4MB 17.1MB/s eta 0:00:01\r\u001b[K     |███████████████████████▍        | 2.5MB 17.1MB/s eta 0:00:01\r\u001b[K     |███████████████████████▌        | 2.5MB 17.1MB/s eta 0:00:01\r\u001b[K     |███████████████████████▋        | 2.5MB 17.1MB/s eta 0:00:01\r\u001b[K     |███████████████████████▋        | 2.5MB 17.1MB/s eta 0:00:01\r\u001b[K     |███████████████████████▊        | 2.5MB 17.1MB/s eta 0:00:01\r\u001b[K     |███████████████████████▉        | 2.5MB 17.1MB/s eta 0:00:01\r\u001b[K     |████████████████████████        | 2.5MB 17.1MB/s eta 0:00:01\r\u001b[K     |████████████████████████        | 2.5MB 17.1MB/s eta 0:00:01\r\u001b[K     |████████████████████████▏       | 2.5MB 17.1MB/s eta 0:00:01\r\u001b[K     |████████████████████████▎       | 2.5MB 17.1MB/s eta 0:00:01\r\u001b[K     |████████████████████████▍       | 2.6MB 17.1MB/s eta 0:00:01\r\u001b[K     |████████████████████████▍       | 2.6MB 17.1MB/s eta 0:00:01\r\u001b[K     |████████████████████████▌       | 2.6MB 17.1MB/s eta 0:00:01\r\u001b[K     |████████████████████████▋       | 2.6MB 17.1MB/s eta 0:00:01\r\u001b[K     |████████████████████████▊       | 2.6MB 17.1MB/s eta 0:00:01\r\u001b[K     |████████████████████████▉       | 2.6MB 17.1MB/s eta 0:00:01\r\u001b[K     |█████████████████████████       | 2.6MB 17.1MB/s eta 0:00:01\r\u001b[K     |█████████████████████████       | 2.6MB 17.1MB/s eta 0:00:01\r\u001b[K     |█████████████████████████▏      | 2.6MB 17.1MB/s eta 0:00:01\r\u001b[K     |█████████████████████████▏      | 2.7MB 17.1MB/s eta 0:00:01\r\u001b[K     |█████████████████████████▎      | 2.7MB 17.1MB/s eta 0:00:01\r\u001b[K     |█████████████████████████▍      | 2.7MB 17.1MB/s eta 0:00:01\r\u001b[K     |█████████████████████████▌      | 2.7MB 17.1MB/s eta 0:00:01\r\u001b[K     |█████████████████████████▋      | 2.7MB 17.1MB/s eta 0:00:01\r\u001b[K     |█████████████████████████▊      | 2.7MB 17.1MB/s eta 0:00:01\r\u001b[K     |█████████████████████████▉      | 2.7MB 17.1MB/s eta 0:00:01\r\u001b[K     |██████████████████████████      | 2.7MB 17.1MB/s eta 0:00:01\r\u001b[K     |██████████████████████████      | 2.7MB 17.1MB/s eta 0:00:01\r\u001b[K     |██████████████████████████      | 2.7MB 17.1MB/s eta 0:00:01\r\u001b[K     |██████████████████████████▏     | 2.8MB 17.1MB/s eta 0:00:01\r\u001b[K     |██████████████████████████▎     | 2.8MB 17.1MB/s eta 0:00:01\r\u001b[K     |██████████████████████████▍     | 2.8MB 17.1MB/s eta 0:00:01\r\u001b[K     |██████████████████████████▌     | 2.8MB 17.1MB/s eta 0:00:01\r\u001b[K     |██████████████████████████▋     | 2.8MB 17.1MB/s eta 0:00:01\r\u001b[K     |██████████████████████████▊     | 2.8MB 17.1MB/s eta 0:00:01\r\u001b[K     |██████████████████████████▊     | 2.8MB 17.1MB/s eta 0:00:01\r\u001b[K     |██████████████████████████▉     | 2.8MB 17.1MB/s eta 0:00:01\r\u001b[K     |███████████████████████████     | 2.8MB 17.1MB/s eta 0:00:01\r\u001b[K     |███████████████████████████     | 2.8MB 17.1MB/s eta 0:00:01\r\u001b[K     |███████████████████████████▏    | 2.9MB 17.1MB/s eta 0:00:01\r\u001b[K     |███████████████████████████▎    | 2.9MB 17.1MB/s eta 0:00:01\r\u001b[K     |███████████████████████████▍    | 2.9MB 17.1MB/s eta 0:00:01\r\u001b[K     |███████████████████████████▌    | 2.9MB 17.1MB/s eta 0:00:01\r\u001b[K     |███████████████████████████▌    | 2.9MB 17.1MB/s eta 0:00:01\r\u001b[K     |███████████████████████████▋    | 2.9MB 17.1MB/s eta 0:00:01\r\u001b[K     |███████████████████████████▊    | 2.9MB 17.1MB/s eta 0:00:01\r\u001b[K     |███████████████████████████▉    | 2.9MB 17.1MB/s eta 0:00:01\r\u001b[K     |████████████████████████████    | 2.9MB 17.1MB/s eta 0:00:01\r\u001b[K     |████████████████████████████    | 2.9MB 17.1MB/s eta 0:00:01\r\u001b[K     |████████████████████████████▏   | 3.0MB 17.1MB/s eta 0:00:01\r\u001b[K     |████████████████████████████▎   | 3.0MB 17.1MB/s eta 0:00:01\r\u001b[K     |████████████████████████████▍   | 3.0MB 17.1MB/s eta 0:00:01\r\u001b[K     |████████████████████████████▍   | 3.0MB 17.1MB/s eta 0:00:01\r\u001b[K     |████████████████████████████▌   | 3.0MB 17.1MB/s eta 0:00:01\r\u001b[K     |████████████████████████████▋   | 3.0MB 17.1MB/s eta 0:00:01\r\u001b[K     |████████████████████████████▊   | 3.0MB 17.1MB/s eta 0:00:01\r\u001b[K     |████████████████████████████▉   | 3.0MB 17.1MB/s eta 0:00:01\r\u001b[K     |█████████████████████████████   | 3.0MB 17.1MB/s eta 0:00:01\r\u001b[K     |█████████████████████████████   | 3.1MB 17.1MB/s eta 0:00:01\r\u001b[K     |█████████████████████████████▏  | 3.1MB 17.1MB/s eta 0:00:01\r\u001b[K     |█████████████████████████████▏  | 3.1MB 17.1MB/s eta 0:00:01\r\u001b[K     |█████████████████████████████▎  | 3.1MB 17.1MB/s eta 0:00:01\r\u001b[K     |█████████████████████████████▍  | 3.1MB 17.1MB/s eta 0:00:01\r\u001b[K     |█████████████████████████████▌  | 3.1MB 17.1MB/s eta 0:00:01\r\u001b[K     |█████████████████████████████▋  | 3.1MB 17.1MB/s eta 0:00:01\r\u001b[K     |█████████████████████████████▊  | 3.1MB 17.1MB/s eta 0:00:01\r\u001b[K     |█████████████████████████████▉  | 3.1MB 17.1MB/s eta 0:00:01\r\u001b[K     |██████████████████████████████  | 3.1MB 17.1MB/s eta 0:00:01\r\u001b[K     |██████████████████████████████  | 3.2MB 17.1MB/s eta 0:00:01\r\u001b[K     |██████████████████████████████  | 3.2MB 17.1MB/s eta 0:00:01\r\u001b[K     |██████████████████████████████▏ | 3.2MB 17.1MB/s eta 0:00:01\r\u001b[K     |██████████████████████████████▎ | 3.2MB 17.1MB/s eta 0:00:01\r\u001b[K     |██████████████████████████████▍ | 3.2MB 17.1MB/s eta 0:00:01\r\u001b[K     |██████████████████████████████▌ | 3.2MB 17.1MB/s eta 0:00:01\r\u001b[K     |██████████████████████████████▋ | 3.2MB 17.1MB/s eta 0:00:01\r\u001b[K     |██████████████████████████████▊ | 3.2MB 17.1MB/s eta 0:00:01\r\u001b[K     |██████████████████████████████▊ | 3.2MB 17.1MB/s eta 0:00:01\r\u001b[K     |██████████████████████████████▉ | 3.2MB 17.1MB/s eta 0:00:01\r\u001b[K     |███████████████████████████████ | 3.3MB 17.1MB/s eta 0:00:01\r\u001b[K     |███████████████████████████████ | 3.3MB 17.1MB/s eta 0:00:01\r\u001b[K     |███████████████████████████████▏| 3.3MB 17.1MB/s eta 0:00:01\r\u001b[K     |███████████████████████████████▎| 3.3MB 17.1MB/s eta 0:00:01\r\u001b[K     |███████████████████████████████▍| 3.3MB 17.1MB/s eta 0:00:01\r\u001b[K     |███████████████████████████████▌| 3.3MB 17.1MB/s eta 0:00:01\r\u001b[K     |███████████████████████████████▌| 3.3MB 17.1MB/s eta 0:00:01\r\u001b[K     |███████████████████████████████▋| 3.3MB 17.1MB/s eta 0:00:01\r\u001b[K     |███████████████████████████████▊| 3.3MB 17.1MB/s eta 0:00:01\r\u001b[K     |███████████████████████████████▉| 3.3MB 17.1MB/s eta 0:00:01\r\u001b[K     |████████████████████████████████| 3.4MB 17.1MB/s eta 0:00:01\r\u001b[K     |████████████████████████████████| 3.4MB 17.1MB/s \n",
            "\u001b[?25h"
          ],
          "name": "stdout"
        }
      ]
    },
    {
      "cell_type": "code",
      "metadata": {
        "id": "3yCODRy8D_NX"
      },
      "source": [
        "import tensorflow as tf\n",
        "import tensorflow_text as text\n",
        "import tensorflow_datasets as tfds\n",
        "import os\n",
        "import sys\n",
        "import numpy as np"
      ],
      "execution_count": 4,
      "outputs": []
    },
    {
      "cell_type": "code",
      "metadata": {
        "id": "OA8X-Ya4H9co"
      },
      "source": [
        "os.chdir('/content/drive/MyDrive/Basic-Transformer')"
      ],
      "execution_count": 5,
      "outputs": []
    },
    {
      "cell_type": "code",
      "metadata": {
        "id": "bAKgsXXzD_Kg"
      },
      "source": [
        "## Suppress Tensorflow warnings\n",
        "\n",
        "import logging\n",
        "logging.getLogger('tensorflow').setLevel(logging.ERROR)"
      ],
      "execution_count": 6,
      "outputs": []
    },
    {
      "cell_type": "code",
      "metadata": {
        "id": "x-QozTygEhr1"
      },
      "source": [
        "# Dataset Download\n",
        "# Portugese to English word translation\n",
        "examples, metadata = tfds.load('ted_hrlr_translate/pt_to_en', with_info=True, as_supervised=True)\n",
        "\n",
        "train_examples, val_examples = examples['train'], examples['validation']"
      ],
      "execution_count": null,
      "outputs": []
    },
    {
      "cell_type": "code",
      "metadata": {
        "id": "VZTekUqMEhof",
        "colab": {
          "base_uri": "https://localhost:8080/"
        },
        "outputId": "81f7d130-068c-4cbe-a2fa-ee01d2146939"
      },
      "source": [
        "# Snippet of what train_example looks like\n",
        "for pt_examples, en_examples in train_examples.batch(1).take(1):\n",
        "\n",
        "  print(\"Portuguese Example:\")\n",
        "  for pt in pt_examples.numpy():\n",
        "    print(pt.decode('utf-8'))\n",
        "\n",
        "  print(\"\\nEnglish Example:\")\n",
        "  for en in en_examples.numpy():\n",
        "    print(en.decode('utf-8'))"
      ],
      "execution_count": 8,
      "outputs": [
        {
          "output_type": "stream",
          "text": [
            "Portuguese Example:\n",
            "e quando melhoramos a procura , tiramos a única vantagem da impressão , que é a serendipidade .\n",
            "\n",
            "English Example:\n",
            "and when you improve searchability , you actually take away the one advantage of print , which is serendipity .\n"
          ],
          "name": "stdout"
        }
      ]
    },
    {
      "cell_type": "code",
      "metadata": {
        "id": "x4xE8DCIEhk6",
        "colab": {
          "base_uri": "https://localhost:8080/",
          "height": 35
        },
        "outputId": "967ca222-2683-46bf-ffd2-6cbc6b73a43d"
      },
      "source": [
        "# Tokennization and detokenization\n",
        "\n",
        "model_name = \"ted_hrlr_translate_pt_en_converter\"\n",
        "tf.keras.utils.get_file(f\"{model_name}.zip\",\n",
        "                        f\"https://storage.googleapis.com/download.tensorflow.org/models/{model_name}.zip\",\n",
        "                        cache_dir='.', cache_subdir='.', extract=True)"
      ],
      "execution_count": 9,
      "outputs": [
        {
          "output_type": "execute_result",
          "data": {
            "application/vnd.google.colaboratory.intrinsic+json": {
              "type": "string"
            },
            "text/plain": [
              "'././ted_hrlr_translate_pt_en_converter.zip'"
            ]
          },
          "metadata": {
            "tags": []
          },
          "execution_count": 9
        }
      ]
    },
    {
      "cell_type": "code",
      "metadata": {
        "id": "cJQhi_gaEhZx"
      },
      "source": [
        "# Loading the tokenizers from the downloaded model\n",
        "tokenizers = tf.saved_model.load(model_name)"
      ],
      "execution_count": 10,
      "outputs": []
    },
    {
      "cell_type": "code",
      "metadata": {
        "id": "an-QuIQzIRyy",
        "colab": {
          "base_uri": "https://localhost:8080/"
        },
        "outputId": "afbb5112-f3c4-4c5b-e752-b802fd2ff99b"
      },
      "source": [
        "# Let's look at the methods inherited by the Tokenizers\n",
        "\n",
        "# This is for the English tokenizer\n",
        "[item for item in dir(tokenizers.en) if not item.startswith('_')]"
      ],
      "execution_count": 11,
      "outputs": [
        {
          "output_type": "execute_result",
          "data": {
            "text/plain": [
              "['detokenize',\n",
              " 'get_reserved_tokens',\n",
              " 'get_vocab_path',\n",
              " 'get_vocab_size',\n",
              " 'lookup',\n",
              " 'tokenize',\n",
              " 'tokenizer',\n",
              " 'vocab']"
            ]
          },
          "metadata": {
            "tags": []
          },
          "execution_count": 11
        }
      ]
    },
    {
      "cell_type": "code",
      "metadata": {
        "id": "vjjd9GArIRvt",
        "colab": {
          "base_uri": "https://localhost:8080/"
        },
        "outputId": "29df7345-c8a9-4057-dc6d-85397640a01a"
      },
      "source": [
        "# This is for the Portuguese tokenizer\n",
        "[item for item in dir(tokenizers.pt) if not item.startswith('_')]"
      ],
      "execution_count": 12,
      "outputs": [
        {
          "output_type": "execute_result",
          "data": {
            "text/plain": [
              "['detokenize',\n",
              " 'get_reserved_tokens',\n",
              " 'get_vocab_path',\n",
              " 'get_vocab_size',\n",
              " 'lookup',\n",
              " 'tokenize',\n",
              " 'tokenizer',\n",
              " 'vocab']"
            ]
          },
          "metadata": {
            "tags": []
          },
          "execution_count": 12
        }
      ]
    },
    {
      "cell_type": "markdown",
      "metadata": {
        "id": "KvoSiiefJD7l"
      },
      "source": [
        "As we can see both the tokenizers inherit same methods. It'll be easy for us to perform similar operations on each texts in parallel."
      ]
    },
    {
      "cell_type": "code",
      "metadata": {
        "id": "SoQcuJv4IRrW",
        "colab": {
          "base_uri": "https://localhost:8080/"
        },
        "outputId": "50543ffe-d603-4dff-ba8b-541527642d05"
      },
      "source": [
        "print(\"Let's tokenize this string.\\n\")\n",
        "\n",
        "print(\"Non Tokenized String: \")\n",
        "for en in en_examples.numpy():\n",
        "  print(en.decode('utf-8'))\n",
        "\n",
        "print()\n",
        "\n",
        "# Encoding the string\n",
        "encoded = tokenizers.en.tokenize(en_examples)\n",
        "\n",
        "print(\"Tokenized string: \")\n",
        "for row in encoded.to_list():\n",
        "  print(row)\n",
        "print()\n",
        "\n",
        "print('Now, lets try to detokenize the string and see if we get back the original string back.\\n')\n",
        "\n",
        "# Decoding the string\n",
        "decoded = tokenizers.en.detokenize(encoded)\n",
        "\n",
        "print('Detokenized String:')\n",
        "for row in decoded.numpy():\n",
        "  print(row.decode('utf-8'))"
      ],
      "execution_count": 13,
      "outputs": [
        {
          "output_type": "stream",
          "text": [
            "Let's tokenize this string.\n",
            "\n",
            "Non Tokenized String: \n",
            "and when you improve searchability , you actually take away the one advantage of print , which is serendipity .\n",
            "\n",
            "Tokenized string: \n",
            "[2, 72, 117, 79, 1259, 1491, 2362, 13, 79, 150, 184, 311, 71, 103, 2308, 74, 2679, 13, 148, 80, 55, 4840, 1434, 2423, 540, 15, 3]\n",
            "\n",
            "Now, lets try to detokenize the string and see if we get back the original string back.\n",
            "\n",
            "Detokenized String:\n",
            "and when you improve searchability , you actually take away the one advantage of print , which is serendipity .\n"
          ],
          "name": "stdout"
        }
      ]
    },
    {
      "cell_type": "code",
      "metadata": {
        "id": "6Td3un-kIRoO",
        "colab": {
          "base_uri": "https://localhost:8080/"
        },
        "outputId": "36f65509-9e37-4a2a-bb60-762a5d3d8ff9"
      },
      "source": [
        "## We can use the lookup method to get the token-text from token-IDs\n",
        "\n",
        "tokens = tokenizers.en.lookup(encoded)\n",
        "tokens"
      ],
      "execution_count": 14,
      "outputs": [
        {
          "output_type": "execute_result",
          "data": {
            "text/plain": [
              "<tf.RaggedTensor [[b'[START]', b'and', b'when', b'you', b'improve', b'search', b'##ability', b',', b'you', b'actually', b'take', b'away', b'the', b'one', b'advantage', b'of', b'print', b',', b'which', b'is', b's', b'##ere', b'##nd', b'##ip', b'##ity', b'.', b'[END]']]>"
            ]
          },
          "metadata": {
            "tags": []
          },
          "execution_count": 14
        }
      ]
    },
    {
      "cell_type": "markdown",
      "metadata": {
        "id": "jPs4dwWwLDAK"
      },
      "source": [
        "We can see that the word `searchability` is tokenized in a sub-word manner. It is comprised of two tokens, namely `search` and `##ability`. Similarly it is the same for `serendipity`.\n"
      ]
    },
    {
      "cell_type": "markdown",
      "metadata": {
        "id": "IUYRSeskLcdx"
      },
      "source": [
        "## Setup Input pipeline\n"
      ]
    },
    {
      "cell_type": "code",
      "metadata": {
        "id": "9fM2mlxjIRhH"
      },
      "source": [
        "def tokenize_pairs(pt, en):\n",
        "  pt = tokenizers.pt.tokenize(pt)\n",
        "  pt = pt.to_tensor()\n",
        "\n",
        "  en = tokenizers.en.tokenize(en)\n",
        "  en = en.to_tensor()\n",
        "\n",
        "  return pt, en"
      ],
      "execution_count": 15,
      "outputs": []
    },
    {
      "cell_type": "code",
      "metadata": {
        "id": "LfoR-_dhIRd7"
      },
      "source": [
        "BUFFER_SIZE = 20000\n",
        "BATCH_SIZE = 64"
      ],
      "execution_count": 16,
      "outputs": []
    },
    {
      "cell_type": "code",
      "metadata": {
        "id": "AsdKoZbFIRaf"
      },
      "source": [
        "def make_batches(ds):\n",
        "  return (\n",
        "      ds.cache()\n",
        "      .shuffle(BUFFER_SIZE)\n",
        "      .batch(BATCH_SIZE)\n",
        "      .map(tokenize_pairs, num_parallel_calls=tf.data.AUTOTUNE)\n",
        "      .prefetch(tf.data.AUTOTUNE)\n",
        "  )"
      ],
      "execution_count": 17,
      "outputs": []
    },
    {
      "cell_type": "code",
      "metadata": {
        "id": "2ryjRZkQIRXG"
      },
      "source": [
        "# Preparing batches for Training and Validation\n",
        "train_batches = make_batches(train_examples)\n",
        "val_batches = make_batches(val_examples)"
      ],
      "execution_count": 18,
      "outputs": []
    },
    {
      "cell_type": "markdown",
      "metadata": {
        "id": "Q_EAHUuiMzDO"
      },
      "source": [
        "As we know that Transformers have a disadvantage that if the training set like text, doesn't have any positional encoding the transformers will just treat them as Bag of Words.\n",
        "\n",
        "### Positional Encoding\n",
        "\n",
        "$$PE_{(pos,2i)} = sin(pos/10000^{2i/d_{model}})$$\n",
        "\n",
        "$$PE_{(pos, 2i+1)} = cos(pos/10000^{2i/d_{model}})$$\n",
        "\n",
        "The positional encoding vector is added to the embedding vector. Embeddings represent a token in a d-dimensional space where tokens with similar meaning will be closer to each other. But the embeddings do not encode the relative position of words in a sentence. So after adding the positional encoding, words will be closer to each other based on the similarity of their meaning and their position in the sentence, in the d-dimensional space."
      ]
    },
    {
      "cell_type": "code",
      "metadata": {
        "id": "3jGtsXArIRII"
      },
      "source": [
        "# Creating Positional Encoding for the train examples.\n",
        "def get_angles(pos, i, d_model):\n",
        "  angle_rates = 1 / np.power(10000, (2 * (i // 2)) / np.float32(d_model))\n",
        "  return pos * angle_rates\n",
        "\n",
        "def positional_encoding(position, d_model):\n",
        "  angle_rads = get_angles(np.arange(position)[:, np.newaxis],\n",
        "                          np.arange(d_model)[np.newaxis, :],\n",
        "                          d_model)\n",
        "  ## handling PE for Even indices\n",
        "  angle_rads[:, 0::2] = np.sin(angle_rads[:, 0::2])\n",
        "\n",
        "  # handling PE for Odd indices\n",
        "  angle_rads[:, 1::2] = np.cos(angle_rads[:, 1::2])\n",
        "\n",
        "  pos_encoding = angle_rads[np.newaxis, ...]\n",
        "\n",
        "  return tf.cast(pos_encoding, dtype=tf.float32)\n"
      ],
      "execution_count": 19,
      "outputs": []
    },
    {
      "cell_type": "code",
      "metadata": {
        "id": "cLvQYUStQAQ1",
        "colab": {
          "base_uri": "https://localhost:8080/"
        },
        "outputId": "c95986f4-e43e-41c3-dd7e-32df28aa84bb"
      },
      "source": [
        "n, d = 2048, 512\n",
        "pos_encoding = positional_encoding(n, d)\n",
        "pos_encoding = pos_encoding[0]\n",
        "pos_encoding.shape"
      ],
      "execution_count": 20,
      "outputs": [
        {
          "output_type": "execute_result",
          "data": {
            "text/plain": [
              "TensorShape([2048, 512])"
            ]
          },
          "metadata": {
            "tags": []
          },
          "execution_count": 20
        }
      ]
    },
    {
      "cell_type": "markdown",
      "metadata": {
        "id": "MtjZxZwsQDuD"
      },
      "source": [
        ""
      ]
    },
    {
      "cell_type": "code",
      "metadata": {
        "id": "y3u-vUKcQAOL"
      },
      "source": [
        "# Inverting the dimensions for the plot\n",
        "pos_encoding = tf.reshape(pos_encoding, (n, d//2, 2)) ## Here d//2, will provide the output in integer format\n",
        "pos_encoding = tf.transpose(pos_encoding, (2, 1, 0))\n",
        "pos_encoding = tf.reshape(pos_encoding, (d, n))"
      ],
      "execution_count": 21,
      "outputs": []
    },
    {
      "cell_type": "code",
      "metadata": {
        "id": "mnneI8Rtfm2O"
      },
      "source": [
        "import matplotlib.pyplot as plt"
      ],
      "execution_count": 22,
      "outputs": []
    },
    {
      "cell_type": "code",
      "metadata": {
        "colab": {
          "base_uri": "https://localhost:8080/",
          "height": 283
        },
        "id": "e9JH1ZeWfjvw",
        "outputId": "0143b7aa-571a-43ed-fdb3-2d1e4aedf37d"
      },
      "source": [
        "plt.pcolormesh(pos_encoding, cmap='RdBu')\n",
        "plt.ylabel('Depth')\n",
        "plt.xlabel('Position')\n",
        "plt.colorbar()\n",
        "plt.show()"
      ],
      "execution_count": 23,
      "outputs": [
        {
          "output_type": "display_data",
          "data": {
            "image/png": "[encoded data removed]",
            "text/plain": [
              "<Figure size 432x288 with 2 Axes>"
            ]
          },
          "metadata": {
            "tags": [],
            "needs_background": "light"
          }
        }
      ]
    },
    {
      "cell_type": "markdown",
      "metadata": {
        "id": "P6HqirG2gmja"
      },
      "source": [
        "## Masking\n",
        "\n",
        "Since we added padding, we don't want our model to treat padding as an input. To overcome this we'll introduce Masking. We'll create a Mask Tensor, which will have value `1.`, wherever there's padding added in our input sequence."
      ]
    },
    {
      "cell_type": "code",
      "metadata": {
        "id": "uFRwwBXfgZDW"
      },
      "source": [
        "def create_padding_mask(seq):\n",
        "  seq = tf.cast(tf.math.equal(seq, 0), tf.float32)\n",
        "\n",
        "  return seq[:, tf.newaxis, tf.newaxis, :] # (batch_size, 1, 1, seq_len)"
      ],
      "execution_count": 24,
      "outputs": []
    },
    {
      "cell_type": "code",
      "metadata": {
        "colab": {
          "base_uri": "https://localhost:8080/"
        },
        "id": "mw_FmkZRhaCN",
        "outputId": "967855c2-27af-46a2-9cf1-2b1b5aa255cb"
      },
      "source": [
        "# Trying to see the working of the above function\n",
        "\n",
        "x = tf.constant([[1,2,3,4,0],[2,1,0,1,0], [0,0,0,0,1]])\n",
        "create_padding_mask(x)"
      ],
      "execution_count": 25,
      "outputs": [
        {
          "output_type": "execute_result",
          "data": {
            "text/plain": [
              "<tf.Tensor: shape=(3, 1, 1, 5), dtype=float32, numpy=\n",
              "array([[[[0., 0., 0., 0., 1.]]],\n",
              "\n",
              "\n",
              "       [[[0., 0., 1., 0., 1.]]],\n",
              "\n",
              "\n",
              "       [[[1., 1., 1., 1., 0.]]]], dtype=float32)>"
            ]
          },
          "metadata": {
            "tags": []
          },
          "execution_count": 25
        }
      ]
    },
    {
      "cell_type": "markdown",
      "metadata": {
        "id": "kh5oOO2YiNkq"
      },
      "source": [
        "\n",
        "The look-ahead mask is used to mask the future tokens in a sequence. In other words, the mask indicates which entries should not be used.\n",
        "\n",
        "This means that to predict the third word, only the first and second word will be used. Similarly to predict the fourth word, only the first, second and the third word will be used and so on."
      ]
    },
    {
      "cell_type": "code",
      "metadata": {
        "id": "oWgJX1pGh2aD"
      },
      "source": [
        "def create_look_ahead_mask(size):\n",
        "  mask = 1 - tf.linalg.band_part(tf.ones((size,size)), -1, 0)\n",
        "\n",
        "  ## Info regarding \n",
        "  ## tf.linalg.band_part(input, 0, -1) ==> Upper triangular part.\n",
        "  ## tf.linalg.band_part(input, -1, 0) ==> Lower triangular part.\n",
        "  ## tf.linalg.band_part(input, 0, 0) ==> Diagonal.\n",
        "\n",
        "  ## Later,\n",
        "  ## Inversing 1->0 and 0->1.\n",
        "  return mask # dims: (size, size)"
      ],
      "execution_count": 26,
      "outputs": []
    },
    {
      "cell_type": "code",
      "metadata": {
        "colab": {
          "base_uri": "https://localhost:8080/"
        },
        "id": "0PeVZRSQjAD3",
        "outputId": "e6fc6374-02d2-4973-e99a-6a3133db703d"
      },
      "source": [
        "x = tf.random.uniform((1,3))\n",
        "temp = create_look_ahead_mask(x.shape[1])\n",
        "temp"
      ],
      "execution_count": 27,
      "outputs": [
        {
          "output_type": "execute_result",
          "data": {
            "text/plain": [
              "<tf.Tensor: shape=(3, 3), dtype=float32, numpy=\n",
              "array([[0., 1., 1.],\n",
              "       [0., 0., 1.],\n",
              "       [0., 0., 0.]], dtype=float32)>"
            ]
          },
          "metadata": {
            "tags": []
          },
          "execution_count": 27
        }
      ]
    },
    {
      "cell_type": "markdown",
      "metadata": {
        "id": "BLJaDWvAjin_"
      },
      "source": [
        "As we can see here, that we are choosing the lower triangular region in this example, which helps in the look ahead stage, which words to choose and which not to choose."
      ]
    },
    {
      "cell_type": "markdown",
      "metadata": {
        "id": "5WMf01yrlGQJ"
      },
      "source": [
        "## Scaled Dot Product Attention\n",
        "\n",
        "The Attention Function is comprised of three vectors, namely, Query, Key and Value vectors. For more details, go through this [blog](https://towardsdatascience.com/transformers-89034557de14). \n",
        "\n",
        "The Formula to calculate Attention is:\n",
        "\n",
        "$$Attention(Q,K,V) = softmax_k\\left( \\dfrac{QK^T}{\\sqrt{d_k}} \\right ) V$$\n",
        "\n",
        "$d_k$ is used to scale the Dot Product between `Q` and `K`, in order to overcome vanishing gradients. `Q` and `K` will follow mean `0` and variance `1`, so their product will follow mean `1` and std $d_k$, So $\\sqrt{d_k}$ is used for scaling.\n",
        "\n",
        "<div align=\"center\">\n",
        "<img src=\"https://www.tensorflow.org/images/tutorials/transformer/scaled_attention.png\" />\n",
        "</div>"
      ]
    },
    {
      "cell_type": "code",
      "metadata": {
        "id": "JMBoe7VAkXNH"
      },
      "source": [
        "def scaled_dot_product_attention(q, k, v, mask):\n",
        "\n",
        "  ## Transpose_b is used to invert the k matrix\n",
        "  matmul_q_k = tf.matmul(q, k, transpose_b=True) ## (..., seq_len_q, seq_len_k)\n",
        "\n",
        "  dk = tf.cast(tf.shape(k)[-1], tf.float32) ## seq_len_k\n",
        "\n",
        "  scaled_attention_logits = matmul_q_k / tf.math.sqrt(dk)\n",
        "\n",
        "  if mask is not None:\n",
        "    scaled_attention_logits += (mask * -1e9) # -1e9 is close to negative infinity\n",
        "  \n",
        "  attention_weights = tf.nn.softmax(scaled_attention_logits, axis=-1) # (..., seq_len_q, seq_len_k)\n",
        "\n",
        "  output = tf.matmul(attention_weights, v)\n",
        "\n",
        "  return output, attention_weights"
      ],
      "execution_count": 28,
      "outputs": []
    },
    {
      "cell_type": "code",
      "metadata": {
        "id": "-8jz9IpjkYGE"
      },
      "source": [
        "def print_out(q, k, v):\n",
        "  temp_out, temp_attn = scaled_dot_product_attention(q, k, v, None)\n",
        "  print(\"Attention weights are:\")\n",
        "  print(temp_attn)\n",
        "  print(\"Output is:\")\n",
        "  print(temp_out)"
      ],
      "execution_count": 29,
      "outputs": []
    },
    {
      "cell_type": "code",
      "metadata": {
        "id": "FDEh9TpCkYCf"
      },
      "source": [
        "np.set_printoptions(suppress=True)"
      ],
      "execution_count": 30,
      "outputs": []
    },
    {
      "cell_type": "code",
      "metadata": {
        "colab": {
          "base_uri": "https://localhost:8080/"
        },
        "id": "G2oYWT1jkX_B",
        "outputId": "b9e11f20-bc68-430d-df76-96767d73ce0c"
      },
      "source": [
        "temp_k = tf.constant([[10, 0, 0],\n",
        "                      [0, 10, 0],\n",
        "                      [0, 0, 10],\n",
        "                      [0, 0, 10]], dtype=tf.float32)\n",
        "\n",
        "temp_v = tf.constant([[1,0],\n",
        "                      [10,0],\n",
        "                      [100,5],\n",
        "                      [1000,6]], dtype=tf.float32)\n",
        "\n",
        "print('This `query` aligns with the second `key`,so the second `value` is returned.\\n')\n",
        "temp_q = tf.constant([[0,10,0]], dtype=tf.float32)\n",
        "print_out(temp_q, temp_k, temp_v)\n",
        "\n",
        "print()\n",
        "\n",
        "print(\"This query aligns with a repeated key (third and fourth), so all associated values get averaged.\\n\")\n",
        "temp_q = tf.constant([[0,0,10]], dtype=tf.float32)\n",
        "print_out(temp_q, temp_k, temp_v)\n",
        "\n",
        "\n",
        "print()\n",
        "\n",
        "print(\"This query aligns equally with the first and second key, so their values get averaged.\\n\")\n",
        "temp_q = tf.constant([[10,10,0]], dtype=tf.float32)\n",
        "print_out(temp_q, temp_k, temp_v)\n",
        "\n",
        "\n",
        "print()\n",
        "\n",
        "print(\"Pass all the queries together.\\n\")\n",
        "temp_q = tf.constant([[10,10,0],\n",
        "                      [10,0,0],\n",
        "                      [0,10,0]], dtype=tf.float32)\n",
        "print_out(temp_q, temp_k, temp_v)\n"
      ],
      "execution_count": 31,
      "outputs": [
        {
          "output_type": "stream",
          "text": [
            "This `query` aligns with the second `key`,so the second `value` is returned.\n",
            "\n",
            "Attention weights are:\n",
            "tf.Tensor([[0. 1. 0. 0.]], shape=(1, 4), dtype=float32)\n",
            "Output is:\n",
            "tf.Tensor([[10.  0.]], shape=(1, 2), dtype=float32)\n",
            "\n",
            "This query aligns with a repeated key (third and fourth), so all associated values get averaged.\n",
            "\n",
            "Attention weights are:\n",
            "tf.Tensor([[0.  0.  0.5 0.5]], shape=(1, 4), dtype=float32)\n",
            "Output is:\n",
            "tf.Tensor([[550.    5.5]], shape=(1, 2), dtype=float32)\n",
            "\n",
            "This query aligns equally with the first and second key, so their values get averaged.\n",
            "\n",
            "Attention weights are:\n",
            "tf.Tensor([[0.5 0.5 0.  0. ]], shape=(1, 4), dtype=float32)\n",
            "Output is:\n",
            "tf.Tensor([[5.5 0. ]], shape=(1, 2), dtype=float32)\n",
            "\n",
            "Pass all the queries together.\n",
            "\n",
            "Attention weights are:\n",
            "tf.Tensor(\n",
            "[[0.5 0.5 0.  0. ]\n",
            " [1.  0.  0.  0. ]\n",
            " [0.  1.  0.  0. ]], shape=(3, 4), dtype=float32)\n",
            "Output is:\n",
            "tf.Tensor(\n",
            "[[ 5.5  0. ]\n",
            " [ 1.   0. ]\n",
            " [10.   0. ]], shape=(3, 2), dtype=float32)\n"
          ],
          "name": "stdout"
        }
      ]
    },
    {
      "cell_type": "markdown",
      "metadata": {
        "id": "Hu4PrF6xyFlO"
      },
      "source": [
        "## Multi-Head Attention\n",
        "\n",
        "- Linear Layers and spilt into Heads.\n",
        "- Scaled dot-product attention\n",
        "- Concatenation of heads\n",
        "- Final Linear Layer\n",
        "\n",
        "<div align=\"center\">\n",
        "\n",
        "<img src=\"https://www.tensorflow.org/images/tutorials/transformer/multi_head_attention.png\">\n",
        "</div>"
      ]
    },
    {
      "cell_type": "code",
      "metadata": {
        "id": "ZfWFfQWMtciU"
      },
      "source": [
        "class MultiHeadAttention(tf.keras.layers.Layer):\n",
        "  def __init__(self, d_model, num_heads):\n",
        "    super(MultiHeadAttention, self).__init__()\n",
        "    self.num_heads = num_heads\n",
        "    self.d_model = d_model\n",
        "\n",
        "    assert d_model % self.num_heads == 0\n",
        "    self.depth = d_model // self.num_heads # Value converts to Integer\n",
        "\n",
        "    self.wq = tf.keras.layers.Dense(d_model)\n",
        "    self.wk = tf.keras.layers.Dense(d_model)\n",
        "    self.wv = tf.keras.layers.Dense(d_model)\n",
        "\n",
        "    self.dense = tf.keras.layers.Dense(d_model)\n",
        "\n",
        "  def split_heads(self, x, batch_size):\n",
        "    \"\"\"\n",
        "    Should return a tensor of (batch_size, num_heads, seq_len, depth)\n",
        "    \"\"\"\n",
        "    x = tf.reshape(x, (batch_size, -1, self.num_heads, self.depth))\n",
        "    return tf.transpose(x, perm=[0, 2, 1, 3])\n",
        "\n",
        "  def call(self, v, k, q, mask):\n",
        "  \n",
        "    batch_size = tf.shape(q)[0]\n",
        "\n",
        "    q = self.wq(q)\n",
        "    k = self.wk(k)\n",
        "    v = self.wv(v)\n",
        "\n",
        "    q = self.split_heads(q, batch_size)\n",
        "    k = self.split_heads(k, batch_size)\n",
        "    v = self.split_heads(v, batch_size)\n",
        "\n",
        "    scaled_attention, attention_weights = scaled_dot_product_attention(q, k, v, mask)\n",
        "\n",
        "    scaled_attention = tf.transpose(scaled_attention, perm=[0, 2, 1, 3])\n",
        "    \n",
        "    concat_attention = tf.reshape(scaled_attention, (batch_size, -1, self.d_model))\n",
        "\n",
        "    output = self.dense(concat_attention)\n",
        "\n",
        "    return output, attention_weights\n"
      ],
      "execution_count": 32,
      "outputs": []
    },
    {
      "cell_type": "code",
      "metadata": {
        "colab": {
          "base_uri": "https://localhost:8080/"
        },
        "id": "DY6iRDBy20_R",
        "outputId": "80b8da3a-080a-4918-d9c0-e48cf6a3c4f2"
      },
      "source": [
        "## Lets try out the MHA class\n",
        "\n",
        "temp_mha = MultiHeadAttention(d_model=512, num_heads=8)\n",
        "y = tf.random.uniform((1, 60, 512))\n",
        "out, attn = temp_mha.call(y, k=y, q=y, mask=None)\n",
        "out.shape, attn.shape"
      ],
      "execution_count": 33,
      "outputs": [
        {
          "output_type": "execute_result",
          "data": {
            "text/plain": [
              "(TensorShape([1, 60, 512]), TensorShape([1, 8, 60, 60]))"
            ]
          },
          "metadata": {
            "tags": []
          },
          "execution_count": 33
        }
      ]
    },
    {
      "cell_type": "markdown",
      "metadata": {
        "id": "qLsyLCsjAlUB"
      },
      "source": [
        "## Point wise feed forward network\n"
      ]
    },
    {
      "cell_type": "code",
      "metadata": {
        "id": "4tyfWOhyAnpP"
      },
      "source": [
        "def point_wise_feed_forward_network(d_model, dff):\n",
        "  return tf.keras.Sequential([\n",
        "                              tf.keras.layers.Dense(dff, activation='relu'),\n",
        "                              tf.keras.layers.Dense(d_model)\n",
        "  ])"
      ],
      "execution_count": 34,
      "outputs": []
    },
    {
      "cell_type": "code",
      "metadata": {
        "colab": {
          "base_uri": "https://localhost:8080/"
        },
        "id": "o2vZTAJMAnl5",
        "outputId": "98b538b2-e4f6-4f3c-a3f2-6ce1bb3177ae"
      },
      "source": [
        "## Testing PWFFN\n",
        "\n",
        "sample_ffn = point_wise_feed_forward_network(512, 2048)\n",
        "sample_ffn(tf.random.uniform((64, 50, 512))).shape"
      ],
      "execution_count": 35,
      "outputs": [
        {
          "output_type": "execute_result",
          "data": {
            "text/plain": [
              "TensorShape([64, 50, 512])"
            ]
          },
          "metadata": {
            "tags": []
          },
          "execution_count": 35
        }
      ]
    },
    {
      "cell_type": "markdown",
      "metadata": {
        "id": "84U8r3tKB9ix"
      },
      "source": [
        "## Encoder and Decoder\n",
        "\n",
        "<div align=\"center\">\n",
        "\n",
        "<img src=\"https://www.tensorflow.org/images/tutorials/transformer/transformer.png\" >\n",
        "\n",
        "</div>"
      ]
    },
    {
      "cell_type": "markdown",
      "metadata": {
        "id": "8MArCbyaGZg1"
      },
      "source": [
        "## Encoder Layer\n",
        "\n",
        "It consists of:\n",
        "- Multi-Head Attention (with padding mask)\n",
        "- Point-wise Feed Forward network\n"
      ]
    },
    {
      "cell_type": "code",
      "metadata": {
        "id": "LMZ4nROcAni3"
      },
      "source": [
        "class EncoderLayer(tf.keras.layers.Layer):\n",
        "  def __init__(self, d_model, num_heads, dff, rate=0.1):\n",
        "    super().__init__()\n",
        "    self.mha = MultiHeadAttention(d_model, num_heads)\n",
        "    self.ffn = point_wise_feed_forward_network(d_model, dff)\n",
        "\n",
        "    self.layernorm1 = tf.keras.layers.LayerNormalization(epsilon=1e-6)\n",
        "    self.layernorm2 = tf.keras.layers.LayerNormalization(epsilon=1e-6)\n",
        "\n",
        "    self.dropout1 = tf.keras.layers.Dropout(rate)\n",
        "    self.dropout2 = tf.keras.layers.Dropout(rate)\n",
        "\n",
        "  def call(self, x, training, mask):\n",
        "    attn_output, _ = self.mha(x, x, x, mask)\n",
        "    attn_output = self.dropout1(attn_output, training=training)\n",
        "\n",
        "    out1 = self.layernorm1(x + attn_output)\n",
        "\n",
        "    ffn_output = self.ffn(out1)\n",
        "    ffn_output = self.dropout2(ffn_output, training=training)\n",
        "    out2 = self.layernorm2(out1 + ffn_output)\n",
        "\n",
        "    return out2"
      ],
      "execution_count": 36,
      "outputs": []
    },
    {
      "cell_type": "code",
      "metadata": {
        "id": "hjplxudLAnfy"
      },
      "source": [
        "sample_encoder_layer = EncoderLayer(512, 8, 2048)"
      ],
      "execution_count": 37,
      "outputs": []
    },
    {
      "cell_type": "code",
      "metadata": {
        "id": "lnFR0zGTAnc3"
      },
      "source": [
        "sample_encoder_layer_op = sample_encoder_layer(tf.random.uniform((64, 43, 512)), False, None)"
      ],
      "execution_count": 38,
      "outputs": []
    },
    {
      "cell_type": "code",
      "metadata": {
        "id": "x71HDDpoGBEO",
        "colab": {
          "base_uri": "https://localhost:8080/"
        },
        "outputId": "cccae18d-bfbf-43dc-feea-b54683839c57"
      },
      "source": [
        "sample_encoder_layer_op.shape"
      ],
      "execution_count": 39,
      "outputs": [
        {
          "output_type": "execute_result",
          "data": {
            "text/plain": [
              "TensorShape([64, 43, 512])"
            ]
          },
          "metadata": {
            "tags": []
          },
          "execution_count": 39
        }
      ]
    },
    {
      "cell_type": "markdown",
      "metadata": {
        "id": "I2qGBY5FGUmv"
      },
      "source": [
        "## Decoder Layer\n",
        "\n",
        "It consist of:\n",
        "- Masked multi-head attention (with look ahead mask and padding mask)\n",
        "- Multi-head attention (with padding mask). V (value) and K (key) receive the encoder output as inputs. Q (query) receives the output from the masked multi-head attention sublayer.\n",
        "- Point wise feed forward networks"
      ]
    },
    {
      "cell_type": "code",
      "metadata": {
        "id": "032DUMQ020x3"
      },
      "source": [
        "class DecoderLayer(tf.keras.layers.Layer):\n",
        "  def __init__(self, d_model, num_heads, dff, rate=0.1):\n",
        "    super().__init__()\n",
        "        \n",
        "    self.mha1 = MultiHeadAttention(d_model, num_heads)\n",
        "    self.mha2 = MultiHeadAttention(d_model, num_heads)\n",
        "\n",
        "    self.ffn = point_wise_feed_forward_network(d_model, dff)\n",
        "\n",
        "\n",
        "    self.layernorm1 = tf.keras.layers.LayerNormalization(epsilon=1e-6)\n",
        "    self.layernorm2 = tf.keras.layers.LayerNormalization(epsilon=1e-6)\n",
        "    self.layernorm3 = tf.keras.layers.LayerNormalization(epsilon=1e-6)\n",
        "\n",
        "    self.dropout1 = tf.keras.layers.Dropout(rate)\n",
        "    self.dropout2 = tf.keras.layers.Dropout(rate)\n",
        "    self.dropout3 = tf.keras.layers.Dropout(rate)\n",
        "\n",
        "  def call(self, x, enc_output, training, look_ahead_mask, padding_mask):\n",
        "    attn1, attn_weights_block1 = self.mha1(x,x,x,look_ahead_mask)\n",
        "    attn1 = self.dropout1(attn1, training=training)\n",
        "    out1 = self.layernorm1(attn1 + x)\n",
        "\n",
        "    attn2, attn_weights_block2 = self.mha2(enc_output, enc_output, out1,\n",
        "                                           padding_mask)\n",
        "    attn2 = self.dropout2(attn2, training=training)\n",
        "    out2 = self.layernorm2(attn2 + out1)\n",
        "\n",
        "    ffn_output = self.ffn(out2)\n",
        "    ffn_output = self.dropout3(ffn_output, training=training)\n",
        "    out3 = self.layernorm3(ffn_output + out2)\n",
        "\n",
        "    return out3, attn_weights_block1, attn_weights_block2"
      ],
      "execution_count": 40,
      "outputs": []
    },
    {
      "cell_type": "code",
      "metadata": {
        "id": "Uuk4SnND20tk",
        "colab": {
          "base_uri": "https://localhost:8080/"
        },
        "outputId": "556d91e6-a9bb-48f8-dc45-be7ca46b4ec8"
      },
      "source": [
        "sample_decoder_layer = DecoderLayer(512, 8, 2048)\n",
        "\n",
        "sample_decoder_layer_output, _, _ = sample_decoder_layer(\n",
        "    tf.random.uniform((64, 50, 512)), sample_encoder_layer_op,\n",
        "    False, None, None)\n",
        "\n",
        "sample_decoder_layer_output.shape"
      ],
      "execution_count": 41,
      "outputs": [
        {
          "output_type": "execute_result",
          "data": {
            "text/plain": [
              "TensorShape([64, 50, 512])"
            ]
          },
          "metadata": {
            "tags": []
          },
          "execution_count": 41
        }
      ]
    },
    {
      "cell_type": "markdown",
      "metadata": {
        "id": "H9_gBRoXKqWA"
      },
      "source": [
        "## Encoder\n",
        "\n",
        "It consists of:\n",
        "- Input Embedding\n",
        "- Positonal Encoding\n",
        "- N Encoder Layers"
      ]
    },
    {
      "cell_type": "code",
      "metadata": {
        "id": "O_bI0RoWKp2W"
      },
      "source": [
        "class Encoder(tf.keras.layers.Layer):\n",
        "  def __init__(self, num_layers, d_model, num_heads, dff, input_vocab_size,\n",
        "               maximum_position_encoding, rate=0.1):\n",
        "    super().__init__()\n",
        "    self.d_model = d_model\n",
        "    self.num_layers = num_layers\n",
        "\n",
        "    self.embedding = tf.keras.layers.Embedding(input_vocab_size, d_model)\n",
        "    self.pos_encoding = positional_encoding(maximum_position_encoding,\n",
        "                                            self.d_model)\n",
        "\n",
        "    self.enc_layers = [EncoderLayer(d_model, num_heads, dff, rate)\n",
        "                        for _ in range(num_layers)]\n",
        "\n",
        "    self.dropout = tf.keras.layers.Dropout(rate)\n",
        "  \n",
        "  def call(self, x, training, mask):\n",
        "    \n",
        "    seq_len = tf.shape(x)[1]\n",
        "\n",
        "    x = self.embedding(x)\n",
        "\n",
        "    x *= tf.math.sqrt(tf.cast(self.d_model, tf.float32))\n",
        "    x += self.pos_encoding[:, :seq_len, :]\n",
        "\n",
        "    x = self.dropout(x, training=training)\n",
        "\n",
        "    for i in range(self.num_layers):\n",
        "      x = self.enc_layers[i](x, training, mask)\n",
        "\n",
        "    \n",
        "    return x\n"
      ],
      "execution_count": 42,
      "outputs": []
    },
    {
      "cell_type": "code",
      "metadata": {
        "id": "EO5tOj-tKpzN",
        "colab": {
          "base_uri": "https://localhost:8080/"
        },
        "outputId": "df4e3a61-bc14-4f0b-bccc-3fb188f7bc7b"
      },
      "source": [
        "sample_encoder = Encoder(num_layers=2, d_model=512, num_heads=8,\n",
        "                         dff=2048, input_vocab_size=8500,\n",
        "                         maximum_position_encoding=10000)\n",
        "temp_input = tf.random.uniform((64, 62), dtype=tf.int64, minval=0, maxval=200)\n",
        "\n",
        "sample_encoder_output = sample_encoder(temp_input, training=False, mask=None)\n",
        "\n",
        "print(sample_encoder_output.shape)"
      ],
      "execution_count": 43,
      "outputs": [
        {
          "output_type": "stream",
          "text": [
            "(64, 62, 512)\n"
          ],
          "name": "stdout"
        }
      ]
    },
    {
      "cell_type": "markdown",
      "metadata": {
        "id": "WI4ZZIMuUh6o"
      },
      "source": [
        "## Decoder \n",
        "It consists of:\n",
        "- Output Embedding\n",
        "- Positional Encoding\n",
        "- N Decoded Layers"
      ]
    },
    {
      "cell_type": "code",
      "metadata": {
        "id": "BOTcgf53Kpwf"
      },
      "source": [
        "class Decoder(tf.keras.layers.Layer):\n",
        "  def __init__(self, num_layers, d_model, num_heads,dff, target_vocab_size,\n",
        "               maximum_position_encoding, rate=0.1):\n",
        "    super().__init__()\n",
        "    \n",
        "    self.d_model = d_model\n",
        "    self.num_layers = num_layers\n",
        "\n",
        "    self.embedding = tf.keras.layers.Embedding(target_vocab_size, d_model)\n",
        "    self.pos_encoding = positional_encoding(maximum_position_encoding, d_model)\n",
        "\n",
        "    self.dec_layers = [DecoderLayer(d_model, num_heads, dff, rate)\n",
        "                      for _ in range(num_layers)]\n",
        "\n",
        "    self.dropout = tf.keras.layers.Dropout(rate)\n",
        "\n",
        "  def call(self, x, enc_output, training, look_ahead_mask, padding_mask):\n",
        "\n",
        "    seq_len = tf.shape(x)[1]\n",
        "    attention_weights = {}\n",
        "\n",
        "    x = self.embedding(x)\n",
        "    x *= tf.math.sqrt(tf.cast(self.d_model, tf.float32))\n",
        "    x += self.pos_encoding[:, :seq_len, :]\n",
        "    x = self.dropout(x, training=training)\n",
        "\n",
        "    for i in range(self.num_layers):\n",
        "      x, block1, block2 = self.dec_layers[i](x, enc_output, training,\n",
        "                                             look_ahead_mask, padding_mask)\n",
        "      \n",
        "      attention_weights[f'decoder_layer{i+1}_block1'] = block1\n",
        "      attention_weights[f'decoder_layer{i+1}_block2'] = block2\n",
        "\n",
        "    return x, attention_weights\n"
      ],
      "execution_count": 44,
      "outputs": []
    },
    {
      "cell_type": "code",
      "metadata": {
        "id": "12DfdoXdUsxL",
        "colab": {
          "base_uri": "https://localhost:8080/"
        },
        "outputId": "dc7fda8e-d036-4964-b6b5-1ade69848cde"
      },
      "source": [
        "sample_decoder = Decoder(num_layers=2, d_model=512, num_heads=8,\n",
        "                         dff=2048, target_vocab_size=8000,\n",
        "                         maximum_position_encoding=5000)\n",
        "temp_input = tf.random.uniform((64, 26), dtype=tf.int64, minval=0, maxval=200)\n",
        "\n",
        "output, attn = sample_decoder(temp_input,\n",
        "                              enc_output=sample_encoder_output,\n",
        "                              training=False,\n",
        "                              look_ahead_mask=None,\n",
        "                              padding_mask=None)\n",
        "\n",
        "output.shape, attn['decoder_layer2_block2'].shape"
      ],
      "execution_count": 45,
      "outputs": [
        {
          "output_type": "execute_result",
          "data": {
            "text/plain": [
              "(TensorShape([64, 26, 512]), TensorShape([64, 8, 26, 62]))"
            ]
          },
          "metadata": {
            "tags": []
          },
          "execution_count": 45
        }
      ]
    },
    {
      "cell_type": "markdown",
      "metadata": {
        "id": "G6orVMJzXMA7"
      },
      "source": [
        "## Transformer\n"
      ]
    },
    {
      "cell_type": "code",
      "metadata": {
        "id": "pffRf-cqUtOT"
      },
      "source": [
        "class Transformer(tf.keras.Model):\n",
        "  def __init__(self, num_layers, d_model, num_heads, dff, input_vocab_size,\n",
        "               target_vocab_size, pe_input, pe_target, rate=0.1):\n",
        "    super().__init__()\n",
        "    self.tokenizer = Encoder(num_layers, d_model, num_heads, dff,\n",
        "                             input_vocab_size, pe_input, rate)\n",
        "    self.decoder = Decoder(num_layers, d_model, num_heads, dff,\n",
        "                           target_vocab_size, pe_target, rate)\n",
        "    \n",
        "    self.final_layer = tf.keras.layers.Dense(target_vocab_size)\n",
        "  \n",
        "  def call(self, inp, tar, training, enc_padding_mask,\n",
        "           look_ahead_mask, dec_padding_mask):\n",
        "    enc_output = self.tokenizer(inp, training, enc_padding_mask)\n",
        "    dec_output, attention_weights = self.decoder(tar, enc_output, training,\n",
        "                                                 look_ahead_mask, \n",
        "                                                 dec_padding_mask)\n",
        "    \n",
        "    final_output = self.final_layer(dec_output)\n",
        "    return final_output, attention_weights"
      ],
      "execution_count": 46,
      "outputs": []
    },
    {
      "cell_type": "code",
      "metadata": {
        "id": "BCJOZCJJUtLf",
        "colab": {
          "base_uri": "https://localhost:8080/"
        },
        "outputId": "220322bc-b2c7-48dd-9818-e627e4493f39"
      },
      "source": [
        "sample_transformer = Transformer(\n",
        "    num_layers=2, d_model=512, num_heads=8, dff=2048,\n",
        "    input_vocab_size=8500, target_vocab_size=8000,\n",
        "    pe_input=10000, pe_target=6000)\n",
        "\n",
        "temp_input = tf.random.uniform((64, 38), dtype=tf.int64, minval=0, maxval=200)\n",
        "temp_target = tf.random.uniform((64, 36), dtype=tf.int64, minval=0, maxval=200)\n",
        "\n",
        "fn_out, _ = sample_transformer(temp_input, temp_target, training=False,\n",
        "                               enc_padding_mask=None,\n",
        "                               look_ahead_mask=None,\n",
        "                               dec_padding_mask=None)\n",
        "\n",
        "fn_out.shape  # (batch_size, tar_seq_len, target_vocab_size)"
      ],
      "execution_count": 47,
      "outputs": [
        {
          "output_type": "execute_result",
          "data": {
            "text/plain": [
              "TensorShape([64, 36, 8000])"
            ]
          },
          "metadata": {
            "tags": []
          },
          "execution_count": 47
        }
      ]
    },
    {
      "cell_type": "markdown",
      "metadata": {
        "id": "Y4zRApIBZC14"
      },
      "source": [
        "## Hyperparameters\n"
      ]
    },
    {
      "cell_type": "code",
      "metadata": {
        "id": "IfRhmcqDUs_f"
      },
      "source": [
        "num_layers = 4\n",
        "d_model = 128\n",
        "dff = 512\n",
        "num_heads = 8\n",
        "dropout_rate = 0.1"
      ],
      "execution_count": 48,
      "outputs": []
    },
    {
      "cell_type": "markdown",
      "metadata": {
        "id": "ENQaVnK4ZV1I"
      },
      "source": [
        "## Optimizer\n",
        "\n",
        "Custom Learning Rate Scheduler, with ADAM Optimizers.\n"
      ]
    },
    {
      "cell_type": "code",
      "metadata": {
        "id": "40sZhMHWUs6t"
      },
      "source": [
        "class CustomSchedule(tf.keras.optimizers.schedules.LearningRateSchedule):\n",
        "  def __init__(self, d_model, warmup_steps=4000):\n",
        "    super().__init__()\n",
        "\n",
        "    self.d_model = d_model\n",
        "    self.d_model = tf.cast(self.d_model, tf.float32)\n",
        "\n",
        "    self.warmup_steps = warmup_steps\n",
        "\n",
        "  def __call__(self, step):\n",
        "    arg1 = tf.math.rsqrt(step)  ## Reciprocal of sqrt \\\n",
        "    arg2 = step * (self.warmup_steps ** -1.5)\n",
        "\n",
        "    return tf.math.rsqrt(self.d_model) * tf.math.minimum(arg1, arg2)"
      ],
      "execution_count": 49,
      "outputs": []
    },
    {
      "cell_type": "code",
      "metadata": {
        "id": "wn7z7r-GUs26"
      },
      "source": [
        "learning_rate = CustomSchedule(d_model)\n",
        "\n",
        "optimizer = tf.keras.optimizers.Adam(learning_rate, beta_1=0.9, beta_2=0.98,\n",
        "                                     epsilon=1e-9)\n"
      ],
      "execution_count": 50,
      "outputs": []
    },
    {
      "cell_type": "code",
      "metadata": {
        "id": "TlnSOWxZbVeh"
      },
      "source": [
        "temp_learning_rate_schedule = CustomSchedule(d_model)"
      ],
      "execution_count": 51,
      "outputs": []
    },
    {
      "cell_type": "code",
      "metadata": {
        "id": "w5FuVtzebdsz",
        "colab": {
          "base_uri": "https://localhost:8080/",
          "height": 297
        },
        "outputId": "5bb5cbba-39de-4209-fc1a-76e56e95fbe1"
      },
      "source": [
        "plt.plot(temp_learning_rate_schedule(tf.range(40000, dtype=tf.float32)))\n",
        "plt.ylabel(\"Learning Rate\")\n",
        "plt.xlabel(\"Train Step\")"
      ],
      "execution_count": 52,
      "outputs": [
        {
          "output_type": "execute_result",
          "data": {
            "text/plain": [
              "Text(0.5, 0, 'Train Step')"
            ]
          },
          "metadata": {
            "tags": []
          },
          "execution_count": 52
        },
        {
          "output_type": "display_data",
          "data": {
            "image/png": "[encoded data removed]",
            "text/plain": [
              "<Figure size 432x288 with 1 Axes>"
            ]
          },
          "metadata": {
            "tags": [],
            "needs_background": "light"
          }
        }
      ]
    },
    {
      "cell_type": "markdown",
      "metadata": {
        "id": "FG9EFUyjbk7i"
      },
      "source": [
        "## Loss and Metrics\n",
        "\n",
        "As the target sequences are padded, we need to make sure that our predicted output should also be padded while calculating loss."
      ]
    },
    {
      "cell_type": "code",
      "metadata": {
        "id": "qBmNGNVMbkve"
      },
      "source": [
        "loss_object = tf.keras.losses.SparseCategoricalCrossentropy(\n",
        "    from_logits=True, reduction='none'\n",
        ")"
      ],
      "execution_count": 53,
      "outputs": []
    },
    {
      "cell_type": "code",
      "metadata": {
        "id": "0wzgARspbkr3"
      },
      "source": [
        "def loss_function(real, pred):\n",
        "  mask = tf.math.logical_not(tf.math.equal(real, 0))\n",
        "  loss_ = loss_object(real, pred)\n",
        "\n",
        "  mask = tf.cast(mask, dtype=loss_.dtype)\n",
        "\n",
        "  loss_ *= mask\n",
        "\n",
        "  return tf.reduce_sum(loss_)/tf.reduce_sum(mask)\n",
        "\n",
        "def accuracy_function(real, pred):\n",
        "  accuracies = tf.equal(real, tf.argmax(pred, axis=2))\n",
        "\n",
        "  mask = tf.math.logical_not(tf.math.equal(real, 0))\n",
        "  accuracies = tf.math.logical_and(mask, accuracies)\n",
        "\n",
        "  accuracies = tf.cast(accuracies, tf.float32)\n",
        "  mask = tf.cast(mask, tf.float32)\n",
        "\n",
        "  return tf.reduce_sum(accuracies)/tf.reduce_sum(mask)"
      ],
      "execution_count": 54,
      "outputs": []
    },
    {
      "cell_type": "code",
      "metadata": {
        "id": "QO2ALGUnbkoD"
      },
      "source": [
        "train_loss = tf.keras.metrics.Mean(name='train_loss')\n",
        "train_accuracy = tf.keras.metrics.Mean(name='train_accuracy')"
      ],
      "execution_count": 55,
      "outputs": []
    },
    {
      "cell_type": "markdown",
      "metadata": {
        "id": "4ZDPbCf9gt4k"
      },
      "source": [
        "## Training & Checkpoint\n"
      ]
    },
    {
      "cell_type": "code",
      "metadata": {
        "id": "hqthH44vbkkh"
      },
      "source": [
        "transformer = Transformer(\n",
        "    num_layers=num_layers,\n",
        "    d_model=d_model,\n",
        "    dff=dff,\n",
        "    num_heads=num_heads,\n",
        "    input_vocab_size=tokenizers.pt.get_vocab_size(),\n",
        "    target_vocab_size=tokenizers.en.get_vocab_size(),\n",
        "    pe_input=1000,\n",
        "    pe_target=1000,\n",
        "    rate=dropout_rate\n",
        ")"
      ],
      "execution_count": 56,
      "outputs": []
    },
    {
      "cell_type": "code",
      "metadata": {
        "id": "ghIc4QZogtfJ"
      },
      "source": [
        "def create_mask(inp, tar):\n",
        "  enc_padding_mask = create_padding_mask(inp)\n",
        "  dec_padding_mask = create_padding_mask(inp)\n",
        "\n",
        "  look_ahead_mask = create_look_ahead_mask(tf.shape(tar)[1])\n",
        "  dec_target_padding_mask = create_padding_mask(tar)\n",
        "  combined_mask = tf.maximum(dec_target_padding_mask, look_ahead_mask)\n",
        "\n",
        "  return enc_padding_mask, combined_mask, dec_padding_mask"
      ],
      "execution_count": 66,
      "outputs": []
    },
    {
      "cell_type": "code",
      "metadata": {
        "id": "sis2izB0gta-"
      },
      "source": [
        "checkpoint_path = './checkpoints/train'\n",
        "\n",
        "ckpt = tf.train.Checkpoint(transformer=transformer, optimizer=optimizer)\n",
        "\n",
        "ckpt_manager = tf.train.CheckpointManager(ckpt, checkpoint_path, max_to_keep=5)\n",
        "\n",
        "if ckpt_manager.latest_checkpoint:\n",
        "  ckpt.restore(ckpt_manager.latest_checkpoint)\n",
        "  print(\"Latest Checkpoint Restored!!!\")\n",
        "  "
      ],
      "execution_count": 58,
      "outputs": []
    },
    {
      "cell_type": "markdown",
      "metadata": {
        "id": "iylNCSazdt7R"
      },
      "source": [
        "The `target` is split into two categories, `tar_inp`, which is the input to the decoder and `tar_real`, which is same as the previous type, but shifted by 1. The model will try to predict the next word everytime it gets the line.\n"
      ]
    },
    {
      "cell_type": "code",
      "metadata": {
        "id": "Vi4ipa1BgtXM"
      },
      "source": [
        "EPOCHS = 20\n"
      ],
      "execution_count": 64,
      "outputs": []
    },
    {
      "cell_type": "code",
      "metadata": {
        "id": "k-J7dMfygtUB"
      },
      "source": [
        "train_step_signature = [\n",
        "                 tf.TensorSpec(shape=(None, None), dtype = tf.int64),\n",
        "                 tf.TensorSpec(shape=(None, None), dtype = tf.int64),\n",
        "]"
      ],
      "execution_count": 60,
      "outputs": []
    },
    {
      "cell_type": "code",
      "metadata": {
        "id": "tMJH01EXbkhV"
      },
      "source": [
        "@tf.function(input_signature=train_step_signature)\n",
        "def train_step(inp, tar):\n",
        "  tar_inp = tar[:, :-1]\n",
        "  tar_real = tar[:, 1:]\n",
        "\n",
        "  enc_padding_mask, combined_mask, dec_padding_mask = create_mask(inp, tar_inp)\n",
        "\n",
        "  with tf.GradientTape() as tape:\n",
        "    predictions, _ = transformer(inp, tar_inp,\n",
        "                                 True, enc_padding_mask,\n",
        "                                 combined_mask,\n",
        "                                 dec_padding_mask)\n",
        "    \n",
        "    loss = loss_function(tar_real, predictions)\n",
        "  gradients = tape.gradient(loss, transformer.trainable_variables)\n",
        "  optimizer.apply_gradients(zip(gradients, transformer.trainable_variables))\n",
        "\n",
        "  train_loss(loss)\n",
        "  train_accuracy(accuracy_function(tar_real, predictions))"
      ],
      "execution_count": 67,
      "outputs": []
    },
    {
      "cell_type": "code",
      "metadata": {
        "id": "Ku1GnMckf8Gm"
      },
      "source": [
        "import time"
      ],
      "execution_count": 62,
      "outputs": []
    },
    {
      "cell_type": "code",
      "metadata": {
        "id": "ryP8-Un5bj1S",
        "colab": {
          "base_uri": "https://localhost:8080/"
        },
        "outputId": "b4875d6d-53dc-4118-a4e7-68832f87092e"
      },
      "source": [
        "for epoch in range(EPOCHS):\n",
        "  start = time.time()\n",
        "\n",
        "  train_loss.reset_states()\n",
        "  train_accuracy.reset_states()\n",
        "\n",
        "  for (batch, (inp, tar)) in enumerate(train_batches):\n",
        "    train_step(inp, tar)\n",
        "    # Printing at every 50 batches\n",
        "    if batch % 50 == 0:\n",
        "      print(f'Epoch: {epoch + 1}, Batch: {batch}, Loss: {train_loss.result():.4f}, Accuracy: {train_accuracy.result():.4f}')\n",
        "  # Saving Checkpoint every 5 epochs\n",
        "  if (epoch + 1) % 5 == 0:\n",
        "    ckpt_save_path = ckpt_manager.save()\n",
        "    print(f'Saving Checkpoint for epoch {epoch+1} at {ckpt_save_path}.')\n",
        "\n",
        "  print(f'Epoch: {epoch + 1}, Loss: {train_loss.result():.4f}, Accuracy: {train_accuracy.result():.4f}')\n",
        "\n",
        "  print(f'Time Taken for 1 epoch: {time.time() - start:.2f} secs.\\n')\n",
        "  \n"
      ],
      "execution_count": 68,
      "outputs": [
        {
          "output_type": "stream",
          "text": [
            "Epoch: 1, Batch: 0, Loss: 8.8521, Accuracy: 0.0000\n",
            "Epoch: 1, Batch: 50, Loss: 8.7831, Accuracy: 0.0209\n",
            "Epoch: 1, Batch: 100, Loss: 8.6871, Accuracy: 0.0330\n",
            "Epoch: 1, Batch: 150, Loss: 8.5768, Accuracy: 0.0370\n",
            "Epoch: 1, Batch: 200, Loss: 8.4369, Accuracy: 0.0393\n",
            "Epoch: 1, Batch: 250, Loss: 8.2683, Accuracy: 0.0405\n",
            "Epoch: 1, Batch: 300, Loss: 8.0799, Accuracy: 0.0413\n",
            "Epoch: 1, Batch: 350, Loss: 7.8844, Accuracy: 0.0425\n",
            "Epoch: 1, Batch: 400, Loss: 7.6964, Accuracy: 0.0494\n",
            "Epoch: 1, Batch: 450, Loss: 7.5286, Accuracy: 0.0582\n",
            "Epoch: 1, Batch: 500, Loss: 7.3832, Accuracy: 0.0655\n",
            "Epoch: 1, Batch: 550, Loss: 7.2511, Accuracy: 0.0729\n",
            "Epoch: 1, Batch: 600, Loss: 7.1267, Accuracy: 0.0809\n",
            "Epoch: 1, Batch: 650, Loss: 7.0125, Accuracy: 0.0888\n",
            "Epoch: 1, Batch: 700, Loss: 6.9057, Accuracy: 0.0962\n",
            "Epoch: 1, Batch: 750, Loss: 6.8072, Accuracy: 0.1029\n",
            "Epoch: 1, Batch: 800, Loss: 6.7138, Accuracy: 0.1093\n",
            "Epoch: 1, Loss: 6.6979, Accuracy: 0.1104\n",
            "Time Taken for 1 epoch: 118.10 secs.\n",
            "\n",
            "Epoch: 2, Batch: 0, Loss: 5.3126, Accuracy: 0.2113\n",
            "Epoch: 2, Batch: 50, Loss: 5.2539, Accuracy: 0.2098\n",
            "Epoch: 2, Batch: 100, Loss: 5.2009, Accuracy: 0.2146\n",
            "Epoch: 2, Batch: 150, Loss: 5.1886, Accuracy: 0.2170\n",
            "Epoch: 2, Batch: 200, Loss: 5.1612, Accuracy: 0.2186\n",
            "Epoch: 2, Batch: 250, Loss: 5.1363, Accuracy: 0.2212\n",
            "Epoch: 2, Batch: 300, Loss: 5.1093, Accuracy: 0.2241\n",
            "Epoch: 2, Batch: 350, Loss: 5.0874, Accuracy: 0.2262\n",
            "Epoch: 2, Batch: 400, Loss: 5.0622, Accuracy: 0.2288\n",
            "Epoch: 2, Batch: 450, Loss: 5.0412, Accuracy: 0.2309\n",
            "Epoch: 2, Batch: 500, Loss: 5.0202, Accuracy: 0.2330\n",
            "Epoch: 2, Batch: 550, Loss: 5.0032, Accuracy: 0.2346\n",
            "Epoch: 2, Batch: 600, Loss: 4.9844, Accuracy: 0.2363\n",
            "Epoch: 2, Batch: 650, Loss: 4.9686, Accuracy: 0.2378\n",
            "Epoch: 2, Batch: 700, Loss: 4.9499, Accuracy: 0.2393\n",
            "Epoch: 2, Batch: 750, Loss: 4.9326, Accuracy: 0.2409\n",
            "Epoch: 2, Batch: 800, Loss: 4.9166, Accuracy: 0.2425\n",
            "Epoch: 2, Loss: 4.9132, Accuracy: 0.2429\n",
            "Time Taken for 1 epoch: 103.21 secs.\n",
            "\n",
            "Epoch: 3, Batch: 0, Loss: 4.7383, Accuracy: 0.2542\n",
            "Epoch: 3, Batch: 50, Loss: 4.6061, Accuracy: 0.2696\n",
            "Epoch: 3, Batch: 100, Loss: 4.5906, Accuracy: 0.2716\n",
            "Epoch: 3, Batch: 150, Loss: 4.5850, Accuracy: 0.2714\n",
            "Epoch: 3, Batch: 200, Loss: 4.5734, Accuracy: 0.2727\n",
            "Epoch: 3, Batch: 250, Loss: 4.5648, Accuracy: 0.2738\n",
            "Epoch: 3, Batch: 300, Loss: 4.5573, Accuracy: 0.2741\n",
            "Epoch: 3, Batch: 350, Loss: 4.5480, Accuracy: 0.2752\n",
            "Epoch: 3, Batch: 400, Loss: 4.5336, Accuracy: 0.2763\n",
            "Epoch: 3, Batch: 450, Loss: 4.5262, Accuracy: 0.2772\n",
            "Epoch: 3, Batch: 500, Loss: 4.5104, Accuracy: 0.2790\n",
            "Epoch: 3, Batch: 550, Loss: 4.4942, Accuracy: 0.2809\n",
            "Epoch: 3, Batch: 600, Loss: 4.4802, Accuracy: 0.2824\n",
            "Epoch: 3, Batch: 650, Loss: 4.4662, Accuracy: 0.2839\n",
            "Epoch: 3, Batch: 700, Loss: 4.4515, Accuracy: 0.2856\n",
            "Epoch: 3, Batch: 750, Loss: 4.4389, Accuracy: 0.2872\n",
            "Epoch: 3, Batch: 800, Loss: 4.4236, Accuracy: 0.2892\n",
            "Epoch: 3, Loss: 4.4208, Accuracy: 0.2895\n",
            "Time Taken for 1 epoch: 103.28 secs.\n",
            "\n",
            "Epoch: 4, Batch: 0, Loss: 3.9790, Accuracy: 0.3326\n",
            "Epoch: 4, Batch: 50, Loss: 4.0859, Accuracy: 0.3276\n",
            "Epoch: 4, Batch: 100, Loss: 4.0779, Accuracy: 0.3288\n",
            "Epoch: 4, Batch: 150, Loss: 4.0701, Accuracy: 0.3297\n",
            "Epoch: 4, Batch: 200, Loss: 4.0540, Accuracy: 0.3313\n",
            "Epoch: 4, Batch: 250, Loss: 4.0426, Accuracy: 0.3323\n",
            "Epoch: 4, Batch: 300, Loss: 4.0289, Accuracy: 0.3343\n",
            "Epoch: 4, Batch: 350, Loss: 4.0109, Accuracy: 0.3363\n",
            "Epoch: 4, Batch: 400, Loss: 3.9977, Accuracy: 0.3381\n",
            "Epoch: 4, Batch: 450, Loss: 3.9822, Accuracy: 0.3403\n",
            "Epoch: 4, Batch: 500, Loss: 3.9674, Accuracy: 0.3421\n",
            "Epoch: 4, Batch: 550, Loss: 3.9531, Accuracy: 0.3438\n",
            "Epoch: 4, Batch: 600, Loss: 3.9400, Accuracy: 0.3455\n",
            "Epoch: 4, Batch: 650, Loss: 3.9269, Accuracy: 0.3473\n",
            "Epoch: 4, Batch: 700, Loss: 3.9120, Accuracy: 0.3491\n",
            "Epoch: 4, Batch: 750, Loss: 3.8991, Accuracy: 0.3509\n",
            "Epoch: 4, Batch: 800, Loss: 3.8840, Accuracy: 0.3530\n",
            "Epoch: 4, Loss: 3.8813, Accuracy: 0.3534\n",
            "Time Taken for 1 epoch: 102.88 secs.\n",
            "\n",
            "Epoch: 5, Batch: 0, Loss: 3.6247, Accuracy: 0.3952\n",
            "Epoch: 5, Batch: 50, Loss: 3.5601, Accuracy: 0.3920\n",
            "Epoch: 5, Batch: 100, Loss: 3.5485, Accuracy: 0.3940\n",
            "Epoch: 5, Batch: 150, Loss: 3.5386, Accuracy: 0.3948\n",
            "Epoch: 5, Batch: 200, Loss: 3.5302, Accuracy: 0.3960\n",
            "Epoch: 5, Batch: 250, Loss: 3.5171, Accuracy: 0.3980\n",
            "Epoch: 5, Batch: 300, Loss: 3.5135, Accuracy: 0.3989\n",
            "Epoch: 5, Batch: 350, Loss: 3.5040, Accuracy: 0.4000\n",
            "Epoch: 5, Batch: 400, Loss: 3.4947, Accuracy: 0.4011\n",
            "Epoch: 5, Batch: 450, Loss: 3.4855, Accuracy: 0.4025\n",
            "Epoch: 5, Batch: 500, Loss: 3.4756, Accuracy: 0.4037\n",
            "Epoch: 5, Batch: 550, Loss: 3.4634, Accuracy: 0.4053\n",
            "Epoch: 5, Batch: 600, Loss: 3.4559, Accuracy: 0.4064\n",
            "Epoch: 5, Batch: 650, Loss: 3.4453, Accuracy: 0.4078\n",
            "Epoch: 5, Batch: 700, Loss: 3.4373, Accuracy: 0.4090\n",
            "Epoch: 5, Batch: 750, Loss: 3.4305, Accuracy: 0.4100\n",
            "Epoch: 5, Batch: 800, Loss: 3.4228, Accuracy: 0.4111\n",
            "Saving Checkpoint for epoch 5 at ./checkpoints/train/ckpt-1.\n",
            "Epoch: 5, Loss: 3.4204, Accuracy: 0.4115\n",
            "Time Taken for 1 epoch: 103.14 secs.\n",
            "\n",
            "Epoch: 6, Batch: 0, Loss: 3.3967, Accuracy: 0.3916\n",
            "Epoch: 6, Batch: 50, Loss: 3.1877, Accuracy: 0.4364\n",
            "Epoch: 6, Batch: 100, Loss: 3.1706, Accuracy: 0.4397\n",
            "Epoch: 6, Batch: 150, Loss: 3.1456, Accuracy: 0.4432\n",
            "Epoch: 6, Batch: 200, Loss: 3.1324, Accuracy: 0.4450\n",
            "Epoch: 6, Batch: 250, Loss: 3.1284, Accuracy: 0.4454\n",
            "Epoch: 6, Batch: 300, Loss: 3.1123, Accuracy: 0.4475\n",
            "Epoch: 6, Batch: 350, Loss: 3.1028, Accuracy: 0.4490\n",
            "Epoch: 6, Batch: 400, Loss: 3.0907, Accuracy: 0.4508\n",
            "Epoch: 6, Batch: 450, Loss: 3.0842, Accuracy: 0.4517\n",
            "Epoch: 6, Batch: 500, Loss: 3.0794, Accuracy: 0.4525\n",
            "Epoch: 6, Batch: 550, Loss: 3.0698, Accuracy: 0.4536\n",
            "Epoch: 6, Batch: 600, Loss: 3.0611, Accuracy: 0.4546\n",
            "Epoch: 6, Batch: 650, Loss: 3.0521, Accuracy: 0.4557\n",
            "Epoch: 6, Batch: 700, Loss: 3.0425, Accuracy: 0.4572\n",
            "Epoch: 6, Batch: 750, Loss: 3.0328, Accuracy: 0.4585\n",
            "Epoch: 6, Batch: 800, Loss: 3.0239, Accuracy: 0.4598\n",
            "Epoch: 6, Loss: 3.0222, Accuracy: 0.4601\n",
            "Time Taken for 1 epoch: 102.66 secs.\n",
            "\n",
            "Epoch: 7, Batch: 0, Loss: 2.8046, Accuracy: 0.4801\n",
            "Epoch: 7, Batch: 50, Loss: 2.7329, Accuracy: 0.4934\n",
            "Epoch: 7, Batch: 100, Loss: 2.7377, Accuracy: 0.4942\n",
            "Epoch: 7, Batch: 150, Loss: 2.7395, Accuracy: 0.4942\n",
            "Epoch: 7, Batch: 200, Loss: 2.7323, Accuracy: 0.4957\n",
            "Epoch: 7, Batch: 250, Loss: 2.7307, Accuracy: 0.4961\n",
            "Epoch: 7, Batch: 300, Loss: 2.7259, Accuracy: 0.4965\n",
            "Epoch: 7, Batch: 350, Loss: 2.7225, Accuracy: 0.4969\n",
            "Epoch: 7, Batch: 400, Loss: 2.7152, Accuracy: 0.4981\n",
            "Epoch: 7, Batch: 450, Loss: 2.7109, Accuracy: 0.4987\n",
            "Epoch: 7, Batch: 500, Loss: 2.7018, Accuracy: 0.5000\n",
            "Epoch: 7, Batch: 550, Loss: 2.6969, Accuracy: 0.5008\n",
            "Epoch: 7, Batch: 600, Loss: 2.6909, Accuracy: 0.5018\n",
            "Epoch: 7, Batch: 650, Loss: 2.6865, Accuracy: 0.5028\n",
            "Epoch: 7, Batch: 700, Loss: 2.6826, Accuracy: 0.5036\n",
            "Epoch: 7, Batch: 750, Loss: 2.6781, Accuracy: 0.5044\n",
            "Epoch: 7, Batch: 800, Loss: 2.6731, Accuracy: 0.5054\n",
            "Epoch: 7, Loss: 2.6716, Accuracy: 0.5055\n",
            "Time Taken for 1 epoch: 101.78 secs.\n",
            "\n",
            "Epoch: 8, Batch: 0, Loss: 2.5392, Accuracy: 0.5192\n",
            "Epoch: 8, Batch: 50, Loss: 2.4568, Accuracy: 0.5327\n",
            "Epoch: 8, Batch: 100, Loss: 2.4397, Accuracy: 0.5366\n",
            "Epoch: 8, Batch: 150, Loss: 2.4340, Accuracy: 0.5371\n",
            "Epoch: 8, Batch: 200, Loss: 2.4454, Accuracy: 0.5356\n",
            "Epoch: 8, Batch: 250, Loss: 2.4509, Accuracy: 0.5345\n",
            "Epoch: 8, Batch: 300, Loss: 2.4487, Accuracy: 0.5348\n",
            "Epoch: 8, Batch: 350, Loss: 2.4456, Accuracy: 0.5353\n",
            "Epoch: 8, Batch: 400, Loss: 2.4416, Accuracy: 0.5358\n",
            "Epoch: 8, Batch: 450, Loss: 2.4418, Accuracy: 0.5357\n",
            "Epoch: 8, Batch: 500, Loss: 2.4377, Accuracy: 0.5364\n",
            "Epoch: 8, Batch: 550, Loss: 2.4360, Accuracy: 0.5367\n",
            "Epoch: 8, Batch: 600, Loss: 2.4317, Accuracy: 0.5375\n",
            "Epoch: 8, Batch: 650, Loss: 2.4324, Accuracy: 0.5375\n",
            "Epoch: 8, Batch: 700, Loss: 2.4296, Accuracy: 0.5380\n",
            "Epoch: 8, Batch: 750, Loss: 2.4277, Accuracy: 0.5384\n",
            "Epoch: 8, Batch: 800, Loss: 2.4268, Accuracy: 0.5385\n",
            "Epoch: 8, Loss: 2.4262, Accuracy: 0.5386\n",
            "Time Taken for 1 epoch: 102.85 secs.\n",
            "\n",
            "Epoch: 9, Batch: 0, Loss: 2.3911, Accuracy: 0.5479\n",
            "Epoch: 9, Batch: 50, Loss: 2.2574, Accuracy: 0.5600\n",
            "Epoch: 9, Batch: 100, Loss: 2.2607, Accuracy: 0.5592\n",
            "Epoch: 9, Batch: 150, Loss: 2.2507, Accuracy: 0.5609\n",
            "Epoch: 9, Batch: 200, Loss: 2.2551, Accuracy: 0.5608\n",
            "Epoch: 9, Batch: 250, Loss: 2.2531, Accuracy: 0.5615\n",
            "Epoch: 9, Batch: 300, Loss: 2.2476, Accuracy: 0.5626\n",
            "Epoch: 9, Batch: 350, Loss: 2.2484, Accuracy: 0.5624\n",
            "Epoch: 9, Batch: 400, Loss: 2.2441, Accuracy: 0.5633\n",
            "Epoch: 9, Batch: 450, Loss: 2.2456, Accuracy: 0.5634\n",
            "Epoch: 9, Batch: 500, Loss: 2.2395, Accuracy: 0.5643\n",
            "Epoch: 9, Batch: 550, Loss: 2.2420, Accuracy: 0.5639\n",
            "Epoch: 9, Batch: 600, Loss: 2.2412, Accuracy: 0.5641\n",
            "Epoch: 9, Batch: 650, Loss: 2.2434, Accuracy: 0.5637\n",
            "Epoch: 9, Batch: 700, Loss: 2.2415, Accuracy: 0.5641\n",
            "Epoch: 9, Batch: 750, Loss: 2.2402, Accuracy: 0.5644\n",
            "Epoch: 9, Batch: 800, Loss: 2.2421, Accuracy: 0.5642\n",
            "Epoch: 9, Loss: 2.2416, Accuracy: 0.5641\n",
            "Time Taken for 1 epoch: 103.06 secs.\n",
            "\n",
            "Epoch: 10, Batch: 0, Loss: 2.1846, Accuracy: 0.5644\n",
            "Epoch: 10, Batch: 50, Loss: 2.0969, Accuracy: 0.5827\n",
            "Epoch: 10, Batch: 100, Loss: 2.0937, Accuracy: 0.5830\n",
            "Epoch: 10, Batch: 150, Loss: 2.1010, Accuracy: 0.5814\n",
            "Epoch: 10, Batch: 200, Loss: 2.0912, Accuracy: 0.5830\n",
            "Epoch: 10, Batch: 250, Loss: 2.0922, Accuracy: 0.5831\n",
            "Epoch: 10, Batch: 300, Loss: 2.0954, Accuracy: 0.5829\n",
            "Epoch: 10, Batch: 350, Loss: 2.0961, Accuracy: 0.5833\n",
            "Epoch: 10, Batch: 400, Loss: 2.0957, Accuracy: 0.5833\n",
            "Epoch: 10, Batch: 450, Loss: 2.0964, Accuracy: 0.5832\n",
            "Epoch: 10, Batch: 500, Loss: 2.0962, Accuracy: 0.5834\n",
            "Epoch: 10, Batch: 550, Loss: 2.0951, Accuracy: 0.5836\n",
            "Epoch: 10, Batch: 600, Loss: 2.0964, Accuracy: 0.5835\n",
            "Epoch: 10, Batch: 650, Loss: 2.0965, Accuracy: 0.5837\n",
            "Epoch: 10, Batch: 700, Loss: 2.0951, Accuracy: 0.5841\n",
            "Epoch: 10, Batch: 750, Loss: 2.0950, Accuracy: 0.5841\n",
            "Epoch: 10, Batch: 800, Loss: 2.0961, Accuracy: 0.5841\n",
            "Saving Checkpoint for epoch 10 at ./checkpoints/train/ckpt-2.\n",
            "Epoch: 10, Loss: 2.0970, Accuracy: 0.5840\n",
            "Time Taken for 1 epoch: 103.10 secs.\n",
            "\n",
            "Epoch: 11, Batch: 0, Loss: 1.8767, Accuracy: 0.6134\n",
            "Epoch: 11, Batch: 50, Loss: 1.9792, Accuracy: 0.6002\n",
            "Epoch: 11, Batch: 100, Loss: 1.9751, Accuracy: 0.6002\n",
            "Epoch: 11, Batch: 150, Loss: 1.9671, Accuracy: 0.6016\n",
            "Epoch: 11, Batch: 200, Loss: 1.9667, Accuracy: 0.6015\n",
            "Epoch: 11, Batch: 250, Loss: 1.9707, Accuracy: 0.6009\n",
            "Epoch: 11, Batch: 300, Loss: 1.9705, Accuracy: 0.6014\n",
            "Epoch: 11, Batch: 350, Loss: 1.9741, Accuracy: 0.6008\n",
            "Epoch: 11, Batch: 400, Loss: 1.9751, Accuracy: 0.6007\n",
            "Epoch: 11, Batch: 450, Loss: 1.9766, Accuracy: 0.6004\n",
            "Epoch: 11, Batch: 500, Loss: 1.9757, Accuracy: 0.6006\n",
            "Epoch: 11, Batch: 550, Loss: 1.9763, Accuracy: 0.6007\n",
            "Epoch: 11, Batch: 600, Loss: 1.9769, Accuracy: 0.6007\n",
            "Epoch: 11, Batch: 650, Loss: 1.9783, Accuracy: 0.6006\n",
            "Epoch: 11, Batch: 700, Loss: 1.9781, Accuracy: 0.6008\n",
            "Epoch: 11, Batch: 750, Loss: 1.9797, Accuracy: 0.6007\n",
            "Epoch: 11, Batch: 800, Loss: 1.9822, Accuracy: 0.6004\n",
            "Epoch: 11, Loss: 1.9826, Accuracy: 0.6004\n",
            "Time Taken for 1 epoch: 103.05 secs.\n",
            "\n",
            "Epoch: 12, Batch: 0, Loss: 1.7892, Accuracy: 0.6516\n",
            "Epoch: 12, Batch: 50, Loss: 1.8743, Accuracy: 0.6151\n",
            "Epoch: 12, Batch: 100, Loss: 1.8581, Accuracy: 0.6185\n",
            "Epoch: 12, Batch: 150, Loss: 1.8646, Accuracy: 0.6167\n",
            "Epoch: 12, Batch: 200, Loss: 1.8663, Accuracy: 0.6167\n",
            "Epoch: 12, Batch: 250, Loss: 1.8716, Accuracy: 0.6155\n",
            "Epoch: 12, Batch: 300, Loss: 1.8659, Accuracy: 0.6166\n",
            "Epoch: 12, Batch: 350, Loss: 1.8691, Accuracy: 0.6166\n",
            "Epoch: 12, Batch: 400, Loss: 1.8727, Accuracy: 0.6160\n",
            "Epoch: 12, Batch: 450, Loss: 1.8724, Accuracy: 0.6158\n",
            "Epoch: 12, Batch: 500, Loss: 1.8772, Accuracy: 0.6152\n",
            "Epoch: 12, Batch: 550, Loss: 1.8797, Accuracy: 0.6148\n",
            "Epoch: 12, Batch: 600, Loss: 1.8789, Accuracy: 0.6150\n",
            "Epoch: 12, Batch: 650, Loss: 1.8809, Accuracy: 0.6149\n",
            "Epoch: 12, Batch: 700, Loss: 1.8842, Accuracy: 0.6145\n",
            "Epoch: 12, Batch: 750, Loss: 1.8853, Accuracy: 0.6144\n",
            "Epoch: 12, Batch: 800, Loss: 1.8860, Accuracy: 0.6145\n",
            "Epoch: 12, Loss: 1.8859, Accuracy: 0.6145\n",
            "Time Taken for 1 epoch: 103.44 secs.\n",
            "\n",
            "Epoch: 13, Batch: 0, Loss: 1.8302, Accuracy: 0.6238\n",
            "Epoch: 13, Batch: 50, Loss: 1.7964, Accuracy: 0.6257\n",
            "Epoch: 13, Batch: 100, Loss: 1.7769, Accuracy: 0.6295\n",
            "Epoch: 13, Batch: 150, Loss: 1.7741, Accuracy: 0.6301\n",
            "Epoch: 13, Batch: 200, Loss: 1.7726, Accuracy: 0.6307\n",
            "Epoch: 13, Batch: 250, Loss: 1.7801, Accuracy: 0.6295\n",
            "Epoch: 13, Batch: 300, Loss: 1.7862, Accuracy: 0.6286\n",
            "Epoch: 13, Batch: 350, Loss: 1.7858, Accuracy: 0.6288\n",
            "Epoch: 13, Batch: 400, Loss: 1.7879, Accuracy: 0.6284\n",
            "Epoch: 13, Batch: 450, Loss: 1.7940, Accuracy: 0.6275\n",
            "Epoch: 13, Batch: 500, Loss: 1.7921, Accuracy: 0.6279\n",
            "Epoch: 13, Batch: 550, Loss: 1.7935, Accuracy: 0.6277\n",
            "Epoch: 13, Batch: 600, Loss: 1.7944, Accuracy: 0.6277\n",
            "Epoch: 13, Batch: 650, Loss: 1.7964, Accuracy: 0.6274\n",
            "Epoch: 13, Batch: 700, Loss: 1.7997, Accuracy: 0.6270\n",
            "Epoch: 13, Batch: 750, Loss: 1.8025, Accuracy: 0.6266\n",
            "Epoch: 13, Batch: 800, Loss: 1.8058, Accuracy: 0.6262\n",
            "Epoch: 13, Loss: 1.8064, Accuracy: 0.6261\n",
            "Time Taken for 1 epoch: 102.32 secs.\n",
            "\n",
            "Epoch: 14, Batch: 0, Loss: 1.7682, Accuracy: 0.6324\n",
            "Epoch: 14, Batch: 50, Loss: 1.7151, Accuracy: 0.6394\n",
            "Epoch: 14, Batch: 100, Loss: 1.7033, Accuracy: 0.6421\n",
            "Epoch: 14, Batch: 150, Loss: 1.7112, Accuracy: 0.6394\n",
            "Epoch: 14, Batch: 200, Loss: 1.7147, Accuracy: 0.6391\n",
            "Epoch: 14, Batch: 250, Loss: 1.7168, Accuracy: 0.6391\n",
            "Epoch: 14, Batch: 300, Loss: 1.7188, Accuracy: 0.6390\n",
            "Epoch: 14, Batch: 350, Loss: 1.7202, Accuracy: 0.6387\n",
            "Epoch: 14, Batch: 400, Loss: 1.7201, Accuracy: 0.6389\n",
            "Epoch: 14, Batch: 450, Loss: 1.7218, Accuracy: 0.6387\n",
            "Epoch: 14, Batch: 500, Loss: 1.7236, Accuracy: 0.6384\n",
            "Epoch: 14, Batch: 550, Loss: 1.7243, Accuracy: 0.6384\n",
            "Epoch: 14, Batch: 600, Loss: 1.7267, Accuracy: 0.6380\n",
            "Epoch: 14, Batch: 650, Loss: 1.7283, Accuracy: 0.6378\n",
            "Epoch: 14, Batch: 700, Loss: 1.7300, Accuracy: 0.6374\n",
            "Epoch: 14, Batch: 750, Loss: 1.7331, Accuracy: 0.6369\n",
            "Epoch: 14, Batch: 800, Loss: 1.7365, Accuracy: 0.6366\n",
            "Epoch: 14, Loss: 1.7361, Accuracy: 0.6366\n",
            "Time Taken for 1 epoch: 102.75 secs.\n",
            "\n",
            "Epoch: 15, Batch: 0, Loss: 1.5579, Accuracy: 0.6605\n",
            "Epoch: 15, Batch: 50, Loss: 1.6450, Accuracy: 0.6495\n",
            "Epoch: 15, Batch: 100, Loss: 1.6415, Accuracy: 0.6491\n",
            "Epoch: 15, Batch: 150, Loss: 1.6463, Accuracy: 0.6487\n",
            "Epoch: 15, Batch: 200, Loss: 1.6430, Accuracy: 0.6496\n",
            "Epoch: 15, Batch: 250, Loss: 1.6436, Accuracy: 0.6496\n",
            "Epoch: 15, Batch: 300, Loss: 1.6471, Accuracy: 0.6495\n",
            "Epoch: 15, Batch: 350, Loss: 1.6510, Accuracy: 0.6491\n",
            "Epoch: 15, Batch: 400, Loss: 1.6561, Accuracy: 0.6482\n",
            "Epoch: 15, Batch: 450, Loss: 1.6555, Accuracy: 0.6485\n",
            "Epoch: 15, Batch: 500, Loss: 1.6578, Accuracy: 0.6478\n",
            "Epoch: 15, Batch: 550, Loss: 1.6594, Accuracy: 0.6478\n",
            "Epoch: 15, Batch: 600, Loss: 1.6610, Accuracy: 0.6475\n",
            "Epoch: 15, Batch: 650, Loss: 1.6643, Accuracy: 0.6471\n",
            "Epoch: 15, Batch: 700, Loss: 1.6691, Accuracy: 0.6463\n",
            "Epoch: 15, Batch: 750, Loss: 1.6713, Accuracy: 0.6459\n",
            "Epoch: 15, Batch: 800, Loss: 1.6739, Accuracy: 0.6457\n",
            "Saving Checkpoint for epoch 15 at ./checkpoints/train/ckpt-3.\n",
            "Epoch: 15, Loss: 1.6736, Accuracy: 0.6458\n",
            "Time Taken for 1 epoch: 103.00 secs.\n",
            "\n",
            "Epoch: 16, Batch: 0, Loss: 1.5588, Accuracy: 0.6641\n",
            "Epoch: 16, Batch: 50, Loss: 1.5851, Accuracy: 0.6586\n",
            "Epoch: 16, Batch: 100, Loss: 1.5815, Accuracy: 0.6595\n",
            "Epoch: 16, Batch: 150, Loss: 1.5851, Accuracy: 0.6589\n",
            "Epoch: 16, Batch: 200, Loss: 1.5809, Accuracy: 0.6604\n",
            "Epoch: 16, Batch: 250, Loss: 1.5873, Accuracy: 0.6590\n",
            "Epoch: 16, Batch: 300, Loss: 1.5895, Accuracy: 0.6587\n",
            "Epoch: 16, Batch: 350, Loss: 1.5926, Accuracy: 0.6583\n",
            "Epoch: 16, Batch: 400, Loss: 1.5992, Accuracy: 0.6573\n",
            "Epoch: 16, Batch: 450, Loss: 1.6016, Accuracy: 0.6568\n",
            "Epoch: 16, Batch: 500, Loss: 1.6037, Accuracy: 0.6565\n",
            "Epoch: 16, Batch: 550, Loss: 1.6053, Accuracy: 0.6561\n",
            "Epoch: 16, Batch: 600, Loss: 1.6071, Accuracy: 0.6559\n",
            "Epoch: 16, Batch: 650, Loss: 1.6105, Accuracy: 0.6555\n",
            "Epoch: 16, Batch: 700, Loss: 1.6128, Accuracy: 0.6550\n",
            "Epoch: 16, Batch: 750, Loss: 1.6162, Accuracy: 0.6545\n",
            "Epoch: 16, Batch: 800, Loss: 1.6195, Accuracy: 0.6541\n",
            "Epoch: 16, Loss: 1.6195, Accuracy: 0.6540\n",
            "Time Taken for 1 epoch: 103.23 secs.\n",
            "\n",
            "Epoch: 17, Batch: 0, Loss: 1.4691, Accuracy: 0.6805\n",
            "Epoch: 17, Batch: 50, Loss: 1.5048, Accuracy: 0.6728\n",
            "Epoch: 17, Batch: 100, Loss: 1.5185, Accuracy: 0.6707\n",
            "Epoch: 17, Batch: 150, Loss: 1.5242, Accuracy: 0.6696\n",
            "Epoch: 17, Batch: 200, Loss: 1.5380, Accuracy: 0.6670\n",
            "Epoch: 17, Batch: 250, Loss: 1.5372, Accuracy: 0.6672\n",
            "Epoch: 17, Batch: 300, Loss: 1.5418, Accuracy: 0.6661\n",
            "Epoch: 17, Batch: 350, Loss: 1.5472, Accuracy: 0.6651\n",
            "Epoch: 17, Batch: 400, Loss: 1.5492, Accuracy: 0.6648\n",
            "Epoch: 17, Batch: 450, Loss: 1.5514, Accuracy: 0.6643\n",
            "Epoch: 17, Batch: 500, Loss: 1.5545, Accuracy: 0.6637\n",
            "Epoch: 17, Batch: 550, Loss: 1.5575, Accuracy: 0.6633\n",
            "Epoch: 17, Batch: 600, Loss: 1.5597, Accuracy: 0.6631\n",
            "Epoch: 17, Batch: 650, Loss: 1.5621, Accuracy: 0.6627\n",
            "Epoch: 17, Batch: 700, Loss: 1.5660, Accuracy: 0.6622\n",
            "Epoch: 17, Batch: 750, Loss: 1.5703, Accuracy: 0.6616\n",
            "Epoch: 17, Batch: 800, Loss: 1.5731, Accuracy: 0.6612\n",
            "Epoch: 17, Loss: 1.5730, Accuracy: 0.6613\n",
            "Time Taken for 1 epoch: 102.57 secs.\n",
            "\n",
            "Epoch: 18, Batch: 0, Loss: 1.4729, Accuracy: 0.6736\n",
            "Epoch: 18, Batch: 50, Loss: 1.4898, Accuracy: 0.6747\n",
            "Epoch: 18, Batch: 100, Loss: 1.4981, Accuracy: 0.6733\n",
            "Epoch: 18, Batch: 150, Loss: 1.4996, Accuracy: 0.6732\n",
            "Epoch: 18, Batch: 200, Loss: 1.5037, Accuracy: 0.6723\n",
            "Epoch: 18, Batch: 250, Loss: 1.5016, Accuracy: 0.6727\n",
            "Epoch: 18, Batch: 300, Loss: 1.5015, Accuracy: 0.6728\n",
            "Epoch: 18, Batch: 350, Loss: 1.5026, Accuracy: 0.6724\n",
            "Epoch: 18, Batch: 400, Loss: 1.5047, Accuracy: 0.6721\n",
            "Epoch: 18, Batch: 450, Loss: 1.5057, Accuracy: 0.6718\n",
            "Epoch: 18, Batch: 500, Loss: 1.5083, Accuracy: 0.6711\n",
            "Epoch: 18, Batch: 550, Loss: 1.5108, Accuracy: 0.6710\n",
            "Epoch: 18, Batch: 600, Loss: 1.5144, Accuracy: 0.6703\n",
            "Epoch: 18, Batch: 650, Loss: 1.5184, Accuracy: 0.6697\n",
            "Epoch: 18, Batch: 700, Loss: 1.5201, Accuracy: 0.6694\n",
            "Epoch: 18, Batch: 750, Loss: 1.5219, Accuracy: 0.6692\n",
            "Epoch: 18, Batch: 800, Loss: 1.5254, Accuracy: 0.6688\n",
            "Epoch: 18, Loss: 1.5253, Accuracy: 0.6689\n",
            "Time Taken for 1 epoch: 103.20 secs.\n",
            "\n",
            "Epoch: 19, Batch: 0, Loss: 1.4730, Accuracy: 0.6744\n",
            "Epoch: 19, Batch: 50, Loss: 1.4303, Accuracy: 0.6839\n",
            "Epoch: 19, Batch: 100, Loss: 1.4425, Accuracy: 0.6821\n",
            "Epoch: 19, Batch: 150, Loss: 1.4562, Accuracy: 0.6797\n",
            "Epoch: 19, Batch: 200, Loss: 1.4510, Accuracy: 0.6804\n",
            "Epoch: 19, Batch: 250, Loss: 1.4534, Accuracy: 0.6799\n",
            "Epoch: 19, Batch: 300, Loss: 1.4565, Accuracy: 0.6796\n",
            "Epoch: 19, Batch: 350, Loss: 1.4605, Accuracy: 0.6790\n",
            "Epoch: 19, Batch: 400, Loss: 1.4645, Accuracy: 0.6782\n",
            "Epoch: 19, Batch: 450, Loss: 1.4669, Accuracy: 0.6777\n",
            "Epoch: 19, Batch: 500, Loss: 1.4691, Accuracy: 0.6775\n",
            "Epoch: 19, Batch: 550, Loss: 1.4733, Accuracy: 0.6767\n",
            "Epoch: 19, Batch: 600, Loss: 1.4749, Accuracy: 0.6767\n",
            "Epoch: 19, Batch: 650, Loss: 1.4795, Accuracy: 0.6760\n",
            "Epoch: 19, Batch: 700, Loss: 1.4825, Accuracy: 0.6755\n",
            "Epoch: 19, Batch: 750, Loss: 1.4838, Accuracy: 0.6753\n",
            "Epoch: 19, Batch: 800, Loss: 1.4870, Accuracy: 0.6749\n",
            "Epoch: 19, Loss: 1.4877, Accuracy: 0.6748\n",
            "Time Taken for 1 epoch: 103.67 secs.\n",
            "\n",
            "Epoch: 20, Batch: 0, Loss: 1.4405, Accuracy: 0.6819\n",
            "Epoch: 20, Batch: 50, Loss: 1.4228, Accuracy: 0.6844\n",
            "Epoch: 20, Batch: 100, Loss: 1.4170, Accuracy: 0.6862\n",
            "Epoch: 20, Batch: 150, Loss: 1.4072, Accuracy: 0.6879\n",
            "Epoch: 20, Batch: 200, Loss: 1.4106, Accuracy: 0.6871\n",
            "Epoch: 20, Batch: 250, Loss: 1.4148, Accuracy: 0.6864\n",
            "Epoch: 20, Batch: 300, Loss: 1.4228, Accuracy: 0.6848\n",
            "Epoch: 20, Batch: 350, Loss: 1.4269, Accuracy: 0.6843\n",
            "Epoch: 20, Batch: 400, Loss: 1.4317, Accuracy: 0.6838\n",
            "Epoch: 20, Batch: 450, Loss: 1.4361, Accuracy: 0.6828\n",
            "Epoch: 20, Batch: 500, Loss: 1.4400, Accuracy: 0.6821\n",
            "Epoch: 20, Batch: 550, Loss: 1.4416, Accuracy: 0.6819\n",
            "Epoch: 20, Batch: 600, Loss: 1.4425, Accuracy: 0.6818\n",
            "Epoch: 20, Batch: 650, Loss: 1.4463, Accuracy: 0.6813\n",
            "Epoch: 20, Batch: 700, Loss: 1.4485, Accuracy: 0.6810\n",
            "Epoch: 20, Batch: 750, Loss: 1.4491, Accuracy: 0.6810\n",
            "Epoch: 20, Batch: 800, Loss: 1.4513, Accuracy: 0.6807\n",
            "Saving Checkpoint for epoch 20 at ./checkpoints/train/ckpt-4.\n",
            "Epoch: 20, Loss: 1.4518, Accuracy: 0.6807\n",
            "Time Taken for 1 epoch: 104.11 secs.\n",
            "\n"
          ],
          "name": "stdout"
        }
      ]
    },
    {
      "cell_type": "markdown",
      "metadata": {
        "id": "OP-94H7wmY40"
      },
      "source": [
        "## Evaluate\n",
        "\n",
        "Steps:\n",
        "- Encode the input (portuguese) statement using  `pt` tokenizer.\n",
        "- Decoder input is initialized to  `[START]` token.\n",
        "- Calculate Padding and Look Ahead Masks.\n",
        "- The `decoder` predicts using the encoder output and its own output (self-attention).\n",
        "- The model is predicting output from each input word, which is useless and only output from the last word should be used.\n",
        "- Concatenate the predicted word to the decoder input and pass it to the decoder.\n",
        "- In this approach the decoder predicts the next word based on the previous words it predicted."
      ]
    },
    {
      "cell_type": "code",
      "metadata": {
        "colab": {
          "base_uri": "https://localhost:8080/"
        },
        "id": "NFZnl8uzquPA",
        "outputId": "861e9813-50f6-436c-d1b5-b4354b7f0b3f"
      },
      "source": [
        "# Context for Start and End for below snippet\n",
        "tokenizers.en.tokenize([''])"
      ],
      "execution_count": 70,
      "outputs": [
        {
          "output_type": "execute_result",
          "data": {
            "text/plain": [
              "<tf.RaggedTensor [[2, 3]]>"
            ]
          },
          "metadata": {
            "tags": []
          },
          "execution_count": 70
        }
      ]
    },
    {
      "cell_type": "code",
      "metadata": {
        "id": "FxKCdiBEmYgt"
      },
      "source": [
        "def evaluate(sentence, max_length = 40):\n",
        "\n",
        "  ## Converting sentence to PT tokens\n",
        "  sentence = tf.convert_to_tensor([sentence])\n",
        "  sentence = tokenizers.pt.tokenize(sentence).to_tensor()\n",
        "\n",
        "  encoder_input = sentence\n",
        "\n",
        "  ## Look the cell above\n",
        "  start, end = tokenizers.en.tokenize([''])[0]\n",
        "\n",
        "  output = tf.convert_to_tensor([start])\n",
        "  output = tf.expand_dims(output, 0)\n",
        "\n",
        "  for  i in range(max_length):\n",
        "    enc_padding_mask, combined_mask, dec_padding_mask = create_mask(\n",
        "        encoder_input, output\n",
        "    )\n",
        "\n",
        "    predictions, attention_weights = transformer(encoder_input,\n",
        "                                                 output,\n",
        "                                                 True,\n",
        "                                                 enc_padding_mask,\n",
        "                                                 combined_mask,\n",
        "                                                 dec_padding_mask)\n",
        "    \n",
        "    # Selecting the last word\n",
        "    predictions = predictions[:, -1:, :]\n",
        "\n",
        "    predicted_id = tf.argmax(predictions, axis=-1)\n",
        "\n",
        "    # Concatenate the predicted_id to the output as an input to the decoder\n",
        "    output = tf.concat([output, predicted_id], axis=-1)\n",
        "\n",
        "    ## If the predicted_id is end token, return result.\n",
        "    if predicted_id == end:\n",
        "      break\n",
        "\n",
        "  text = tokenizers.en.detokenize(output)[0]\n",
        "  tokens = tokenizers.en.lookup(output)[0]\n",
        "\n",
        "  return text, tokens, attention_weights\n"
      ],
      "execution_count": 75,
      "outputs": []
    },
    {
      "cell_type": "code",
      "metadata": {
        "id": "urda7-oKmYa7"
      },
      "source": [
        "def print_translation(sentence, tokens, gt):\n",
        "  print(f'{\"Input\":15s}: {sentence}')\n",
        "  print(f'{\"Predictions\":15s}: {tokens.numpy().decode(\"utf-8\")}')\n",
        "  print(f'{\"Ground Truth\":15s}: {gt}')"
      ],
      "execution_count": 72,
      "outputs": []
    },
    {
      "cell_type": "code",
      "metadata": {
        "id": "gjgOOTcRmYQZ"
      },
      "source": [
        "example_dict = {\n",
        "    \"sentence\":[\n",
        "                \"este é um problema que temos que resolver.\",\n",
        "                \"os meus vizinhos ouviram sobre esta ideia.\",\n",
        "                \"vou então muito rapidamente partilhar convosco algumas histórias de algumas coisas mágicas que aconteceram.\"\n",
        "    ],\n",
        "    \"ground_truth\": [\n",
        "                \"this is a problem we have to solve .\",\n",
        "                \"and my neighboring homes heard about this idea .\",\n",
        "                \"so i \\'ll just share with you some stories very quickly of some magical things that have happened .\"                     \n",
        "    ]\n",
        "}"
      ],
      "execution_count": 87,
      "outputs": []
    },
    {
      "cell_type": "code",
      "metadata": {
        "id": "JWLCkrcQv7F0"
      },
      "source": [
        "def translate(example_dict):\n",
        "  for (sentence, gt) in zip(example_dict[\"sentence\"],example_dict[\"ground_truth\"]):\n",
        "    translated_text, translated_tokens, attention_weights = evaluate(sentence)\n",
        "    print_translation(sentence, translated_text, gt)\n",
        "    print()"
      ],
      "execution_count": 116,
      "outputs": []
    },
    {
      "cell_type": "code",
      "metadata": {
        "colab": {
          "base_uri": "https://localhost:8080/"
        },
        "id": "XXjaj1sQw9Rz",
        "outputId": "e6282abd-6223-40ee-d6b6-80f749caf0f5"
      },
      "source": [
        "translate(example_dict)"
      ],
      "execution_count": 117,
      "outputs": [
        {
          "output_type": "stream",
          "text": [
            "Input          : este é um problema que temos que resolver.\n",
            "Predictions    : this is a problem that we have to fix .\n",
            "Ground Truth   : this is a problem we have to solve .\n",
            "\n",
            "Input          : os meus vizinhos ouviram sobre esta ideia.\n",
            "Predictions    : my neighbors heard about this idea .\n",
            "Ground Truth   : and my neighboring homes heard about this idea .\n",
            "\n",
            "Input          : vou então muito rapidamente partilhar convosco algumas histórias de algumas coisas mágicas que aconteceram.\n",
            "Predictions    : so i ' m going to share a lot of with you some stories of some magical stuff that happened .\n",
            "Ground Truth   : so i 'll just share with you some stories very quickly of some magical things that have happened .\n",
            "\n"
          ],
          "name": "stdout"
        }
      ]
    },
    {
      "cell_type": "markdown",
      "metadata": {
        "id": "bSYHuMCFumzk"
      },
      "source": [
        "## Attention Plots\n",
        "\n",
        "\n"
      ]
    },
    {
      "cell_type": "code",
      "metadata": {
        "id": "t4lNIARCx4ly"
      },
      "source": [
        "sentence = \"este é um problema que temos que resolver.\"\n",
        "gt = \"this is a problem we have to solve .\""
      ],
      "execution_count": 106,
      "outputs": []
    },
    {
      "cell_type": "code",
      "metadata": {
        "colab": {
          "base_uri": "https://localhost:8080/"
        },
        "id": "UqBzIOYix4bF",
        "outputId": "0dd568ee-d4b8-4dda-a530-055285ddb67e"
      },
      "source": [
        "translated_text, translated_tokens, attention_weights = evaluate(sentence)\n",
        "print_translation(sentence, translated_text, ground_truth)"
      ],
      "execution_count": 107,
      "outputs": [
        {
          "output_type": "stream",
          "text": [
            "Input          : este é um problema que temos que resolver.\n",
            "Predictions    : this is a problem that we have to do .\n",
            "Ground Truth   : I read about triceratops in the encyclopedia.\n"
          ],
          "name": "stdout"
        }
      ]
    },
    {
      "cell_type": "code",
      "metadata": {
        "id": "rFuLftAltAev"
      },
      "source": [
        "def plot_attention_head(in_tokens, translated_tokens, attention):\n",
        "\n",
        "  # Skipping the <START> TOKEN\n",
        "  translated_tokens = translated_tokens[1:]\n",
        "\n",
        "  ax = plt.gca()\n",
        "  ax.matshow(attention)\n",
        "  ax.set_xticks(range(len(in_tokens)))\n",
        "  ax.set_yticks(range(len(translated_tokens)))\n",
        "\n",
        "  labels = [label.decode('utf-8') for label in in_tokens.numpy()]\n",
        "  ax.set_xticklabels(labels, rotation=90)\n",
        "\n",
        "  labels = [label.decode('utf-8') for label in translated_tokens.numpy()]\n",
        "  ax.set_yticklabels(labels)\n"
      ],
      "execution_count": 108,
      "outputs": []
    },
    {
      "cell_type": "code",
      "metadata": {
        "colab": {
          "base_uri": "https://localhost:8080/"
        },
        "id": "bnfg4Gg9umY8",
        "outputId": "0cabf016-823d-4f5d-af73-6bffeeaf77ad"
      },
      "source": [
        "head = 0\n",
        "attention_heads = tf.squeeze(\n",
        "    attention_weights['decoder_layer4_block2'], 0\n",
        ")\n",
        "attention = attention_heads[head]\n",
        "attention.shape"
      ],
      "execution_count": 109,
      "outputs": [
        {
          "output_type": "execute_result",
          "data": {
            "text/plain": [
              "TensorShape([11, 11])"
            ]
          },
          "metadata": {
            "tags": []
          },
          "execution_count": 109
        }
      ]
    },
    {
      "cell_type": "code",
      "metadata": {
        "colab": {
          "base_uri": "https://localhost:8080/"
        },
        "id": "TANiZTbKtAbc",
        "outputId": "55d7e86d-d421-4b12-b1f4-9fbdb61d1086"
      },
      "source": [
        "in_tokens = tf.convert_to_tensor([sentence])\n",
        "in_tokens = tokenizers.pt.tokenize(in_tokens).to_tensor()\n",
        "in_tokens = tokenizers.pt.lookup(in_tokens)[0]\n",
        "in_tokens"
      ],
      "execution_count": 110,
      "outputs": [
        {
          "output_type": "execute_result",
          "data": {
            "text/plain": [
              "<tf.Tensor: shape=(11,), dtype=string, numpy=\n",
              "array([b'[START]', b'este', b'e', b'um', b'problema', b'que', b'temos',\n",
              "       b'que', b'resolver', b'.', b'[END]'], dtype=object)>"
            ]
          },
          "metadata": {
            "tags": []
          },
          "execution_count": 110
        }
      ]
    },
    {
      "cell_type": "code",
      "metadata": {
        "colab": {
          "base_uri": "https://localhost:8080/"
        },
        "id": "nmNBijdqydmr",
        "outputId": "98585f55-4bbd-438d-e6a9-aec205ccdab7"
      },
      "source": [
        "translated_tokens"
      ],
      "execution_count": 111,
      "outputs": [
        {
          "output_type": "execute_result",
          "data": {
            "text/plain": [
              "<tf.Tensor: shape=(12,), dtype=string, numpy=\n",
              "array([b'[START]', b'this', b'is', b'a', b'problem', b'that', b'we',\n",
              "       b'have', b'to', b'do', b'.', b'[END]'], dtype=object)>"
            ]
          },
          "metadata": {
            "tags": []
          },
          "execution_count": 111
        }
      ]
    },
    {
      "cell_type": "code",
      "metadata": {
        "colab": {
          "base_uri": "https://localhost:8080/",
          "height": 306
        },
        "id": "pb3VhryOydPU",
        "outputId": "b0ac4713-c224-48c1-90cc-5eb38a493811"
      },
      "source": [
        "plot_attention_head(in_tokens, translated_tokens, attention)"
      ],
      "execution_count": 112,
      "outputs": [
        {
          "output_type": "display_data",
          "data": {
            "image/png": "[encoded data removed]",
            "text/plain": [
              "<Figure size 432x288 with 1 Axes>"
            ]
          },
          "metadata": {
            "tags": [],
            "needs_background": "light"
          }
        }
      ]
    },
    {
      "cell_type": "code",
      "metadata": {
        "id": "Naq8VDKryc7H"
      },
      "source": [
        "def plot_attention_weights(sentence, translated_tokens, attention_heads):\n",
        "  in_tokens = tf.convert_to_tensor([sentence])\n",
        "  in_tokens = tokenizers.pt.tokenize(in_tokens).to_tensor()\n",
        "  in_tokens = tokenizers.pt.lookup(in_tokens)[0]\n",
        "  in_tokens\n",
        "\n",
        "  fig = plt.figure(figsize=(16,8))\n",
        "\n",
        "  for h, head in enumerate(attention_heads):\n",
        "    ax = fig.add_subplot(2, 4, h+1)\n",
        "    plot_attention_head(in_tokens, translated_tokens, head)\n",
        "    ax.set_xlabel(f'Head: {h+1}')\n",
        "\n",
        "  plt.tight_layout()\n",
        "  plt.show()"
      ],
      "execution_count": 113,
      "outputs": []
    },
    {
      "cell_type": "code",
      "metadata": {
        "colab": {
          "base_uri": "https://localhost:8080/",
          "height": 589
        },
        "id": "NWMhTHEgzXGn",
        "outputId": "86327d67-6678-4417-c001-b8fa2b82f0e0"
      },
      "source": [
        "plot_attention_weights(sentence, translated_tokens, \n",
        "                      attention_weights['decoder_layer4_block2'][0])"
      ],
      "execution_count": 114,
      "outputs": [
        {
          "output_type": "display_data",
          "data": {
            "image/png": "[encoded data removed]",
            "text/plain": [
              "<Figure size 1152x576 with 8 Axes>"
            ]
          },
          "metadata": {
            "tags": [],
            "needs_background": "light"
          }
        }
      ]
    },
    {
      "cell_type": "code",
      "metadata": {
        "colab": {
          "base_uri": "https://localhost:8080/",
          "height": 646
        },
        "id": "1ekg9GrJzzzO",
        "outputId": "93dc7489-60a2-44bc-846b-68f8910d7884"
      },
      "source": [
        "## One more example, which is not in the training set.\n",
        "sentence = \"Eu li sobre triceratops na enciclopédia.\"\n",
        "ground_truth = \"I read about triceratops in the encyclopedia.\"\n",
        "\n",
        "translated_text, translated_tokens, attention_weights = evaluate(sentence)\n",
        "print_translation(sentence, translated_text, ground_truth)\n",
        "\n",
        "plot_attention_weights(sentence, translated_tokens,\n",
        "                       attention_weights['decoder_layer4_block2'][0])"
      ],
      "execution_count": 115,
      "outputs": [
        {
          "output_type": "stream",
          "text": [
            "Input          : Eu li sobre triceratops na enciclopédia.\n",
            "Predictions    : i read about triophots on encyclolopedia .\n",
            "Ground Truth   : I read about triceratops in the encyclopedia.\n"
          ],
          "name": "stdout"
        },
        {
          "output_type": "display_data",
          "data": {
            "image/png": "[encoded data removed]",
            "text/plain": [
              "<Figure size 1152x576 with 8 Axes>"
            ]
          },
          "metadata": {
            "tags": [],
            "needs_background": "light"
          }
        }
      ]
    }
  ]
}