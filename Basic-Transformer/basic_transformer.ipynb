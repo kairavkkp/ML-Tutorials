{
  "nbformat": 4,
  "nbformat_minor": 0,
  "metadata": {
    "colab": {
      "name": "basic_transformer.ipynb",
      "provenance": [],
      "include_colab_link": true
    },
    "accelerator": "GPU",
    "language_info": {
      "name": "python"
    },
    "kernelspec": {
      "name": "python3",
      "display_name": "Python 3"
    }
  },
  "cells": [
    {
      "cell_type": "markdown",
      "metadata": {
        "id": "view-in-github",
        "colab_type": "text"
      },
      "source": [
        "<a href=\"https://colab.research.google.com/github/kairavkkp/ML-Tutorials/blob/basic-transformers/Basic-Transformer/basic_transformer.ipynb\" target=\"_parent\"><img src=\"https://colab.research.google.com/assets/colab-badge.svg\" alt=\"Open In Colab\"/></a>"
      ]
    },
    {
      "cell_type": "markdown",
      "metadata": {
        "id": "Dh8bhj25_JUQ"
      },
      "source": [
        "# Basic Transformer\n",
        "\n",
        "[Link](https://www.tensorflow.org/tutorials/text/transformer) to original tutorial."
      ]
    },
    {
      "cell_type": "code",
      "metadata": {
        "id": "NLtkyY9CHWhj",
        "colab": {
          "base_uri": "https://localhost:8080/"
        },
        "outputId": "2593ec47-c49a-49c4-e79b-1676c16e6968"
      },
      "source": [
        "from google.colab import drive\n",
        "drive.mount('/content/drive')"
      ],
      "execution_count": 1,
      "outputs": [
        {
          "output_type": "stream",
          "text": [
            "Mounted at /content/drive\n"
          ],
          "name": "stdout"
        }
      ]
    },
    {
      "cell_type": "code",
      "metadata": {
        "id": "3wx_DxxIFaH-",
        "colab": {
          "base_uri": "https://localhost:8080/"
        },
        "outputId": "388d969b-ab69-4517-ecfc-d5bbced0c269"
      },
      "source": [
        "!nvidia-smi"
      ],
      "execution_count": 2,
      "outputs": [
        {
          "output_type": "stream",
          "text": [
            "Thu Apr  1 08:09:36 2021       \n",
            "+-----------------------------------------------------------------------------+\n",
            "| NVIDIA-SMI 460.67       Driver Version: 460.32.03    CUDA Version: 11.2     |\n",
            "|-------------------------------+----------------------+----------------------+\n",
            "| GPU  Name        Persistence-M| Bus-Id        Disp.A | Volatile Uncorr. ECC |\n",
            "| Fan  Temp  Perf  Pwr:Usage/Cap|         Memory-Usage | GPU-Util  Compute M. |\n",
            "|                               |                      |               MIG M. |\n",
            "|===============================+======================+======================|\n",
            "|   0  Tesla K80           Off  | 00000000:00:04.0 Off |                    0 |\n",
            "| N/A   45C    P8    30W / 149W |      0MiB / 11441MiB |      0%      Default |\n",
            "|                               |                      |                  N/A |\n",
            "+-------------------------------+----------------------+----------------------+\n",
            "                                                                               \n",
            "+-----------------------------------------------------------------------------+\n",
            "| Processes:                                                                  |\n",
            "|  GPU   GI   CI        PID   Type   Process name                  GPU Memory |\n",
            "|        ID   ID                                                   Usage      |\n",
            "|=============================================================================|\n",
            "|  No running processes found                                                 |\n",
            "+-----------------------------------------------------------------------------+\n"
          ],
          "name": "stdout"
        }
      ]
    },
    {
      "cell_type": "code",
      "metadata": {
        "id": "i1QyRYeJ_JxQ",
        "colab": {
          "base_uri": "https://localhost:8080/"
        },
        "outputId": "f3860d7c-c707-4a99-d3ce-500ef5d54e53"
      },
      "source": [
        "!pip install -q tensorflow_datasets\n",
        "!pip install -q tensorflow_text"
      ],
      "execution_count": 3,
      "outputs": [
        {
          "output_type": "stream",
          "text": [
            "\u001b[K     |████████████████████████████████| 3.4MB 10.9MB/s \n",
            "\u001b[?25h"
          ],
          "name": "stdout"
        }
      ]
    },
    {
      "cell_type": "code",
      "metadata": {
        "id": "3yCODRy8D_NX"
      },
      "source": [
        "import tensorflow as tf\n",
        "import tensorflow_text as text\n",
        "import tensorflow_datasets as tfds\n",
        "import os\n",
        "import sys\n",
        "import numpy as np"
      ],
      "execution_count": 4,
      "outputs": []
    },
    {
      "cell_type": "code",
      "metadata": {
        "id": "OA8X-Ya4H9co"
      },
      "source": [
        "os.chdir('/content/drive/MyDrive/Basic-Transformer')"
      ],
      "execution_count": 5,
      "outputs": []
    },
    {
      "cell_type": "code",
      "metadata": {
        "id": "bAKgsXXzD_Kg"
      },
      "source": [
        "## Suppress Tensorflow warnings\n",
        "\n",
        "import logging\n",
        "logging.getLogger('tensorflow').setLevel(logging.ERROR)"
      ],
      "execution_count": 6,
      "outputs": []
    },
    {
      "cell_type": "code",
      "metadata": {
        "id": "x-QozTygEhr1"
      },
      "source": [
        "# Dataset Download\n",
        "# Portugese to English word translation\n",
        "examples, metadata = tfds.load('ted_hrlr_translate/pt_to_en', with_info=True, as_supervised=True)\n",
        "\n",
        "train_examples, val_examples = examples['train'], examples['validation']"
      ],
      "execution_count": null,
      "outputs": []
    },
    {
      "cell_type": "code",
      "metadata": {
        "id": "VZTekUqMEhof",
        "colab": {
          "base_uri": "https://localhost:8080/"
        },
        "outputId": "c5aa5caf-fe02-43f5-f363-51ffa9def353"
      },
      "source": [
        "# Snippet of what train_example looks like\n",
        "for pt_examples, en_examples in train_examples.batch(1).take(1):\n",
        "\n",
        "  print(\"Portuguese Example:\")\n",
        "  for pt in pt_examples.numpy():\n",
        "    print(pt.decode('utf-8'))\n",
        "\n",
        "  print(\"\\nEnglish Example:\")\n",
        "  for en in en_examples.numpy():\n",
        "    print(en.decode('utf-8'))"
      ],
      "execution_count": 8,
      "outputs": [
        {
          "output_type": "stream",
          "text": [
            "Portuguese Example:\n",
            "e quando melhoramos a procura , tiramos a única vantagem da impressão , que é a serendipidade .\n",
            "\n",
            "English Example:\n",
            "and when you improve searchability , you actually take away the one advantage of print , which is serendipity .\n"
          ],
          "name": "stdout"
        }
      ]
    },
    {
      "cell_type": "code",
      "metadata": {
        "id": "x4xE8DCIEhk6",
        "colab": {
          "base_uri": "https://localhost:8080/",
          "height": 35
        },
        "outputId": "bdb47a08-ea4f-4cf3-b6d4-cf932326cc4c"
      },
      "source": [
        "# Tokennization and detokenization\n",
        "\n",
        "model_name = \"ted_hrlr_translate_pt_en_converter\"\n",
        "tf.keras.utils.get_file(f\"{model_name}.zip\",\n",
        "                        f\"https://storage.googleapis.com/download.tensorflow.org/models/{model_name}.zip\",\n",
        "                        cache_dir='.', cache_subdir='.', extract=True)"
      ],
      "execution_count": 9,
      "outputs": [
        {
          "output_type": "execute_result",
          "data": {
            "application/vnd.google.colaboratory.intrinsic+json": {
              "type": "string"
            },
            "text/plain": [
              "'././ted_hrlr_translate_pt_en_converter.zip'"
            ]
          },
          "metadata": {
            "tags": []
          },
          "execution_count": 9
        }
      ]
    },
    {
      "cell_type": "code",
      "metadata": {
        "id": "cJQhi_gaEhZx"
      },
      "source": [
        "# Loading the tokenizers from the downloaded model\n",
        "tokenizers = tf.saved_model.load(model_name)"
      ],
      "execution_count": 10,
      "outputs": []
    },
    {
      "cell_type": "code",
      "metadata": {
        "id": "an-QuIQzIRyy",
        "colab": {
          "base_uri": "https://localhost:8080/"
        },
        "outputId": "6ac675c3-5c97-4c9c-8686-acdfae452bfe"
      },
      "source": [
        "# Let's look at the methods inherited by the Tokenizers\n",
        "\n",
        "# This is for the English tokenizer\n",
        "[item for item in dir(tokenizers.en) if not item.startswith('_')]"
      ],
      "execution_count": 11,
      "outputs": [
        {
          "output_type": "execute_result",
          "data": {
            "text/plain": [
              "['detokenize',\n",
              " 'get_reserved_tokens',\n",
              " 'get_vocab_path',\n",
              " 'get_vocab_size',\n",
              " 'lookup',\n",
              " 'tokenize',\n",
              " 'tokenizer',\n",
              " 'vocab']"
            ]
          },
          "metadata": {
            "tags": []
          },
          "execution_count": 11
        }
      ]
    },
    {
      "cell_type": "code",
      "metadata": {
        "id": "vjjd9GArIRvt",
        "colab": {
          "base_uri": "https://localhost:8080/"
        },
        "outputId": "d15239aa-4c4b-4242-fa6c-648f754d4d72"
      },
      "source": [
        "# This is for the Portuguese tokenizer\n",
        "[item for item in dir(tokenizers.pt) if not item.startswith('_')]"
      ],
      "execution_count": 12,
      "outputs": [
        {
          "output_type": "execute_result",
          "data": {
            "text/plain": [
              "['detokenize',\n",
              " 'get_reserved_tokens',\n",
              " 'get_vocab_path',\n",
              " 'get_vocab_size',\n",
              " 'lookup',\n",
              " 'tokenize',\n",
              " 'tokenizer',\n",
              " 'vocab']"
            ]
          },
          "metadata": {
            "tags": []
          },
          "execution_count": 12
        }
      ]
    },
    {
      "cell_type": "markdown",
      "metadata": {
        "id": "KvoSiiefJD7l"
      },
      "source": [
        "As we can see both the tokenizers inherit same methods. It'll be easy for us to perform similar operations on each texts in parallel."
      ]
    },
    {
      "cell_type": "code",
      "metadata": {
        "id": "SoQcuJv4IRrW",
        "colab": {
          "base_uri": "https://localhost:8080/"
        },
        "outputId": "d90a8e8d-9c97-4444-d2f8-080d81fa474c"
      },
      "source": [
        "print(\"Let's tokenize this string.\\n\")\n",
        "\n",
        "print(\"Non Tokenized String: \")\n",
        "for en in en_examples.numpy():\n",
        "  print(en.decode('utf-8'))\n",
        "\n",
        "print()\n",
        "\n",
        "# Encoding the string\n",
        "encoded = tokenizers.en.tokenize(en_examples)\n",
        "\n",
        "print(\"Tokenized string: \")\n",
        "for row in encoded.to_list():\n",
        "  print(row)\n",
        "print()\n",
        "\n",
        "print('Now, lets try to detokenize the string and see if we get back the original string back.\\n')\n",
        "\n",
        "# Decoding the string\n",
        "decoded = tokenizers.en.detokenize(encoded)\n",
        "\n",
        "print('Detokenized String:')\n",
        "for row in decoded.numpy():\n",
        "  print(row.decode('utf-8'))"
      ],
      "execution_count": 13,
      "outputs": [
        {
          "output_type": "stream",
          "text": [
            "Let's tokenize this string.\n",
            "\n",
            "Non Tokenized String: \n",
            "and when you improve searchability , you actually take away the one advantage of print , which is serendipity .\n",
            "\n",
            "Tokenized string: \n",
            "[2, 72, 117, 79, 1259, 1491, 2362, 13, 79, 150, 184, 311, 71, 103, 2308, 74, 2679, 13, 148, 80, 55, 4840, 1434, 2423, 540, 15, 3]\n",
            "\n",
            "Now, lets try to detokenize the string and see if we get back the original string back.\n",
            "\n",
            "Detokenized String:\n",
            "and when you improve searchability , you actually take away the one advantage of print , which is serendipity .\n"
          ],
          "name": "stdout"
        }
      ]
    },
    {
      "cell_type": "code",
      "metadata": {
        "id": "6Td3un-kIRoO",
        "colab": {
          "base_uri": "https://localhost:8080/"
        },
        "outputId": "60db7d20-657e-432d-8ef8-6476ec5dab8e"
      },
      "source": [
        "## We can use the lookup method to get the token-text from token-IDs\n",
        "\n",
        "tokens = tokenizers.en.lookup(encoded)\n",
        "tokens"
      ],
      "execution_count": 14,
      "outputs": [
        {
          "output_type": "execute_result",
          "data": {
            "text/plain": [
              "<tf.RaggedTensor [[b'[START]', b'and', b'when', b'you', b'improve', b'search', b'##ability', b',', b'you', b'actually', b'take', b'away', b'the', b'one', b'advantage', b'of', b'print', b',', b'which', b'is', b's', b'##ere', b'##nd', b'##ip', b'##ity', b'.', b'[END]']]>"
            ]
          },
          "metadata": {
            "tags": []
          },
          "execution_count": 14
        }
      ]
    },
    {
      "cell_type": "markdown",
      "metadata": {
        "id": "jPs4dwWwLDAK"
      },
      "source": [
        "We can see that the word `searchability` is tokenized in a sub-word manner. It is comprised of two tokens, namely `search` and `##ability`. Similarly it is the same for `serendipity`.\n"
      ]
    },
    {
      "cell_type": "markdown",
      "metadata": {
        "id": "IUYRSeskLcdx"
      },
      "source": [
        "## Setup Input pipeline\n"
      ]
    },
    {
      "cell_type": "code",
      "metadata": {
        "id": "9fM2mlxjIRhH"
      },
      "source": [
        "def tokenize_pairs(pt, en):\n",
        "  pt = tokenizers.pt.tokenize(pt)\n",
        "  pt = pt.to_tensor()\n",
        "\n",
        "  en = tokenizers.en.tokenize(en)\n",
        "  en = en.to_tensor()\n",
        "\n",
        "  return pt, en"
      ],
      "execution_count": 15,
      "outputs": []
    },
    {
      "cell_type": "code",
      "metadata": {
        "id": "LfoR-_dhIRd7"
      },
      "source": [
        "BUFFER_SIZE = 20000\n",
        "BATCH_SIZE = 64"
      ],
      "execution_count": 16,
      "outputs": []
    },
    {
      "cell_type": "code",
      "metadata": {
        "id": "AsdKoZbFIRaf"
      },
      "source": [
        "def make_batches(ds):\n",
        "  return (\n",
        "      ds.cache()\n",
        "      .shuffle(BUFFER_SIZE)\n",
        "      .batch(BATCH_SIZE)\n",
        "      .map(tokenize_pairs, num_parallel_calls=tf.data.AUTOTUNE)\n",
        "      .prefetch(tf.data.AUTOTUNE)\n",
        "  )"
      ],
      "execution_count": 17,
      "outputs": []
    },
    {
      "cell_type": "code",
      "metadata": {
        "id": "2ryjRZkQIRXG"
      },
      "source": [
        "# Preparing batches for Training and Validation\n",
        "train_batches = make_batches(train_examples)\n",
        "val_batches = make_batches(val_examples)"
      ],
      "execution_count": 18,
      "outputs": []
    },
    {
      "cell_type": "markdown",
      "metadata": {
        "id": "Q_EAHUuiMzDO"
      },
      "source": [
        "As we know that Transformers have a disadvantage that if the training set like text, doesn't have any positional encoding the transformers will just treat them as Bag of Words.\n",
        "\n",
        "### Positional Encoding\n",
        "\n",
        "$$PE_{(pos,2i)} = sin(pos/10000^{2i/d_{model}})$$\n",
        "\n",
        "$$PE_{(pos, 2i+1)} = cos(pos/10000^{2i/d_{model}})$$\n",
        "\n",
        "The positional encoding vector is added to the embedding vector. Embeddings represent a token in a d-dimensional space where tokens with similar meaning will be closer to each other. But the embeddings do not encode the relative position of words in a sentence. So after adding the positional encoding, words will be closer to each other based on the similarity of their meaning and their position in the sentence, in the d-dimensional space."
      ]
    },
    {
      "cell_type": "code",
      "metadata": {
        "id": "3jGtsXArIRII"
      },
      "source": [
        "# Creating Positional Encoding for the train examples.\n",
        "def get_angles(pos, i, d_model):\n",
        "  angle_rates = 1 / np.power(10000, (2 * (i // 2)) / np.float32(d_model))\n",
        "  return pos * angle_rates\n",
        "\n",
        "def positional_encoding(position, d_model):\n",
        "  angle_rads = get_angles(np.arange(position)[:, np.newaxis],\n",
        "                          np.arange(d_model)[np.newaxis, :],\n",
        "                          d_model)\n",
        "  ## handling PE for Even indices\n",
        "  angle_rads[:, 0::2] = np.sin(angle_rads[:, 0::2])\n",
        "\n",
        "  # handling PE for Odd indices\n",
        "  angle_rads[:, 1::2] = np.cos(angle_rads[:, 1::2])\n",
        "\n",
        "  pos_encoding = angle_rads[np.newaxis, ...]\n",
        "\n",
        "  return tf.cast(pos_encoding, dtype=tf.float32)\n"
      ],
      "execution_count": 19,
      "outputs": []
    },
    {
      "cell_type": "code",
      "metadata": {
        "id": "cLvQYUStQAQ1",
        "colab": {
          "base_uri": "https://localhost:8080/"
        },
        "outputId": "b11266e7-f488-4cbd-a9ce-74f0722c0a63"
      },
      "source": [
        "n, d = 2048, 512\n",
        "pos_encoding = positional_encoding(n, d)\n",
        "pos_encoding = pos_encoding[0]\n",
        "pos_encoding.shape"
      ],
      "execution_count": 29,
      "outputs": [
        {
          "output_type": "execute_result",
          "data": {
            "text/plain": [
              "TensorShape([2048, 512])"
            ]
          },
          "metadata": {
            "tags": []
          },
          "execution_count": 29
        }
      ]
    },
    {
      "cell_type": "markdown",
      "metadata": {
        "id": "MtjZxZwsQDuD"
      },
      "source": [
        ""
      ]
    },
    {
      "cell_type": "code",
      "metadata": {
        "id": "y3u-vUKcQAOL"
      },
      "source": [
        "# Inverting the dimensions for the plot\n",
        "pos_encoding = tf.reshape(pos_encoding, (n, d//2, 2)) ## Here d//2, will provide the output in integer format\n",
        "pos_encoding = tf.transpose(pos_encoding, (2, 1, 0))\n",
        "pos_encoding = tf.reshape(pos_encoding, (d, n))"
      ],
      "execution_count": 30,
      "outputs": []
    },
    {
      "cell_type": "code",
      "metadata": {
        "id": "mnneI8Rtfm2O"
      },
      "source": [
        "import matplotlib.pyplot as plt"
      ],
      "execution_count": 32,
      "outputs": []
    },
    {
      "cell_type": "code",
      "metadata": {
        "colab": {
          "base_uri": "https://localhost:8080/",
          "height": 283
        },
        "id": "e9JH1ZeWfjvw",
        "outputId": "1be3ca72-1bc4-4a1d-9dbd-2e24dec8d406"
      },
      "source": [
        "plt.pcolormesh(pos_encoding, cmap='RdBu')\n",
        "plt.ylabel('Depth')\n",
        "plt.xlabel('Position')\n",
        "plt.colorbar()\n",
        "plt.show()"
      ],
      "execution_count": 33,
      "outputs": [
        {
          "output_type": "display_data",
          "data": {
            "image/png": "[encoded data removed]",
            "text/plain": [
              "<Figure size 432x288 with 2 Axes>"
            ]
          },
          "metadata": {
            "tags": [],
            "needs_background": "light"
          }
        }
      ]
    },
    {
      "cell_type": "markdown",
      "metadata": {
        "id": "P6HqirG2gmja"
      },
      "source": [
        "## Masking\n",
        "\n",
        "Since we added padding, we don't want our model to treat padding as an input. To overcome this we'll introduce Masking. We'll create a Mask Tensor, which will have value `1.`, wherever there's padding added in our input sequence."
      ]
    },
    {
      "cell_type": "code",
      "metadata": {
        "id": "uFRwwBXfgZDW"
      },
      "source": [
        "def create_padding_mask(seq):\n",
        "  seq = tf.cast(tf.math.equal(seq, 0), tf.float32)\n",
        "\n",
        "  return seq[:, tf.newaxis, tf.newaxis, :] # (batch_size, 1, 1, seq_len)"
      ],
      "execution_count": 38,
      "outputs": []
    },
    {
      "cell_type": "code",
      "metadata": {
        "colab": {
          "base_uri": "https://localhost:8080/"
        },
        "id": "mw_FmkZRhaCN",
        "outputId": "36db43e9-46f0-49c7-9c7f-83a5a2bcceee"
      },
      "source": [
        "# Trying to see the working of the above function\n",
        "\n",
        "x = tf.constant([[1,2,3,4,0],[2,1,0,1,0], [0,0,0,0,1]])\n",
        "create_padding_mask(x)"
      ],
      "execution_count": 39,
      "outputs": [
        {
          "output_type": "execute_result",
          "data": {
            "text/plain": [
              "<tf.Tensor: shape=(3, 1, 1, 5), dtype=float32, numpy=\n",
              "array([[[[0., 0., 0., 0., 1.]]],\n",
              "\n",
              "\n",
              "       [[[0., 0., 1., 0., 1.]]],\n",
              "\n",
              "\n",
              "       [[[1., 1., 1., 1., 0.]]]], dtype=float32)>"
            ]
          },
          "metadata": {
            "tags": []
          },
          "execution_count": 39
        }
      ]
    },
    {
      "cell_type": "markdown",
      "metadata": {
        "id": "kh5oOO2YiNkq"
      },
      "source": [
        "\n",
        "The look-ahead mask is used to mask the future tokens in a sequence. In other words, the mask indicates which entries should not be used.\n",
        "\n",
        "This means that to predict the third word, only the first and second word will be used. Similarly to predict the fourth word, only the first, second and the third word will be used and so on."
      ]
    },
    {
      "cell_type": "code",
      "metadata": {
        "id": "oWgJX1pGh2aD"
      },
      "source": [
        "def create_look_ahead_mask(size):\n",
        "  mask = 1 - tf.linalg.band_part(tf.ones((size,size)), -1, 0)\n",
        "\n",
        "  ## Info regarding \n",
        "  ## tf.linalg.band_part(input, 0, -1) ==> Upper triangular part.\n",
        "  ## tf.linalg.band_part(input, -1, 0) ==> Lower triangular part.\n",
        "  ## tf.linalg.band_part(input, 0, 0) ==> Diagonal.\n",
        "\n",
        "  ## Later,\n",
        "  ## Inversing 1->0 and 0->1.\n",
        "  return mask # dims: (size, size)"
      ],
      "execution_count": 53,
      "outputs": []
    },
    {
      "cell_type": "code",
      "metadata": {
        "colab": {
          "base_uri": "https://localhost:8080/"
        },
        "id": "0PeVZRSQjAD3",
        "outputId": "83830b93-dd18-484d-8a5c-ee64774fc556"
      },
      "source": [
        "x = tf.random.uniform((1,3))\n",
        "temp = create_look_ahead_mask(x.shape[1])\n",
        "temp"
      ],
      "execution_count": 52,
      "outputs": [
        {
          "output_type": "execute_result",
          "data": {
            "text/plain": [
              "<tf.Tensor: shape=(3, 3), dtype=float32, numpy=\n",
              "array([[0., 1., 1.],\n",
              "       [0., 0., 1.],\n",
              "       [0., 0., 0.]], dtype=float32)>"
            ]
          },
          "metadata": {
            "tags": []
          },
          "execution_count": 52
        }
      ]
    },
    {
      "cell_type": "markdown",
      "metadata": {
        "id": "BLJaDWvAjin_"
      },
      "source": [
        "As we can see here, that we are choosing the lower triangular region in this example, which helps in the look ahead stage, which words to choose and which not to choose."
      ]
    },
    {
      "cell_type": "markdown",
      "metadata": {
        "id": "5WMf01yrlGQJ"
      },
      "source": [
        "## Scaled Dot Product Attention\n",
        "\n",
        "The Attention Function is comprised of three vectors, namely, Query, Key and Value vectors. For more details, go through this [blog](https://towardsdatascience.com/transformers-89034557de14). \n",
        "\n",
        "The Formula to calculate Attention is:\n",
        "\n",
        "$$Attention(Q,K,V) = softmax_k\\left( \\dfrac{QK^T}{\\sqrt{d_k}} \\right ) V$$\n",
        "\n",
        "$d_k$ is used to scale the Dot Product between `Q` and `K`, in order to overcome vanishing gradients. `Q` and `K` will follow mean `0` and variance `1`, so their product will follow mean `1` and std $d_k$, So $\\sqrt{d_k}$ is used for scaling.\n",
        "\n",
        "<div align=\"center\">\n",
        "<img src=\"https://www.tensorflow.org/images/tutorials/transformer/scaled_attention.png\" />\n",
        "</div>"
      ]
    },
    {
      "cell_type": "code",
      "metadata": {
        "id": "JMBoe7VAkXNH"
      },
      "source": [
        "def scaled_dot_product_attention(q, k, v, mask):\n",
        "\n",
        "  ## Transpose_b is used to invert the k matrix\n",
        "  matmul_q_k = tf.matmul(q, k, transpose_b=True) ## (..., seq_len_q, seq_len_k)\n",
        "\n",
        "  dk = tf.cast(tf.shape(k)[-1], tf.float32) ## seq_len_k\n",
        "\n",
        "  scaled_attention_logits = matmul_q_k / tf.math.sqrt(dk)\n",
        "\n",
        "  if mask is not None:\n",
        "    scaled_attention_logits += (mask * -1e9) # -1e9 is close to negative infinity\n",
        "  \n",
        "  attention_weights = tf.nn.softmax(scaled_attention_logits, axis=-1) # (..., seq_len_q, seq_len_k)\n",
        "\n",
        "  output = tf.matmul(attention_weights, v)\n",
        "\n",
        "  return output, attention_weights"
      ],
      "execution_count": 54,
      "outputs": []
    },
    {
      "cell_type": "code",
      "metadata": {
        "id": "-8jz9IpjkYGE"
      },
      "source": [
        "def print_out(q, k, v):\n",
        "  temp_out, temp_attn = scaled_dot_product_attention(q, k, v, None)\n",
        "  print(\"Attention weights are:\")\n",
        "  print(temp_attn)\n",
        "  print(\"Output is:\")\n",
        "  print(temp_out)"
      ],
      "execution_count": 56,
      "outputs": []
    },
    {
      "cell_type": "code",
      "metadata": {
        "id": "FDEh9TpCkYCf"
      },
      "source": [
        "np.set_printoptions(suppress=True)"
      ],
      "execution_count": 58,
      "outputs": []
    },
    {
      "cell_type": "code",
      "metadata": {
        "colab": {
          "base_uri": "https://localhost:8080/"
        },
        "id": "G2oYWT1jkX_B",
        "outputId": "71a84568-37bf-48b3-ae9d-8223b8254a44"
      },
      "source": [
        "temp_k = tf.constant([[10, 0, 0],\n",
        "                      [0, 10, 0],\n",
        "                      [0, 0, 10],\n",
        "                      [0, 0, 10]], dtype=tf.float32)\n",
        "\n",
        "temp_v = tf.constant([[1,0],\n",
        "                      [10,0],\n",
        "                      [100,5],\n",
        "                      [1000,6]], dtype=tf.float32)\n",
        "\n",
        "print('This `query` aligns with the second `key`,so the second `value` is returned.\\n')\n",
        "temp_q = tf.constant([[0,10,0]], dtype=tf.float32)\n",
        "print_out(temp_q, temp_k, temp_v)\n",
        "\n",
        "print()\n",
        "\n",
        "print(\"This query aligns with a repeated key (third and fourth), so all associated values get averaged.\\n\")\n",
        "temp_q = tf.constant([[0,0,10]], dtype=tf.float32)\n",
        "print_out(temp_q, temp_k, temp_v)\n",
        "\n",
        "\n",
        "print()\n",
        "\n",
        "print(\"This query aligns equally with the first and second key, so their values get averaged.\\n\")\n",
        "temp_q = tf.constant([[10,10,0]], dtype=tf.float32)\n",
        "print_out(temp_q, temp_k, temp_v)\n",
        "\n",
        "\n",
        "print()\n",
        "\n",
        "print(\"Pass all the queries together.\\n\")\n",
        "temp_q = tf.constant([[10,10,0],\n",
        "                      [10,0,0],\n",
        "                      [0,10,0]], dtype=tf.float32)\n",
        "print_out(temp_q, temp_k, temp_v)\n"
      ],
      "execution_count": 74,
      "outputs": [
        {
          "output_type": "stream",
          "text": [
            "This `query` aligns with the second `key`,so the second `value` is returned.\n",
            "\n",
            "Attention weights are:\n",
            "tf.Tensor([[0. 1. 0. 0.]], shape=(1, 4), dtype=float32)\n",
            "Output is:\n",
            "tf.Tensor([[10.  0.]], shape=(1, 2), dtype=float32)\n",
            "\n",
            "This query aligns with a repeated key (third and fourth), so all associated values get averaged.\n",
            "\n",
            "Attention weights are:\n",
            "tf.Tensor([[0.  0.  0.5 0.5]], shape=(1, 4), dtype=float32)\n",
            "Output is:\n",
            "tf.Tensor([[550.    5.5]], shape=(1, 2), dtype=float32)\n",
            "\n",
            "This query aligns equally with the first and second key, so their values get averaged.\n",
            "\n",
            "Attention weights are:\n",
            "tf.Tensor([[0.5 0.5 0.  0. ]], shape=(1, 4), dtype=float32)\n",
            "Output is:\n",
            "tf.Tensor([[5.5 0. ]], shape=(1, 2), dtype=float32)\n",
            "\n",
            "Pass all the queries together.\n",
            "\n",
            "Attention weights are:\n",
            "tf.Tensor(\n",
            "[[0.5 0.5 0.  0. ]\n",
            " [1.  0.  0.  0. ]\n",
            " [0.  1.  0.  0. ]], shape=(3, 4), dtype=float32)\n",
            "Output is:\n",
            "tf.Tensor(\n",
            "[[ 5.5  0. ]\n",
            " [ 1.   0. ]\n",
            " [10.   0. ]], shape=(3, 2), dtype=float32)\n"
          ],
          "name": "stdout"
        }
      ]
    },
    {
      "cell_type": "markdown",
      "metadata": {
        "id": "Hu4PrF6xyFlO"
      },
      "source": [
        "## Multi-Head Attention\n",
        "\n",
        "- Linear Layers and spilt into Heads.\n",
        "- Scaled dot-product attention\n",
        "- Concatenation of heads\n",
        "- Final Linear Layer\n",
        "\n",
        "<div align=\"center\">\n",
        "\n",
        "<img src=\"https://www.tensorflow.org/images/tutorials/transformer/multi_head_attention.png\">\n",
        "</div>"
      ]
    },
    {
      "cell_type": "code",
      "metadata": {
        "id": "ZfWFfQWMtciU"
      },
      "source": [
        "class MultiHeadAttention(tf.keras.layers.Layer):\n",
        "  def __init__(self, d_model, num_heads):\n",
        "    super(MultiHeadAttention, self).__init__()\n",
        "    self.num_heads = num_heads\n",
        "    self.d_model = d_model\n",
        "\n",
        "    assert d_model % self.num_heads == 0\n",
        "    self.depth = d_model // self.num_heads # Value converts to Integer\n",
        "\n",
        "    self.wq = tf.keras.layers.Dense(d_model)\n",
        "    self.wk = tf.keras.layers.Dense(d_model)\n",
        "    self.wv = tf.keras.layers.Dense(d_model)\n",
        "\n",
        "    self.dense = tf.keras.layers.Dense(d_model)\n",
        "\n",
        "  def split_heads(self, x, batch_size):\n",
        "    \"\"\"\n",
        "    Should return a tensor of (batch_size, num_heads, seq_len, depth)\n",
        "    \"\"\"\n",
        "    x = tf.reshape(x, (batch_size, -1, self.num_heads, self.depth))\n",
        "    return tf.transpose(x, perm=[0, 2, 1, 3])\n",
        "\n",
        "  def call(self, v, k, q, mask):\n",
        "  \n",
        "    batch_size = tf.shape(q)[0]\n",
        "\n",
        "    q = self.wq(q)\n",
        "    k = self.wk(k)\n",
        "    v = self.wv(v)\n",
        "\n",
        "    q = self.split_heads(q, batch_size)\n",
        "    k = self.split_heads(k, batch_size)\n",
        "    v = self.split_heads(v, batch_size)\n",
        "\n",
        "    scaled_attention, attention_weights = scaled_dot_product_attention(q, k, v, mask)\n",
        "\n",
        "    scaled_attention = tf.transpose(scaled_attention, perm=[0, 2, 1, 3])\n",
        "    \n",
        "    concat_attention = tf.reshape(scaled_attention, (batch_size, -1, self.d_model))\n",
        "\n",
        "    output = self.dense(concat_attention)\n",
        "\n",
        "    return output, attention_weights\n"
      ],
      "execution_count": 120,
      "outputs": []
    },
    {
      "cell_type": "code",
      "metadata": {
        "colab": {
          "base_uri": "https://localhost:8080/"
        },
        "id": "DY6iRDBy20_R",
        "outputId": "f6aa87ea-8016-43e5-fbe6-54f4ad13aed0"
      },
      "source": [
        "## Lets try out the MHA class\n",
        "\n",
        "temp_mha = MultiHeadAttention(d_model=512, num_heads=8)\n",
        "y = tf.random.uniform((1, 60, 512))\n",
        "out, attn = temp_mha.call(y, k=y, q=y, mask=None)\n",
        "out.shape, attn.shape"
      ],
      "execution_count": 121,
      "outputs": [
        {
          "output_type": "execute_result",
          "data": {
            "text/plain": [
              "(TensorShape([1, 60, 512]), TensorShape([1, 8, 60, 60]))"
            ]
          },
          "metadata": {
            "tags": []
          },
          "execution_count": 121
        }
      ]
    },
    {
      "cell_type": "markdown",
      "metadata": {
        "id": "qLsyLCsjAlUB"
      },
      "source": [
        "## Point wise feed forward network\n"
      ]
    },
    {
      "cell_type": "code",
      "metadata": {
        "id": "4tyfWOhyAnpP"
      },
      "source": [
        "def point_wise_feed_forward_network(d_model, dff):\n",
        "  return tf.keras.Sequential([\n",
        "                              tf.keras.layers.Dense(dff, activation='relu'),\n",
        "                              tf.keras.layers.Dense(d_model)\n",
        "  ])"
      ],
      "execution_count": 123,
      "outputs": []
    },
    {
      "cell_type": "code",
      "metadata": {
        "colab": {
          "base_uri": "https://localhost:8080/"
        },
        "id": "o2vZTAJMAnl5",
        "outputId": "21961fdd-820b-4c22-fe91-168253be628e"
      },
      "source": [
        "## Testing PWFFN\n",
        "\n",
        "sample_ffn = point_wise_feed_forward_network(512, 2048)\n",
        "sample_ffn(tf.random.uniform((64, 50, 512))).shape"
      ],
      "execution_count": 125,
      "outputs": [
        {
          "output_type": "execute_result",
          "data": {
            "text/plain": [
              "TensorShape([64, 50, 512])"
            ]
          },
          "metadata": {
            "tags": []
          },
          "execution_count": 125
        }
      ]
    },
    {
      "cell_type": "markdown",
      "metadata": {
        "id": "84U8r3tKB9ix"
      },
      "source": [
        "## Encoder and Decoder\n",
        "\n",
        "<div align=\"center\">\n",
        "\n",
        "<img src=\"https://www.tensorflow.org/images/tutorials/transformer/transformer.png\" >\n",
        "\n",
        "</div>"
      ]
    },
    {
      "cell_type": "code",
      "metadata": {
        "id": "LMZ4nROcAni3"
      },
      "source": [
        ""
      ],
      "execution_count": null,
      "outputs": []
    },
    {
      "cell_type": "code",
      "metadata": {
        "id": "hjplxudLAnfy"
      },
      "source": [
        ""
      ],
      "execution_count": null,
      "outputs": []
    },
    {
      "cell_type": "code",
      "metadata": {
        "id": "lnFR0zGTAnc3"
      },
      "source": [
        ""
      ],
      "execution_count": null,
      "outputs": []
    },
    {
      "cell_type": "code",
      "metadata": {
        "id": "032DUMQ020x3"
      },
      "source": [
        ""
      ],
      "execution_count": 122,
      "outputs": []
    },
    {
      "cell_type": "code",
      "metadata": {
        "id": "Uuk4SnND20tk"
      },
      "source": [
        ""
      ],
      "execution_count": null,
      "outputs": []
    }
  ]
}